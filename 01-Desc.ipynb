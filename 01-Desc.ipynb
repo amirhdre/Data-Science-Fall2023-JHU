{
 "cells": [
  {
   "cell_type": "markdown",
   "metadata": {
    "slideshow": {
     "slide_type": "slide"
    },
    "pycharm": {
     "name": "#%% md\n"
    }
   },
   "source": [
    "<hr/>\n",
    "\n",
    "# Introduction to Data Science\n",
    "**Tamás Budavári** - budavari@jhu.edu <br/>\n",
    "\n",
    "- Python and Jupyter Notebook \n",
    "- Location, dispersion\n",
    "\n",
    "<hr/>"
   ]
  },
  {
   "cell_type": "markdown",
   "metadata": {
    "slideshow": {
     "slide_type": "slide"
    },
    "pycharm": {
     "name": "#%% md\n"
    }
   },
   "source": [
    "<h1><font color=\"darkblue\">Descriptive Statistics</font></h1>"
   ]
  },
  {
   "cell_type": "markdown",
   "metadata": {
    "pycharm": {
     "name": "#%% md\n"
    }
   },
   "source": [
    "### Data Sets\n",
    "\n",
    "- For example, a set of $N$ scalar measurements \n",
    "\n",
    ">$ \\displaystyle \\big\\{x_i\\big\\}_{i=1}^N $"
   ]
  },
  {
   "cell_type": "markdown",
   "metadata": {
    "pycharm": {
     "name": "#%% md\n"
    }
   },
   "source": [
    "### How to characterize the data?\n",
    "- Location\n",
    "- Dispersion\n",
    "- Shape?"
   ]
  },
  {
   "cell_type": "markdown",
   "metadata": {
    "pycharm": {
     "name": "#%% md\n"
    }
   },
   "source": [
    "### Jupyter Notebook\n",
    "Interactive data analysis made easy"
   ]
  },
  {
   "cell_type": "code",
   "execution_count": null,
   "metadata": {
    "pycharm": {
     "name": "#%%\n"
    }
   },
   "outputs": [],
   "source": [
    "# useful modules we'll always need\n",
    "import numpy as np\n",
    "import matplotlib.pyplot as plt"
   ]
  },
  {
   "cell_type": "code",
   "execution_count": null,
   "metadata": {
    "pycharm": {
     "name": "#%%\n"
    }
   },
   "outputs": [],
   "source": [
    "%matplotlib inline "
   ]
  },
  {
   "cell_type": "code",
   "execution_count": null,
   "metadata": {
    "pycharm": {
     "name": "#%%\n"
    }
   },
   "outputs": [],
   "source": [
    "%matplotlib --list"
   ]
  },
  {
   "cell_type": "code",
   "execution_count": null,
   "metadata": {
    "pycharm": {
     "name": "#%%\n"
    }
   },
   "outputs": [],
   "source": [
    "N = 1000;\n",
    "x = np.random.randn(N);"
   ]
  },
  {
   "cell_type": "code",
   "execution_count": null,
   "metadata": {
    "pycharm": {
     "name": "#%%\n"
    }
   },
   "outputs": [],
   "source": [
    "print (x[0])"
   ]
  },
  {
   "cell_type": "code",
   "execution_count": null,
   "metadata": {
    "pycharm": {
     "name": "#%%\n"
    }
   },
   "outputs": [],
   "source": [
    "# indexing from 0\n",
    "print (\"%f, %f, ..., %f\" % (x[0], x[1], x[N-1]))\n",
    "\n",
    "# last element\n",
    "print (\"%f = %f\" % (x[N-1], x[-1]))"
   ]
  },
  {
   "cell_type": "code",
   "execution_count": null,
   "metadata": {
    "pycharm": {
     "name": "#%%\n"
    }
   },
   "outputs": [],
   "source": [
    "[i*i for i in range(5)]"
   ]
  },
  {
   "cell_type": "code",
   "execution_count": null,
   "metadata": {
    "pycharm": {
     "name": "#%%\n"
    }
   },
   "outputs": [],
   "source": [
    "# index out of bounds\n",
    "for i in range(N-3,N+1):\n",
    "    print (\"%d : \\t %r\" % (i, x[i]))"
   ]
  },
  {
   "cell_type": "code",
   "execution_count": null,
   "metadata": {
    "pycharm": {
     "name": "#%%\n"
    }
   },
   "outputs": [],
   "source": [
    "# error handling with exceptions\n",
    "for i in range(N-3,N+5):\n",
    "    try: \n",
    "        print (\"%d : \\t %r\" % (i, x[i]))\n",
    "    except IndexError as err: \n",
    "        print (err)"
   ]
  },
  {
   "cell_type": "code",
   "execution_count": null,
   "metadata": {
    "pycharm": {
     "name": "#%%\n"
    }
   },
   "outputs": [],
   "source": [
    "# as a function of the index\n",
    "plt.plot(x,'bo');"
   ]
  },
  {
   "cell_type": "code",
   "execution_count": null,
   "metadata": {
    "pycharm": {
     "name": "#%%\n"
    }
   },
   "outputs": [],
   "source": [
    "plt.plot(x,'bo', alpha=0.3);"
   ]
  },
  {
   "cell_type": "code",
   "execution_count": null,
   "metadata": {
    "pycharm": {
     "name": "#%%\n"
    }
   },
   "outputs": [],
   "source": [
    "# x vs y=x^2\n",
    "plt.plot(x, x*x, 'r.');"
   ]
  },
  {
   "cell_type": "code",
   "execution_count": null,
   "metadata": {
    "pycharm": {
     "name": "#%%\n"
    }
   },
   "outputs": [],
   "source": [
    "# x vs y=x^2\n",
    "plt.plot(x, x*x, 'r.-', lw=0.1);"
   ]
  },
  {
   "cell_type": "code",
   "execution_count": null,
   "metadata": {
    "pycharm": {
     "name": "#%%\n"
    }
   },
   "outputs": [],
   "source": [
    "h = plt.hist(x, 50)"
   ]
  },
  {
   "cell_type": "markdown",
   "metadata": {
    "pycharm": {
     "name": "#%% md\n"
    }
   },
   "source": [
    "### Location\n",
    "\n",
    "- Mode \n",
    "\n",
    "> where it peaks\n",
    "<br>\n",
    "> unimodal vs multimodal\n",
    "\n",
    "- Sample average\n",
    "\n",
    "> $\\displaystyle \\bar{x} = \\frac{1}{N} \\sum_{i=1}^N x_i$\n",
    "<br><br>\n",
    "> but indexing starts with 0 in Python and most computer languages\n",
    "<br><br>\n",
    "> $\\displaystyle \\bar{x} = \\frac{1}{N} \\sum_{i=0}^{N-1} x_i$\n",
    "\n",
    "- Median\n",
    "\n",
    "> The number that separates the higher half of the set from the lower half\n"
   ]
  },
  {
   "cell_type": "code",
   "execution_count": null,
   "metadata": {
    "pycharm": {
     "name": "#%%\n"
    }
   },
   "outputs": [],
   "source": [
    "avg = np.sum(x) / N \n",
    "avg, np.mean(x)"
   ]
  },
  {
   "cell_type": "code",
   "execution_count": null,
   "metadata": {
    "pycharm": {
     "name": "#%%\n"
    }
   },
   "outputs": [],
   "source": [
    "x.sum() / x.size"
   ]
  },
  {
   "cell_type": "code",
   "execution_count": null,
   "metadata": {
    "pycharm": {
     "name": "#%%\n"
    }
   },
   "outputs": [],
   "source": [
    "med = np.median(x)\n",
    "med"
   ]
  },
  {
   "cell_type": "code",
   "execution_count": null,
   "metadata": {
    "scrolled": false,
    "pycharm": {
     "name": "#%%\n"
    }
   },
   "outputs": [],
   "source": [
    "fig = plt.figure(figsize=(4,4))\n",
    "ax = fig.add_subplot(1,1,1)\n",
    "ax.hist(x,20)\n",
    "ax.arrow(avg,0,0,5,color='r')\n",
    "ax.arrow(med,5,0,5,color='y')\n",
    "ax.set_xlim(-10, 10);"
   ]
  },
  {
   "cell_type": "markdown",
   "metadata": {
    "pycharm": {
     "name": "#%% md\n"
    }
   },
   "source": [
    "### Dispersion\n",
    "- Sample variance\n",
    "\n",
    "> $\\displaystyle s^2 = \\frac{1}{N\\!-\\!1} \\sum_{i=1}^N \\left(x_i - \\bar{x}\\right)^2$\n",
    "\n",
    "- Standard deviation\n",
    "\n",
    "> $\\displaystyle s = \\sqrt{s^2}$"
   ]
  },
  {
   "cell_type": "markdown",
   "metadata": {
    "pycharm": {
     "name": "#%% md\n"
    }
   },
   "source": [
    "#### Unhomework\n",
    "- Why is $(N\\!-\\!1)$ in the denominator above?"
   ]
  },
  {
   "cell_type": "markdown",
   "metadata": {
    "pycharm": {
     "name": "#%% md\n"
    }
   },
   "source": [
    "### Outliers\n",
    "- What if just one element is too large, e.g., erroneously becomes $+\\infty$\n",
    "- Sample average $\\bar{x} \\rightarrow +\\infty$\n",
    "- Sample variance explodes, too\n",
    "\n",
    "**Ouch !!**\n"
   ]
  },
  {
   "cell_type": "code",
   "execution_count": null,
   "metadata": {
    "pycharm": {
     "name": "#%%\n"
    }
   },
   "outputs": [],
   "source": [
    "x[0] = 1e5\n",
    "plt.hist(x, 100);"
   ]
  },
  {
   "cell_type": "markdown",
   "metadata": {
    "pycharm": {
     "name": "#%% md\n"
    }
   },
   "source": [
    "### Robustness\n",
    "- Robust against outliers? What fraction can we tolerate?\n",
    "- Median is more robust than the mean\n",
    "- Median Absolute Deviation (MAD) for dispersion"
   ]
  },
  {
   "cell_type": "code",
   "execution_count": null,
   "metadata": {
    "pycharm": {
     "name": "#%%\n"
    }
   },
   "outputs": [],
   "source": [
    "print ('Average old vs new: %f %f' % (avg, np.mean(x)))\n",
    "print ('Median  old vs new: %f %f' % (med, np.median(x)))"
   ]
  },
  {
   "cell_type": "code",
   "execution_count": null,
   "metadata": {
    "pycharm": {
     "name": "#%%\n"
    }
   },
   "outputs": [],
   "source": [
    "np.std(x), np.std(x[1:]) # slicing!"
   ]
  },
  {
   "cell_type": "code",
   "execution_count": null,
   "metadata": {
    "pycharm": {
     "name": "#%%\n"
    }
   },
   "outputs": [],
   "source": [
    "# unhomework: what does this line do? \n",
    "x[x>100] \n",
    "# hint: look at the result of x>100 separately"
   ]
  }
 ],
 "metadata": {
  "anaconda-cloud": {},
  "kernelspec": {
   "display_name": "Python 3 (ipykernel)",
   "language": "python",
   "name": "python3"
  },
  "language_info": {
   "codemirror_mode": {
    "name": "ipython",
    "version": 3
   },
   "file_extension": ".py",
   "mimetype": "text/x-python",
   "name": "python",
   "nbconvert_exporter": "python",
   "pygments_lexer": "ipython3",
   "version": "3.9.12"
  }
 },
 "nbformat": 4,
 "nbformat_minor": 1
}