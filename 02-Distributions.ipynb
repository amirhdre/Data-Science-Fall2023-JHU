{
 "cells": [
  {
   "cell_type": "markdown",
   "metadata": {
    "slideshow": {
     "slide_type": "slide"
    }
   },
   "source": [
    "<hr/>\n",
    "\n",
    "# Introduction to Data Science\n",
    "**Tamás Budavári** - budavari@jhu.edu <br/>\n",
    "\n",
    "- Probability Density Function (PDF)\n",
    "- Cummulative Density Function (CDF)\n",
    "- Moments\n",
    "- Intro to Programming in Python\n",
    "\n",
    "<hr/>"
   ]
  },
  {
   "cell_type": "markdown",
   "metadata": {},
   "source": [
    "### Probability Density Function\n",
    "- PDF a.k.a. Probability Distribution Density Function\n",
    "- Probabiliy of $x$ being between $a$ and $b$ for any $(a,b)$ is\n",
    "\n",
    "> $\\displaystyle P_{ab} = \\int_a^b p(x)\\,dx$\n",
    "\n",
    "- Always \n",
    "\n",
    "> $\\displaystyle  \\int_{-\\infty}^{\\infty} p(x)\\,dx = 1$\n",
    "\n",
    "\n",
    "- Example 1: uniform distribution on $(a,b)$\n",
    "\n",
    "> $\\displaystyle  U(x;a,b) = \\frac{\\pmb{1}_{ab}(x)}{b\\!-\\!a} $,\n",
    "> where $\\pmb{1}_{ab}(x)$ is 1 between $a$ and $b$, but 0 otherwise\n",
    "\n",
    "- Example 2: Gaussian or normal distribution\n",
    "\n",
    "> $\\displaystyle  G\\left(x;\\mu,\\sigma^2\\right) = \\frac{{1}}{\\sqrt{2\\pi\\sigma^2}}\\ \\exp\\left[{-\\frac{(x\\!-\\!\\mu)^2}{2 \\sigma^2} }\\right]$\n",
    "\n",
    "- Example 3: Log-normal"
   ]
  },
  {
   "cell_type": "markdown",
   "metadata": {},
   "source": [
    "### Gauss on Money!\n",
    "\n",
    "<!--<img src='https://upload.wikimedia.org/wikipedia/commons/thumb/f/fd/DEU-10m-anv.jpg/640px-DEU-10m-anv.jpg' width=400 align=left>-->\n",
    "\n",
    "<img src='files/640px-DEU-10m-anv.jpg' width=400 align=left>"
   ]
  },
  {
   "cell_type": "markdown",
   "metadata": {},
   "source": [
    "- Even the formula\n",
    "\n",
    "<img src='files/10DM.jpg' width=400 align=left>"
   ]
  },
  {
   "cell_type": "markdown",
   "metadata": {},
   "source": [
    "### Cummulative Distribution Function\n",
    "- Integral up to a given $x$: prob of being less than $x$\n",
    "\n",
    "> $\\displaystyle \\mathrm{CDF}(x) = \\int_{-\\infty}^{x} p(t)\\,dt$"
   ]
  },
  {
   "cell_type": "code",
   "execution_count": null,
   "metadata": {},
   "outputs": [],
   "source": [
    "import numpy as np\n",
    "import matplotlib.pyplot as plt\n",
    "%matplotlib inline"
   ]
  },
  {
   "cell_type": "code",
   "execution_count": null,
   "metadata": {},
   "outputs": [],
   "source": [
    "import scipy\n",
    "from scipy.stats import uniform\n",
    "\n",
    "a, b = -1, 1\n",
    "u = uniform(a, b-a)\n",
    "\n",
    "x = np.linspace(-6, 6, 1000)\n",
    "\n",
    "plt.plot(x, u.pdf(x));\n",
    "plt.plot(x, u.cdf(x));\n",
    "\n",
    "u.support()"
   ]
  },
  {
   "cell_type": "code",
   "execution_count": null,
   "metadata": {},
   "outputs": [],
   "source": [
    "plt.plot(x, u.pdf(x), ':')\n",
    "plt.plot(x, u.cdf(x), ':')\n",
    "\n",
    "from scipy.stats import norm as gaussian\n",
    "\n",
    "g = gaussian(0, 2)\n",
    "\n",
    "plt.plot(x, g.pdf(x));\n",
    "plt.plot(x, g.cdf(x));\n",
    "\n",
    "g.support()"
   ]
  },
  {
   "cell_type": "code",
   "execution_count": null,
   "metadata": {},
   "outputs": [],
   "source": [
    "l = scipy.stats.lognorm(1)\n",
    "\n",
    "plt.plot(x, l.pdf(x), color='C4')\n",
    "\n",
    "plt.plot(x, u.pdf(x), ':', color='C0')\n",
    "plt.plot(x, g.pdf(x), '--', color='C2')\n",
    "\n",
    "l.support()"
   ]
  },
  {
   "cell_type": "markdown",
   "metadata": {},
   "source": [
    "### Characterization of PDFs\n",
    "\n",
    "- Expectation value of $X$\n",
    "\n",
    "> $\\displaystyle \\mu = \\mathbb{E}[X] = \\int_{-\\infty}^{\\infty}\\! x\\ p(x)\\,dx$\n",
    "\n",
    "- Expectation value of any $f(X)$\n",
    "\n",
    "> $\\displaystyle \\mathbb{E}[f(X)] = \\int_{-\\infty}^{\\infty}\\! f(x)\\,p(x)\\,dx$\n",
    "\n",
    "- Moments \n",
    "\n",
    "> $\\displaystyle \\mathbb{E}[X^k]$\n",
    "    \n",
    "- Central moments \n",
    "\n",
    "> $\\displaystyle \\mathbb{E}\\big[(X\\!-\\!\\mu)^k\\big]$\n",
    "\n",
    "- Variance\n",
    "\n",
    "> $\\displaystyle \\mathbb{Var}[X] = \\mathbb{E}\\big[(X\\!-\\!\\mu)^2\\big]$\n",
    "\n",
    "- Standard deviation\n",
    "\n",
    "> $\\displaystyle \\sigma = \\sqrt{\\mathbb{Var}[X]}$\n",
    "\n",
    "- Normalized moments\n",
    "\n",
    "> $\\displaystyle \\mathbb{E}\\left[\\left(\\frac{X\\!-\\!\\mu}{\\sigma}\\right)^k\\right]$\n",
    "\n",
    "- Skewness\n",
    "\n",
    "> 3rd normalized moment ($k$=3)\n",
    "\n",
    "- Kurtosis\n",
    "\n",
    "> 4th normalized moment ($k$=4)\n",
    " \n"
   ]
  },
  {
   "cell_type": "markdown",
   "metadata": {},
   "source": [
    "<img src=\"files/skew_kurt.png\" width=400 align=left>"
   ]
  },
  {
   "cell_type": "code",
   "execution_count": null,
   "metadata": {},
   "outputs": [],
   "source": [
    "# mean, variance, skewness, kurtosis\n",
    "g.stats(moments='mvsk')"
   ]
  },
  {
   "cell_type": "code",
   "execution_count": null,
   "metadata": {},
   "outputs": [],
   "source": [
    "u.stats(moments='mvsk')"
   ]
  },
  {
   "cell_type": "code",
   "execution_count": null,
   "metadata": {},
   "outputs": [],
   "source": [
    "l.stats(moments='mvsk')"
   ]
  },
  {
   "cell_type": "code",
   "execution_count": null,
   "metadata": {},
   "outputs": [],
   "source": [
    "# multiple gaussians with the same standard deviation\n",
    "gaussian([0,1,2],3).stats(moments='mv')"
   ]
  },
  {
   "cell_type": "markdown",
   "metadata": {},
   "source": [
    "<h1><font color=\"darkblue\">Python by Examples</font></h1>\n",
    "\n",
    "- tuple, list, function, class, for, map,  lambda, import\n",
    "\n",
    "- numpy, matplotlib "
   ]
  },
  {
   "cell_type": "code",
   "execution_count": null,
   "metadata": {},
   "outputs": [],
   "source": [
    "# tuple\n",
    "t = (1,'asdf')\n",
    "t = 100, 0.1\n",
    "N, mu = t\n",
    "print (N)"
   ]
  },
  {
   "cell_type": "code",
   "execution_count": null,
   "metadata": {},
   "outputs": [],
   "source": [
    "# list\n",
    "l = [1, 2, 3, 4, 5]\n",
    "\n",
    "# numpy array\n",
    "a = np.array([l, l], dtype=np.float64)\n",
    "a"
   ]
  },
  {
   "cell_type": "code",
   "execution_count": null,
   "metadata": {},
   "outputs": [],
   "source": [
    "a.shape"
   ]
  },
  {
   "cell_type": "code",
   "execution_count": null,
   "metadata": {},
   "outputs": [],
   "source": [
    "# function\n",
    "def f(x, k=2):\n",
    "    return x**k\n",
    "\n",
    "f3 = f(3)\n",
    "print (f3)\n",
    "f(2), f(2,2), f(2,3), f(2,k=4), f3"
   ]
  },
  {
   "cell_type": "code",
   "execution_count": null,
   "metadata": {},
   "outputs": [],
   "source": [
    "import math\n",
    "\n",
    "# object-oriented programming\n",
    "class Robot(object):\n",
    "    \n",
    "    def __init__(self, name, x=0, y=0, angle=0):\n",
    "        self.name, self.x, self.y, self.angle = name, x, y, angle\n",
    "        self.path = [(x,y)]\n",
    "    \n",
    "    def move(self, l=1):\n",
    "        self.x += l * math.cos(self.angle)\n",
    "        self.y += l * math.sin(self.angle)\n",
    "        self.path.append((self.x, self.y))\n",
    "        \n",
    "    def left(self, a=math.pi/2):\n",
    "        self.angle += a\n",
    "        \n",
    "    def right(self, a=math.pi/2):\n",
    "        self.left(-a)"
   ]
  },
  {
   "cell_type": "code",
   "execution_count": null,
   "metadata": {},
   "outputs": [],
   "source": [
    "r = Robot('R2D2')\n",
    "r.move()    # by 1 unit\n",
    "r.left()    # 90 degrees\n",
    "r.move(0.2)\n",
    "r.left()\n",
    "r.move(0.4)\n",
    "r.right(np.pi/4)\n",
    "r.move()"
   ]
  },
  {
   "cell_type": "code",
   "execution_count": null,
   "metadata": {},
   "outputs": [],
   "source": [
    "r.path # complete history"
   ]
  },
  {
   "cell_type": "code",
   "execution_count": null,
   "metadata": {},
   "outputs": [],
   "source": [
    "x, y = (c for c in zip(*r.path)) # unhomework to understand this line\n",
    "plt.plot(x, y, 'ro-');"
   ]
  },
  {
   "cell_type": "code",
   "execution_count": null,
   "metadata": {},
   "outputs": [],
   "source": [
    "plt.plot(x, y, 'ro-', label=f\"{r.name}'s path\")\n",
    "plt.legend()\n",
    "plt.xlabel('x coordinate')\n",
    "plt.ylabel('y coordinate')\n",
    "plt.grid()\n",
    "plt.savefig('robot.png', dpi=200)\n",
    "plt.savefig('robot.pdf')"
   ]
  },
  {
   "cell_type": "code",
   "execution_count": null,
   "metadata": {},
   "outputs": [],
   "source": [
    "# lambda expressions\n",
    "g = lambda x: x*x\n",
    "g(2)"
   ]
  },
  {
   "cell_type": "code",
   "execution_count": null,
   "metadata": {},
   "outputs": [],
   "source": [
    "# using standard math \n",
    "import math\n",
    "\n",
    "math.pi, math.sin(1.57)"
   ]
  },
  {
   "cell_type": "code",
   "execution_count": null,
   "metadata": {},
   "outputs": [],
   "source": [
    "# using numpy math\n",
    "np.pi, np.sin(1.57)"
   ]
  },
  {
   "cell_type": "code",
   "execution_count": null,
   "metadata": {},
   "outputs": [],
   "source": [
    "# numpy methods work also on arrays, e.g., elementwise\n",
    "np.sin( [1.57, 3.14, np.pi] ) "
   ]
  },
  {
   "cell_type": "code",
   "execution_count": null,
   "metadata": {},
   "outputs": [],
   "source": [
    "# arrays: vectors and matrices\n",
    "import numpy as np\n",
    "\n",
    "l = [1, 2, 3]\n",
    "a = np.array([l, l], dtype=np.int32)"
   ]
  },
  {
   "cell_type": "code",
   "execution_count": null,
   "metadata": {},
   "outputs": [],
   "source": [
    "a"
   ]
  },
  {
   "cell_type": "code",
   "execution_count": null,
   "metadata": {},
   "outputs": [],
   "source": [
    "print (a.shape)\n",
    "print (a.T)"
   ]
  },
  {
   "cell_type": "code",
   "execution_count": null,
   "metadata": {},
   "outputs": [],
   "source": [
    "[l, l]"
   ]
  },
  {
   "cell_type": "code",
   "execution_count": null,
   "metadata": {},
   "outputs": [],
   "source": [
    "a * a "
   ]
  },
  {
   "cell_type": "code",
   "execution_count": null,
   "metadata": {},
   "outputs": [],
   "source": [
    "a.dot(a) # why does this fail?"
   ]
  },
  {
   "cell_type": "code",
   "execution_count": null,
   "metadata": {},
   "outputs": [],
   "source": [
    "b = a.T.dot(a)\n",
    "b"
   ]
  },
  {
   "cell_type": "code",
   "execution_count": null,
   "metadata": {},
   "outputs": [],
   "source": [
    "a.T @ a"
   ]
  },
  {
   "cell_type": "code",
   "execution_count": null,
   "metadata": {},
   "outputs": [],
   "source": [
    "# slicing arrays\n",
    "print (b)\n",
    "b[:2, 1:2]"
   ]
  },
  {
   "cell_type": "code",
   "execution_count": null,
   "metadata": {},
   "outputs": [],
   "source": [
    "b < 5"
   ]
  },
  {
   "cell_type": "code",
   "execution_count": null,
   "metadata": {},
   "outputs": [],
   "source": [
    "b[b < 5]"
   ]
  },
  {
   "cell_type": "code",
   "execution_count": null,
   "metadata": {},
   "outputs": [],
   "source": [
    "i,j = np.where(b < 5)\n",
    "\n",
    "print (f'i: {i}')\n",
    "print (f'j: {j}')\n",
    "print (f'elements: {b[i,j]}')"
   ]
  },
  {
   "cell_type": "code",
   "execution_count": null,
   "metadata": {},
   "outputs": [],
   "source": [
    "# componentwise operations\n",
    "print (np.sin(l))\n",
    "\n",
    "# slow python loop\n",
    "for s in map(math.sin, l): \n",
    "    print (s)"
   ]
  },
  {
   "cell_type": "code",
   "execution_count": null,
   "metadata": {},
   "outputs": [],
   "source": [
    "[math.sin(x) for x in l] # little better but not numpy speed"
   ]
  },
  {
   "cell_type": "code",
   "execution_count": null,
   "metadata": {},
   "outputs": [],
   "source": []
  }
 ],
 "metadata": {
  "anaconda-cloud": {},
  "kernelspec": {
   "display_name": "Python 3 (ipykernel)",
   "language": "python",
   "name": "python3"
  },
  "language_info": {
   "codemirror_mode": {
    "name": "ipython",
    "version": 3
   },
   "file_extension": ".py",
   "mimetype": "text/x-python",
   "name": "python",
   "nbconvert_exporter": "python",
   "pygments_lexer": "ipython3",
   "version": "3.9.12"
  }
 },
 "nbformat": 4,
 "nbformat_minor": 1
}
