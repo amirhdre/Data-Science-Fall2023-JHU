{
 "cells": [
  {
   "cell_type": "markdown",
   "metadata": {
    "slideshow": {
     "slide_type": "slide"
    }
   },
   "source": [
    "<hr/>\n",
    "\n",
    "# Introduction to Data Science\n",
    "**Tamás Budavári** - budavari@jhu.edu <br/>\n",
    "\n",
    "- Principal Component Analysis recap\n",
    "- PCA in practice: coordinate systems, projections\n",
    "\n",
    "<hr/>"
   ]
  },
  {
   "cell_type": "markdown",
   "metadata": {
    "slideshow": {
     "slide_type": "slide"
    }
   },
   "source": [
    "<h1><font color=\"darkblue\">Principal Component Analysis</font></h1>"
   ]
  },
  {
   "cell_type": "markdown",
   "metadata": {},
   "source": [
    "<!--<img src=\"files/800px-GaussianScatterPCA.png\" width=300 align=left>-->\n",
    "<img src=\"https://upload.wikimedia.org/wikipedia/commons/thumb/f/f5/GaussianScatterPCA.svg/440px-GaussianScatterPCA.svg.png\" width=300 align=\"right\">\n",
    "\n",
    "\n",
    "### What Features?\n",
    "\n",
    "- High-dimensional data\n",
    "- Data transformations\n",
    "- Interesting directions\n",
    "- Linear combinations\n",
    "- Rotated coordinate system"
   ]
  },
  {
   "cell_type": "markdown",
   "metadata": {},
   "source": [
    "### Location & Dispersion\n",
    "\n",
    "- 1-dimensional\n",
    "\n",
    "> For example, mean and variance\n",
    "\n",
    "- $N$-dimensional\n",
    "\n",
    "> E.g., again mean (duh!) and covariance matrix\n",
    "\n",
    "\n"
   ]
  },
  {
   "cell_type": "markdown",
   "metadata": {},
   "source": [
    "### Principal Components\n",
    "\n",
    "- Eigensystem of a covariance matrix is special\n",
    "\n",
    "> $\\displaystyle  C\\,\\boldsymbol{e}_k = \\lambda_k\\,\\boldsymbol{e}_k \\ \\ \\ $ for all $k=1\\dots{}N$ \n",
    "><br/><br/>\n",
    "> where\n",
    "><br/><br/>\n",
    "> $\\displaystyle \\boldsymbol{e}_k^T \\boldsymbol{e}_l = \\delta_{kl} \\ \\ \\ $ for all $k$ and $l$\n",
    "\n",
    "- The 1st principal component \n",
    "\n",
    "> The direction of maximum variance is the eigenvector $\\boldsymbol{e}_1$ \n",
    "> that belongs to the largest eigenvalue $\\lambda_1$\n",
    "> and $\\lambda_1$ is the variance along that direction"
   ]
  },
  {
   "cell_type": "markdown",
   "metadata": {},
   "source": [
    "### Linear Combination\n",
    "\n",
    "- If $X$ is a linear combination of the eigenvectors\n",
    "\n",
    "> $\\displaystyle  X = \\sum_k \\beta_{k} \\boldsymbol{e}_k  =  E\\,\\boldsymbol\\beta$ \n",
    "><br/><br/>\n",
    "> with orthonormal $E=[\\boldsymbol{e}_1, ..., \\boldsymbol{e}_N]$ eigenbasis\n",
    "\n",
    "- We get the (random variable) coefficients\n",
    "\n",
    "> $\\displaystyle  \\boldsymbol{\\beta} = E^T\\,X$ \n",
    "><br/><br/>\n",
    "> because $E^T{}E = I$"
   ]
  },
  {
   "cell_type": "markdown",
   "metadata": {},
   "source": [
    "### Coordinate Transformation\n",
    "\n",
    "- New covariance matrix is diagonal and the elements are the eigenvalues of $C$\n",
    "\n",
    "> If $\\beta=E^T X$ and again assuming $\\mathbb{E}[X]=0$ then\n",
    "><br/><br/>\n",
    "> $\\displaystyle \\ \\ \\ \\ \\ \\ \\ \\ \\mathbb{E}[\\beta \\beta^T] = \\mathbb{E}[E^T X\\,X^T E] = E^T C\\,E = \\Lambda$\n",
    "><br/><br/>\n",
    "> where \n",
    "><br/><br/>\n",
    ">$\\displaystyle \\ \\ \\ \\ \\ \\ \\ \\ \\Lambda =  \\left( \\begin{array}{ccc}\n",
    "{\\lambda_1} & 0 & \\cdots & 0\\\\\n",
    "0 & {\\lambda_2} &   & \\vdots\\\\\n",
    "\\vdots &  & \\ddots & 0 \\\\\n",
    "0 & \\cdots & 0 & {\\lambda_N} \\\\\n",
    "\\end{array} \\right)$\n",
    "\n",
    "<!-- -->\n",
    "\n",
    "> Recall $C\\,\\boldsymbol{e}_l = \\lambda_l\\,\\boldsymbol{e}_l$ for all $l$, so the $(k,l)$ element of the new covariance matrix \n",
    "><br/><br/>\n",
    ">$\\displaystyle \\ \\ \\ \\ \\ \\ \\ \\ \\boldsymbol{e}_k^T C\\,\\boldsymbol{e}_l = \\lambda_l\\,\\boldsymbol{e}_k^T  \\boldsymbol{e}_l  = \\lambda_l\\delta_{kl} = \\Lambda_{kl}$"
   ]
  },
  {
   "cell_type": "markdown",
   "metadata": {},
   "source": [
    "### Eigendecomposition \n",
    "\n",
    "- If we multiply with $E$ and $E^T$ from left and right \n",
    "\n",
    "> $ C = E\\,\\Lambda\\,E^T$\n",
    "><br/><br/>\n",
    "> or\n",
    "><br/><br/>\n",
    ">$\\displaystyle C = \\sum_{k=1}^N\\ \\lambda_k\\left(\\boldsymbol{e}_k\\,\\boldsymbol{e}_k^T\\right) $"
   ]
  },
  {
   "cell_type": "markdown",
   "metadata": {},
   "source": [
    "### Largest Eigenvalues\n",
    "\n",
    "- The eigenvectors of largest eigenvalues capture the most variance\n",
    "\n",
    "> If keeping only $K<N$ eigenvectors, the best is to take the ones belonging to the $K$ largest eigenvalues PCs\n",
    "><br/><br/>\n",
    "> $\\displaystyle  C \\approx \\sum_{k=1}^K\\ \\lambda_k\\left(\\boldsymbol{e}_k\\,\\boldsymbol{e}_k^T\\right) =  E_K\\Lambda_KE_K^T$\n",
    "\n"
   ]
  },
  {
   "cell_type": "markdown",
   "metadata": {},
   "source": [
    "### Dimensionality Reduction\n",
    "\n",
    "\n",
    "- A truncated set of eigenvectors $E_K$ defines a transformation that reduces the dimensionality from $N$ to $K$ while preserving the most variance possible\n",
    "\n",
    "> $\\displaystyle  \\beta_K = E_K^T\\, X $\n",
    "><br/><br/>\n",
    "> and\n",
    "><br/><br/>\n",
    "> $\\displaystyle  X_K = E_K \\beta_K = E_K E_K^T\\, X = P_K\\,X $\n",
    "\n",
    "\n"
   ]
  },
  {
   "cell_type": "markdown",
   "metadata": {},
   "source": [
    "### Random Sample from Bivariate Normal \n",
    "\n",
    "- See previous lecture"
   ]
  },
  {
   "cell_type": "code",
   "execution_count": 51,
   "metadata": {},
   "outputs": [],
   "source": [
    "%matplotlib inline\n",
    "import numpy as np\n",
    "import matplotlib.pyplot as plt\n",
    "import scipy"
   ]
  },
  {
   "cell_type": "code",
   "execution_count": 52,
   "metadata": {},
   "outputs": [],
   "source": [
    "# generate many 2D (column) vectors \n",
    "np.random.seed(42)\n",
    "N = scipy.stats.norm(0,1).rvs((2,50))\n",
    "\n",
    "# copy and scale it\n",
    "S = np.copy(N)\n",
    "S[0,:] *= 4  # scale first components\n",
    "\n",
    "# rotate it\n",
    "f = np.pi / 4  # rotate by 45 degrees\n",
    "R = np.array([[np.cos(f), -np.sin(f)],\n",
    "              [np.sin(f),  np.cos(f)]]) \n",
    "X = R @ S\n",
    "\n",
    "# shift it by some random (column) vector\n",
    "X += np.array([[1],\n",
    "               [3]])"
   ]
  },
  {
   "cell_type": "code",
   "execution_count": 53,
   "metadata": {},
   "outputs": [
    {
     "data": {
      "image/png": "[encoded data removed]",
      "text/plain": [
       "<Figure size 1008x288 with 3 Axes>"
      ]
     },
     "metadata": {
      "needs_background": "light"
     },
     "output_type": "display_data"
    }
   ],
   "source": [
    "plt.figure(figsize=(14,4))\n",
    "\n",
    "plt.subplot(1,3,1).set_aspect('equal'); plt.xlim(-10,10); plt.ylim(-10,10); plt.title('normal')\n",
    "plt.scatter(N[0,:], N[1,:], marker='o',color='b', s=50, alpha=0.3, edgecolor='none')\n",
    "\n",
    "plt.subplot(1,3,2).set_aspect('equal'); plt.xlim(-10,10); plt.ylim(-10,10); plt.title('scaled')\n",
    "plt.scatter(S[0,:], S[1,:], marker='o',color='b', s=50, alpha=0.3, edgecolor='none')\n",
    "\n",
    "plt.subplot(1,3,3).set_aspect('equal'); plt.xlim(-10,10); plt.ylim(-10,10); plt.title('final')\n",
    "plt.scatter(X[0,:], X[1,:], marker='o', s=50, alpha=0.3, edgecolor='none');"
   ]
  },
  {
   "cell_type": "code",
   "execution_count": 54,
   "metadata": {},
   "outputs": [
    {
     "data": {
      "text/plain": [
       "(2, 50)"
      ]
     },
     "execution_count": 54,
     "metadata": {},
     "output_type": "execute_result"
    }
   ],
   "source": [
    "X.shape"
   ]
  },
  {
   "cell_type": "code",
   "execution_count": 55,
   "metadata": {},
   "outputs": [
    {
     "name": "stdout",
     "output_type": "stream",
     "text": [
      "\n",
      "Average has shape: (2, 1):\n",
      "[[0.34969052]\n",
      " [2.37483646]]\n",
      "\n",
      "Covariance has shape (2, 2):\n",
      "[[6.99670167 6.59167706]\n",
      " [6.59167706 7.71554082]]\n",
      "\n"
     ]
    }
   ],
   "source": [
    "# subtract sample mean\n",
    "avg = X.mean(axis=1, keepdims=True)\n",
    "X -= avg\n",
    "\n",
    "# sample covariance matrix\n",
    "C = X @ X.T / (X.shape[1] - 1) \n",
    "\n",
    "print (f'''\n",
    "Average has shape: {avg.shape}:\n",
    "{avg}\n",
    "\n",
    "Covariance has shape {C.shape}:\n",
    "{C}\n",
    "''')"
   ]
  },
  {
   "cell_type": "code",
   "execution_count": 34,
   "metadata": {},
   "outputs": [
    {
     "name": "stdout",
     "output_type": "stream",
     "text": [
      "Eigenvalues: [ 0.75465255 13.95758994]\n",
      "Eigenvectors in the columns of E: \n",
      "[[-0.72610102 -0.68758803]\n",
      " [ 0.68758803 -0.72610102]]\n"
     ]
    }
   ],
   "source": [
    "# eigen decomposition of the sample covariance matrix\n",
    "L, E = np.linalg.eig(C)\n",
    "print (f'''Eigenvalues: {L}\n",
    "Eigenvectors in the columns of E: \n",
    "{E}''')\n",
    "\n",
    "E_same = E"
   ]
  },
  {
   "cell_type": "code",
   "execution_count": 35,
   "metadata": {},
   "outputs": [
    {
     "name": "stdout",
     "output_type": "stream",
     "text": [
      "Eigenvalues: [13.95758994  0.75465255]\n",
      "Eigenvectors in the columns of E: \n",
      "[[-0.68758803 -0.72610102]\n",
      " [-0.72610102  0.68758803]]\n"
     ]
    }
   ],
   "source": [
    "# singular value decomposition of covariance yields the same\n",
    "E, L, a = np.linalg.svd(C)\n",
    "\n",
    "print (f'''Eigenvalues: {L}\n",
    "Eigenvectors in the columns of E: \n",
    "{E}''')"
   ]
  },
  {
   "cell_type": "code",
   "execution_count": 36,
   "metadata": {},
   "outputs": [
    {
     "data": {
      "text/plain": [
       "False"
      ]
     },
     "execution_count": 36,
     "metadata": {},
     "output_type": "execute_result"
    }
   ],
   "source": [
    "np.allclose(E, E_same.T)"
   ]
  },
  {
   "cell_type": "code",
   "execution_count": 37,
   "metadata": {},
   "outputs": [
    {
     "data": {
      "text/plain": [
       "array([[1.00000000e+00, 5.76185729e-17],\n",
       "       [5.76185729e-17, 1.00000000e+00]])"
      ]
     },
     "execution_count": 37,
     "metadata": {},
     "output_type": "execute_result"
    }
   ],
   "source": [
    "# it's a rotation!\n",
    "E @ E.T"
   ]
  },
  {
   "cell_type": "code",
   "execution_count": 38,
   "metadata": {},
   "outputs": [
    {
     "data": {
      "text/plain": [
       "True"
      ]
     },
     "execution_count": 38,
     "metadata": {},
     "output_type": "execute_result"
    }
   ],
   "source": [
    "# also \n",
    "np.allclose(E.T, np.linalg.inv(E))"
   ]
  },
  {
   "cell_type": "code",
   "execution_count": 39,
   "metadata": {},
   "outputs": [
    {
     "name": "stdout",
     "output_type": "stream",
     "text": [
      "Eigenvalues calculated from W: [13.95758994  0.75465255]\n",
      "Eigenvectors in the columns of U: \n",
      "[[-0.68758803 -0.72610102]\n",
      " [-0.72610102  0.68758803]]\n"
     ]
    }
   ],
   "source": [
    "# singular value decomposition of data matrix yields also the same\n",
    "U, W, V = np.linalg.svd(X)\n",
    "\n",
    "print (f'''Eigenvalues calculated from W: {np.square(W) / (X.shape[1] - 1)}\n",
    "Eigenvectors in the columns of U: \n",
    "{U}''') "
   ]
  },
  {
   "cell_type": "code",
   "execution_count": 40,
   "metadata": {},
   "outputs": [
    {
     "data": {
      "text/plain": [
       "[True, True]"
      ]
     },
     "execution_count": 40,
     "metadata": {},
     "output_type": "execute_result"
    }
   ],
   "source": [
    "# check out the properties of U and V\n",
    "[ np.allclose( U.T @ U, np.eye(U[:,0].size) ), \n",
    "  np.allclose( V.T @ V, np.eye(V[:,0].size) )  ]"
   ]
  },
  {
   "cell_type": "code",
   "execution_count": 41,
   "metadata": {},
   "outputs": [
    {
     "data": {
      "text/plain": [
       "((2, 2), (50, 50))"
      ]
     },
     "execution_count": 41,
     "metadata": {},
     "output_type": "execute_result"
    }
   ],
   "source": [
    "U.shape, V.shape"
   ]
  },
  {
   "cell_type": "code",
   "execution_count": 42,
   "metadata": {},
   "outputs": [],
   "source": [
    "# principle components by sklearn\n",
    "from sklearn import decomposition"
   ]
  },
  {
   "cell_type": "code",
   "execution_count": 43,
   "metadata": {},
   "outputs": [
    {
     "name": "stdout",
     "output_type": "stream",
     "text": [
      "[[ 0.68758803  0.72610102]\n",
      " [ 0.72610102 -0.68758803]] [13.95758994  0.75465255]\n"
     ]
    }
   ],
   "source": [
    "# object-oriented interface\n",
    "pca = decomposition.PCA(n_components = X[:,0].size)\n",
    "# sklearn uses a different convention\n",
    "pca.fit(X.T) # note the transpose\n",
    "print (pca.components_.T, pca.explained_variance_)"
   ]
  },
  {
   "cell_type": "code",
   "execution_count": 44,
   "metadata": {},
   "outputs": [
    {
     "data": {
      "text/plain": [
       "(50, 2)"
      ]
     },
     "execution_count": 44,
     "metadata": {},
     "output_type": "execute_result"
    }
   ],
   "source": [
    "pca.transform(X.T).shape"
   ]
  },
  {
   "cell_type": "code",
   "execution_count": 45,
   "metadata": {},
   "outputs": [
    {
     "name": "stdout",
     "output_type": "stream",
     "text": [
      "[[-0.68758803 -0.72610102]\n",
      " [-0.72610102  0.68758803]] [13.95758994  0.75465255]\n"
     ]
    }
   ],
   "source": [
    "print (E, L)"
   ]
  },
  {
   "cell_type": "code",
   "execution_count": 46,
   "metadata": {},
   "outputs": [
    {
     "name": "stdout",
     "output_type": "stream",
     "text": [
      "[[-0.68758803 -0.72610102]\n",
      " [-0.72610102  0.68758803]] [13.95758994  0.75465255]\n"
     ]
    }
   ],
   "source": [
    "print (U, W**2 / (X[0,:].size - 1))"
   ]
  },
  {
   "cell_type": "code",
   "execution_count": 20,
   "metadata": {},
   "outputs": [
    {
     "data": {
      "image/png": "[encoded data removed]",
      "text/plain": [
       "<Figure size 360x360 with 1 Axes>"
      ]
     },
     "metadata": {
      "needs_background": "light"
     },
     "output_type": "display_data"
    }
   ],
   "source": [
    "# rotation\n",
    "A = E.T @ X\n",
    "\n",
    "plt.figure(figsize=(5,5))\n",
    "plt.scatter(A[0,:], A[1,:], marker='o', s=50, alpha=0.3, edgecolor='none')\n",
    "plt.xlim(-10,10)\n",
    "plt.ylim(-10,10)\n",
    "plt.grid()"
   ]
  },
  {
   "cell_type": "code",
   "execution_count": 50,
   "metadata": {},
   "outputs": [
    {
     "data": {
      "image/png": "[encoded data removed]",
      "text/plain": [
       "<Figure size 360x360 with 1 Axes>"
      ]
     },
     "metadata": {
      "needs_background": "light"
     },
     "output_type": "display_data"
    }
   ],
   "source": [
    "# projected points\n",
    "P1 = E[:,0][np.newaxis].T @ E[:,0][np.newaxis] @ X # E*betta\n",
    "P2 = E[:,1][np.newaxis].T @ E[:,1][np.newaxis] @ X # E*betta\n",
    "\n",
    "plt.figure(figsize=(5,5)) \n",
    "plt.scatter(X[0,:], X[1,:], marker='o',color='b', s=50, alpha=0.3, edgecolor='none')\n",
    "plt.scatter(P1[0,:], P1[1,:], marker='o',color='r', s=50, alpha=0.3, edgecolor='none')\n",
    "plt.scatter(P2[0,:], P2[1,:], marker='o',color='r', s=50, alpha=0.3, edgecolor='none')\n",
    "plt.xlim(-10,10)\n",
    "plt.ylim(-10,10)\n",
    "plt.grid()"
   ]
  },
  {
   "cell_type": "markdown",
   "metadata": {},
   "source": [
    "### Whitening\n",
    "- Frequently used to preprocess data, e.g., in signal processing\n",
    "\n",
    ">$ \\displaystyle Z = \\Lambda^{-1/2}\\ E^T\\ X$\n",
    "\n",
    "- **Unhomework:** Verify that its covariance matrix is identity"
   ]
  },
  {
   "cell_type": "code",
   "execution_count": 22,
   "metadata": {
    "scrolled": false
   },
   "outputs": [
    {
     "data": {
      "image/png": "[encoded data removed]",
      "text/plain": [
       "<Figure size 500x500 with 1 Axes>"
      ]
     },
     "metadata": {},
     "output_type": "display_data"
    }
   ],
   "source": [
    "# calc and plot whitened coordinates\n",
    "B = np.diag(1 / np.sqrt(L)) @ A\n",
    "\n",
    "plt.figure(figsize=(5,5))\n",
    "plt.scatter(B[0,:], B[1,:], marker='o',color='b', s=50, alpha=0.3, edgecolor='none')\n",
    "plt.xlim(-5,5)\n",
    "plt.ylim(-5,5)\n",
    "plt.grid()"
   ]
  },
  {
   "cell_type": "code",
   "execution_count": 23,
   "metadata": {},
   "outputs": [
    {
     "data": {
      "image/png": "[encoded data removed]",
      "text/plain": [
       "<Figure size 1100x500 with 2 Axes>"
      ]
     },
     "metadata": {},
     "output_type": "display_data"
    }
   ],
   "source": [
    "# cf. original normal randoms in cell at the beginning\n",
    "plt.figure(figsize=(11,5))\n",
    "plt.subplot(1,2,1).set_aspect('equal'); plt.xlim(-5,5); plt.ylim(-5,5); plt.title('whitened')\n",
    "plt.scatter(B[0,:], B[1,:], marker='o', color='b', s=50, alpha=0.3, edgecolor='none')\n",
    "plt.subplot(1,2,2).set_aspect('equal'); plt.xlim(-5,5); plt.ylim(-5,5); plt.title('original')\n",
    "plt.scatter(N[0,:], N[1,:], marker='o', color='b', s=50, alpha=0.3, edgecolor='none');"
   ]
  },
  {
   "cell_type": "code",
   "execution_count": 24,
   "metadata": {},
   "outputs": [
    {
     "data": {
      "text/plain": [
       "array([[ 1.00000000e+00, -1.26132915e-16],\n",
       "       [-1.26132915e-16,  1.00000000e+00]])"
      ]
     },
     "execution_count": 24,
     "metadata": {},
     "output_type": "execute_result"
    }
   ],
   "source": [
    "# sample covariance matrix is I\n",
    "B @ B.T / (B.shape[1] - 1)"
   ]
  }
 ],
 "metadata": {
  "anaconda-cloud": {},
  "kernelspec": {
   "display_name": "Python 3 (ipykernel)",
   "language": "python",
   "name": "python3"
  },
  "language_info": {
   "codemirror_mode": {
    "name": "ipython",
    "version": 3
   },
   "file_extension": ".py",
   "mimetype": "text/x-python",
   "name": "python",
   "nbconvert_exporter": "python",
   "pygments_lexer": "ipython3",
   "version": "3.8.16"
  },
  "vscode": {
   "interpreter": {
    "hash": "bbac5443cdf315bcc9671425c19b51215a1b1d9c247740a65b792be4aa01463f"
   }
  }
 },
 "nbformat": 4,
 "nbformat_minor": 1
}
