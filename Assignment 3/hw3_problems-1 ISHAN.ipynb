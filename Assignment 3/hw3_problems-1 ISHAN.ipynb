{
 "cells": [
  {
   "cell_type": "markdown",
   "id": "ede484aa",
   "metadata": {
    "pycharm": {
     "name": "#%% md\n"
    }
   },
   "source": [
    "# Homework 3\n",
    "\n",
    "Ishan Jain\n",
    "\n",
    "We load the `music_scaled.csv` dataset ([source](https://archive.ics.uci.edu/ml/datasets/Geographical+Original+of+Music#)). The dataset contains a sample of traditional songs from different cultures. Features F1 to F68 are quantitative summaries of the songs from audio analysis software. These features have been subject to standard scaling. They are stored as predictors in `X.` The latitudes of the countries from which the songs originate are stored as a target variable `y.`"
   ]
  },
  {
   "cell_type": "code",
   "execution_count": 1,
   "id": "24fd54ba",
   "metadata": {
    "pycharm": {
     "name": "#%%\n"
    }
   },
   "outputs": [
    {
     "data": {
      "text/html": [
       "<div>\n",
       "<style scoped>\n",
       "    .dataframe tbody tr th:only-of-type {\n",
       "        vertical-align: middle;\n",
       "    }\n",
       "\n",
       "    .dataframe tbody tr th {\n",
       "        vertical-align: top;\n",
       "    }\n",
       "\n",
       "    .dataframe thead th {\n",
       "        text-align: right;\n",
       "    }\n",
       "</style>\n",
       "<table border=\"1\" class=\"dataframe\">\n",
       "  <thead>\n",
       "    <tr style=\"text-align: right;\">\n",
       "      <th></th>\n",
       "      <th>F1</th>\n",
       "      <th>F2</th>\n",
       "      <th>F3</th>\n",
       "      <th>F4</th>\n",
       "      <th>F5</th>\n",
       "      <th>F6</th>\n",
       "      <th>F7</th>\n",
       "      <th>F8</th>\n",
       "      <th>F9</th>\n",
       "      <th>F10</th>\n",
       "      <th>...</th>\n",
       "      <th>F59</th>\n",
       "      <th>F60</th>\n",
       "      <th>F61</th>\n",
       "      <th>F62</th>\n",
       "      <th>F63</th>\n",
       "      <th>F64</th>\n",
       "      <th>F65</th>\n",
       "      <th>F66</th>\n",
       "      <th>F67</th>\n",
       "      <th>F68</th>\n",
       "    </tr>\n",
       "  </thead>\n",
       "  <tbody>\n",
       "    <tr>\n",
       "      <th>0</th>\n",
       "      <td>-1.094000</td>\n",
       "      <td>-1.280592</td>\n",
       "      <td>2.806926</td>\n",
       "      <td>-0.097576</td>\n",
       "      <td>-0.791472</td>\n",
       "      <td>2.440896</td>\n",
       "      <td>0.003710</td>\n",
       "      <td>-0.864715</td>\n",
       "      <td>0.738257</td>\n",
       "      <td>-0.185613</td>\n",
       "      <td>...</td>\n",
       "      <td>0.465685</td>\n",
       "      <td>1.651588</td>\n",
       "      <td>0.169668</td>\n",
       "      <td>0.348005</td>\n",
       "      <td>-0.385988</td>\n",
       "      <td>-0.137105</td>\n",
       "      <td>-0.421766</td>\n",
       "      <td>-0.296043</td>\n",
       "      <td>-0.731677</td>\n",
       "      <td>-0.442480</td>\n",
       "    </tr>\n",
       "    <tr>\n",
       "      <th>1</th>\n",
       "      <td>-1.285544</td>\n",
       "      <td>-0.940198</td>\n",
       "      <td>-0.721321</td>\n",
       "      <td>-0.172044</td>\n",
       "      <td>-2.127893</td>\n",
       "      <td>2.549762</td>\n",
       "      <td>1.365750</td>\n",
       "      <td>0.489953</td>\n",
       "      <td>1.692462</td>\n",
       "      <td>0.387044</td>\n",
       "      <td>...</td>\n",
       "      <td>0.534732</td>\n",
       "      <td>-0.935377</td>\n",
       "      <td>-1.176909</td>\n",
       "      <td>-1.408592</td>\n",
       "      <td>-0.986426</td>\n",
       "      <td>-1.293346</td>\n",
       "      <td>-1.239692</td>\n",
       "      <td>-0.729675</td>\n",
       "      <td>-1.153275</td>\n",
       "      <td>-1.254825</td>\n",
       "    </tr>\n",
       "    <tr>\n",
       "      <th>2</th>\n",
       "      <td>0.503962</td>\n",
       "      <td>0.497136</td>\n",
       "      <td>-0.319168</td>\n",
       "      <td>0.330719</td>\n",
       "      <td>-0.398783</td>\n",
       "      <td>-0.749429</td>\n",
       "      <td>-2.380589</td>\n",
       "      <td>0.951098</td>\n",
       "      <td>-0.452177</td>\n",
       "      <td>-0.761333</td>\n",
       "      <td>...</td>\n",
       "      <td>0.274432</td>\n",
       "      <td>0.150854</td>\n",
       "      <td>0.161782</td>\n",
       "      <td>0.101072</td>\n",
       "      <td>-0.071694</td>\n",
       "      <td>-0.835381</td>\n",
       "      <td>-0.397305</td>\n",
       "      <td>-0.456676</td>\n",
       "      <td>-0.492329</td>\n",
       "      <td>-0.761836</td>\n",
       "    </tr>\n",
       "    <tr>\n",
       "      <th>3</th>\n",
       "      <td>-1.119978</td>\n",
       "      <td>0.696697</td>\n",
       "      <td>0.612882</td>\n",
       "      <td>-0.983295</td>\n",
       "      <td>1.333148</td>\n",
       "      <td>1.557607</td>\n",
       "      <td>-0.999593</td>\n",
       "      <td>-1.067051</td>\n",
       "      <td>0.811559</td>\n",
       "      <td>0.437626</td>\n",
       "      <td>...</td>\n",
       "      <td>0.696481</td>\n",
       "      <td>0.091214</td>\n",
       "      <td>-0.051819</td>\n",
       "      <td>0.219476</td>\n",
       "      <td>0.001850</td>\n",
       "      <td>-0.088704</td>\n",
       "      <td>-0.068108</td>\n",
       "      <td>-0.070306</td>\n",
       "      <td>0.277593</td>\n",
       "      <td>-0.071959</td>\n",
       "    </tr>\n",
       "    <tr>\n",
       "      <th>4</th>\n",
       "      <td>1.256214</td>\n",
       "      <td>1.066239</td>\n",
       "      <td>0.984965</td>\n",
       "      <td>-0.312513</td>\n",
       "      <td>-2.111077</td>\n",
       "      <td>0.009980</td>\n",
       "      <td>0.509741</td>\n",
       "      <td>0.837961</td>\n",
       "      <td>0.420966</td>\n",
       "      <td>0.366289</td>\n",
       "      <td>...</td>\n",
       "      <td>1.816629</td>\n",
       "      <td>0.593634</td>\n",
       "      <td>0.746647</td>\n",
       "      <td>0.035940</td>\n",
       "      <td>-0.292118</td>\n",
       "      <td>0.075086</td>\n",
       "      <td>-0.238434</td>\n",
       "      <td>-0.347040</td>\n",
       "      <td>-0.693764</td>\n",
       "      <td>0.053940</td>\n",
       "    </tr>\n",
       "    <tr>\n",
       "      <th>...</th>\n",
       "      <td>...</td>\n",
       "      <td>...</td>\n",
       "      <td>...</td>\n",
       "      <td>...</td>\n",
       "      <td>...</td>\n",
       "      <td>...</td>\n",
       "      <td>...</td>\n",
       "      <td>...</td>\n",
       "      <td>...</td>\n",
       "      <td>...</td>\n",
       "      <td>...</td>\n",
       "      <td>...</td>\n",
       "      <td>...</td>\n",
       "      <td>...</td>\n",
       "      <td>...</td>\n",
       "      <td>...</td>\n",
       "      <td>...</td>\n",
       "      <td>...</td>\n",
       "      <td>...</td>\n",
       "      <td>...</td>\n",
       "      <td>...</td>\n",
       "    </tr>\n",
       "    <tr>\n",
       "      <th>1054</th>\n",
       "      <td>0.089066</td>\n",
       "      <td>0.045324</td>\n",
       "      <td>-0.527161</td>\n",
       "      <td>0.274475</td>\n",
       "      <td>0.113220</td>\n",
       "      <td>-1.011250</td>\n",
       "      <td>-1.071873</td>\n",
       "      <td>-1.533993</td>\n",
       "      <td>-3.432258</td>\n",
       "      <td>-5.225601</td>\n",
       "      <td>...</td>\n",
       "      <td>0.269233</td>\n",
       "      <td>3.032646</td>\n",
       "      <td>3.000290</td>\n",
       "      <td>2.279520</td>\n",
       "      <td>3.409849</td>\n",
       "      <td>-0.028728</td>\n",
       "      <td>1.661721</td>\n",
       "      <td>3.501781</td>\n",
       "      <td>2.685491</td>\n",
       "      <td>1.111113</td>\n",
       "    </tr>\n",
       "    <tr>\n",
       "      <th>1055</th>\n",
       "      <td>0.558342</td>\n",
       "      <td>0.274368</td>\n",
       "      <td>-0.356357</td>\n",
       "      <td>-0.410656</td>\n",
       "      <td>0.710800</td>\n",
       "      <td>-0.240603</td>\n",
       "      <td>-0.370162</td>\n",
       "      <td>0.870655</td>\n",
       "      <td>-1.488764</td>\n",
       "      <td>0.566561</td>\n",
       "      <td>...</td>\n",
       "      <td>1.723216</td>\n",
       "      <td>3.048129</td>\n",
       "      <td>2.819643</td>\n",
       "      <td>1.571712</td>\n",
       "      <td>0.935972</td>\n",
       "      <td>0.406948</td>\n",
       "      <td>0.725402</td>\n",
       "      <td>-0.630365</td>\n",
       "      <td>1.991043</td>\n",
       "      <td>0.462783</td>\n",
       "    </tr>\n",
       "    <tr>\n",
       "      <th>1056</th>\n",
       "      <td>0.880180</td>\n",
       "      <td>0.668551</td>\n",
       "      <td>0.115084</td>\n",
       "      <td>-0.373637</td>\n",
       "      <td>0.848817</td>\n",
       "      <td>-0.859218</td>\n",
       "      <td>-0.823580</td>\n",
       "      <td>0.051974</td>\n",
       "      <td>-1.144327</td>\n",
       "      <td>1.314224</td>\n",
       "      <td>...</td>\n",
       "      <td>1.075571</td>\n",
       "      <td>3.199856</td>\n",
       "      <td>0.321025</td>\n",
       "      <td>0.897483</td>\n",
       "      <td>0.356881</td>\n",
       "      <td>1.262655</td>\n",
       "      <td>0.939693</td>\n",
       "      <td>-0.032762</td>\n",
       "      <td>0.801281</td>\n",
       "      <td>0.081143</td>\n",
       "    </tr>\n",
       "    <tr>\n",
       "      <th>1057</th>\n",
       "      <td>-0.990084</td>\n",
       "      <td>-1.094018</td>\n",
       "      <td>3.645894</td>\n",
       "      <td>-0.474362</td>\n",
       "      <td>-1.129270</td>\n",
       "      <td>0.188591</td>\n",
       "      <td>0.092048</td>\n",
       "      <td>0.252823</td>\n",
       "      <td>-0.377933</td>\n",
       "      <td>0.510161</td>\n",
       "      <td>...</td>\n",
       "      <td>4.246089</td>\n",
       "      <td>1.513936</td>\n",
       "      <td>1.893477</td>\n",
       "      <td>1.733179</td>\n",
       "      <td>0.707100</td>\n",
       "      <td>1.219381</td>\n",
       "      <td>-0.573497</td>\n",
       "      <td>-0.156859</td>\n",
       "      <td>-0.796013</td>\n",
       "      <td>-0.849146</td>\n",
       "    </tr>\n",
       "    <tr>\n",
       "      <th>1058</th>\n",
       "      <td>-0.133272</td>\n",
       "      <td>-0.074305</td>\n",
       "      <td>-0.554388</td>\n",
       "      <td>-0.582548</td>\n",
       "      <td>0.307454</td>\n",
       "      <td>-0.958630</td>\n",
       "      <td>-1.523819</td>\n",
       "      <td>-1.589983</td>\n",
       "      <td>-3.622496</td>\n",
       "      <td>-5.815839</td>\n",
       "      <td>...</td>\n",
       "      <td>0.487263</td>\n",
       "      <td>4.062586</td>\n",
       "      <td>5.037271</td>\n",
       "      <td>4.045322</td>\n",
       "      <td>3.617340</td>\n",
       "      <td>0.939408</td>\n",
       "      <td>1.039827</td>\n",
       "      <td>5.210938</td>\n",
       "      <td>2.457164</td>\n",
       "      <td>1.430688</td>\n",
       "    </tr>\n",
       "  </tbody>\n",
       "</table>\n",
       "<p>1059 rows × 68 columns</p>\n",
       "</div>"
      ],
      "text/plain": [
       "            F1        F2        F3        F4        F5        F6        F7  \\\n",
       "0    -1.094000 -1.280592  2.806926 -0.097576 -0.791472  2.440896  0.003710   \n",
       "1    -1.285544 -0.940198 -0.721321 -0.172044 -2.127893  2.549762  1.365750   \n",
       "2     0.503962  0.497136 -0.319168  0.330719 -0.398783 -0.749429 -2.380589   \n",
       "3    -1.119978  0.696697  0.612882 -0.983295  1.333148  1.557607 -0.999593   \n",
       "4     1.256214  1.066239  0.984965 -0.312513 -2.111077  0.009980  0.509741   \n",
       "...        ...       ...       ...       ...       ...       ...       ...   \n",
       "1054  0.089066  0.045324 -0.527161  0.274475  0.113220 -1.011250 -1.071873   \n",
       "1055  0.558342  0.274368 -0.356357 -0.410656  0.710800 -0.240603 -0.370162   \n",
       "1056  0.880180  0.668551  0.115084 -0.373637  0.848817 -0.859218 -0.823580   \n",
       "1057 -0.990084 -1.094018  3.645894 -0.474362 -1.129270  0.188591  0.092048   \n",
       "1058 -0.133272 -0.074305 -0.554388 -0.582548  0.307454 -0.958630 -1.523819   \n",
       "\n",
       "            F8        F9       F10  ...       F59       F60       F61  \\\n",
       "0    -0.864715  0.738257 -0.185613  ...  0.465685  1.651588  0.169668   \n",
       "1     0.489953  1.692462  0.387044  ...  0.534732 -0.935377 -1.176909   \n",
       "2     0.951098 -0.452177 -0.761333  ...  0.274432  0.150854  0.161782   \n",
       "3    -1.067051  0.811559  0.437626  ...  0.696481  0.091214 -0.051819   \n",
       "4     0.837961  0.420966  0.366289  ...  1.816629  0.593634  0.746647   \n",
       "...        ...       ...       ...  ...       ...       ...       ...   \n",
       "1054 -1.533993 -3.432258 -5.225601  ...  0.269233  3.032646  3.000290   \n",
       "1055  0.870655 -1.488764  0.566561  ...  1.723216  3.048129  2.819643   \n",
       "1056  0.051974 -1.144327  1.314224  ...  1.075571  3.199856  0.321025   \n",
       "1057  0.252823 -0.377933  0.510161  ...  4.246089  1.513936  1.893477   \n",
       "1058 -1.589983 -3.622496 -5.815839  ...  0.487263  4.062586  5.037271   \n",
       "\n",
       "           F62       F63       F64       F65       F66       F67       F68  \n",
       "0     0.348005 -0.385988 -0.137105 -0.421766 -0.296043 -0.731677 -0.442480  \n",
       "1    -1.408592 -0.986426 -1.293346 -1.239692 -0.729675 -1.153275 -1.254825  \n",
       "2     0.101072 -0.071694 -0.835381 -0.397305 -0.456676 -0.492329 -0.761836  \n",
       "3     0.219476  0.001850 -0.088704 -0.068108 -0.070306  0.277593 -0.071959  \n",
       "4     0.035940 -0.292118  0.075086 -0.238434 -0.347040 -0.693764  0.053940  \n",
       "...        ...       ...       ...       ...       ...       ...       ...  \n",
       "1054  2.279520  3.409849 -0.028728  1.661721  3.501781  2.685491  1.111113  \n",
       "1055  1.571712  0.935972  0.406948  0.725402 -0.630365  1.991043  0.462783  \n",
       "1056  0.897483  0.356881  1.262655  0.939693 -0.032762  0.801281  0.081143  \n",
       "1057  1.733179  0.707100  1.219381 -0.573497 -0.156859 -0.796013 -0.849146  \n",
       "1058  4.045322  3.617340  0.939408  1.039827  5.210938  2.457164  1.430688  \n",
       "\n",
       "[1059 rows x 68 columns]"
      ]
     },
     "metadata": {},
     "output_type": "display_data"
    }
   ],
   "source": [
    "import pandas as pd\n",
    "from sklearn.linear_model import LinearRegression\n",
    "import matplotlib.pyplot as plt\n",
    "\n",
    "import numpy as np\n",
    "\n",
    "data = pd.read_csv(\"music_scaled.csv\")\n",
    "X = data.iloc[:,:68]\n",
    "y = data[\"Latitude\"]\n",
    "display(X)"
   ]
  },
  {
   "cell_type": "markdown",
   "id": "68484080",
   "metadata": {
    "pycharm": {
     "name": "#%% md\n"
    }
   },
   "source": [
    "### Question 1 (2 pts)"
   ]
  },
  {
   "cell_type": "markdown",
   "id": "a2502e44",
   "metadata": {
    "pycharm": {
     "name": "#%% md\n"
    }
   },
   "source": [
    "a) Perform linear regression of **y** on **X** using `sklearn.linear_model.LinearRegression` when the regressors consist of:\n",
    "- F1 only; \n",
    "- F1 and F2 only; \n",
    "- F1, F2, and F3 only; \n",
    "- F1, F2, F3, ........, and F68. \n",
    "\n",
    "b) In each of the above 4 cases, print the estimated coefficient for **F1**."
   ]
  },
  {
   "cell_type": "code",
   "execution_count": 2,
   "id": "8d9a6879",
   "metadata": {
    "pycharm": {
     "name": "#%%\n"
    }
   },
   "outputs": [
    {
     "name": "stdout",
     "output_type": "stream",
     "text": [
      "Coeff F1 for 0: 1 is 0.659733950012265\n",
      "Coeff F1 for 0: 2 is 1.669923041178091\n",
      "Coeff F1 for 0: 3 is 2.222157586667258\n",
      "Coeff F1 for 0: 4 is 2.3244270430823346\n",
      "Coeff F1 for 0: 5 is 2.268297983012784\n",
      "Coeff F1 for 0: 6 is 2.8452351924823773\n",
      "Coeff F1 for 0: 7 is 3.3320870224076193\n",
      "Coeff F1 for 0: 8 is 3.356678940253303\n",
      "Coeff F1 for 0: 9 is 3.2698567651136208\n",
      "Coeff F1 for 0:10 is 3.303231638278588\n",
      "Coeff F1 for 0:11 is 3.2920770604158536\n",
      "Coeff F1 for 0:12 is 3.3208903646389163\n",
      "Coeff F1 for 0:13 is 3.347535129423262\n",
      "Coeff F1 for 0:14 is 3.3268162146365623\n",
      "Coeff F1 for 0:15 is 3.285897642646161\n",
      "Coeff F1 for 0:16 is 2.97362302107284\n",
      "Coeff F1 for 0:17 is 2.9332092426984095\n",
      "Coeff F1 for 0:18 is 5.019515373249254\n",
      "Coeff F1 for 0:19 is 6.364015712678701\n",
      "Coeff F1 for 0:20 is 4.998354920508962\n",
      "Coeff F1 for 0:21 is 6.364778172303926\n",
      "Coeff F1 for 0:22 is 4.133694649943278\n",
      "Coeff F1 for 0:23 is 4.730007093894282\n",
      "Coeff F1 for 0:24 is 4.98148878103636\n",
      "Coeff F1 for 0:25 is 4.930128203655862\n",
      "Coeff F1 for 0:26 is 5.093094310749812\n",
      "Coeff F1 for 0:27 is 5.1984797323157785\n",
      "Coeff F1 for 0:28 is 5.163328587511246\n",
      "Coeff F1 for 0:29 is 5.157666806840055\n",
      "Coeff F1 for 0:30 is 5.3129412654417685\n",
      "Coeff F1 for 0:31 is 5.275584887832919\n",
      "Coeff F1 for 0:32 is 5.282177798563248\n",
      "Coeff F1 for 0:33 is 5.30331314747463\n",
      "Coeff F1 for 0:34 is 4.9388998823916985\n",
      "Coeff F1 for 0:35 is 4.75844919109582\n",
      "Coeff F1 for 0:36 is 3.920741356653519\n",
      "Coeff F1 for 0:37 is 3.979083895754725\n",
      "Coeff F1 for 0:38 is 3.6551183225110986\n",
      "Coeff F1 for 0:39 is 2.546008346527516\n",
      "Coeff F1 for 0:40 is 2.4268589999434877\n",
      "Coeff F1 for 0:41 is 2.2171089077737784\n",
      "Coeff F1 for 0:42 is 2.3102492192512774\n",
      "Coeff F1 for 0:43 is 2.528893660995219\n",
      "Coeff F1 for 0:44 is 2.5772808457915968\n",
      "Coeff F1 for 0:45 is 2.5796880236718667\n",
      "Coeff F1 for 0:46 is 2.7779106469450006\n",
      "Coeff F1 for 0:47 is 2.778351298560399\n",
      "Coeff F1 for 0:48 is 2.750938877211275\n",
      "Coeff F1 for 0:49 is 2.624263278768181\n",
      "Coeff F1 for 0:50 is 2.613819697931031\n",
      "Coeff F1 for 0:51 is 2.802340330013286\n",
      "Coeff F1 for 0:52 is 2.730715055384175\n",
      "Coeff F1 for 0:53 is 5.26376216977466\n",
      "Coeff F1 for 0:54 is 6.4243799960593435\n",
      "Coeff F1 for 0:55 is 8.821811756194647\n",
      "Coeff F1 for 0:56 is 9.162811807827737\n",
      "Coeff F1 for 0:57 is 8.98305474203043\n",
      "Coeff F1 for 0:58 is 8.984069782543166\n",
      "Coeff F1 for 0:59 is 8.61981963127432\n",
      "Coeff F1 for 0:60 is 8.961607071015766\n",
      "Coeff F1 for 0:61 is 8.991982928633284\n",
      "Coeff F1 for 0:62 is 8.923925522497594\n",
      "Coeff F1 for 0:63 is 8.864724445412197\n",
      "Coeff F1 for 0:64 is 8.697396597129543\n",
      "Coeff F1 for 0:65 is 8.636579698214105\n",
      "Coeff F1 for 0:66 is 8.896444495901067\n",
      "Coeff F1 for 0:67 is 8.45382033164647\n",
      "Coeff F1 for 0:68 is 8.303670971591433\n"
     ]
    }
   ],
   "source": [
    "model = LinearRegression()\n",
    "for i in range(X.shape[1]):\n",
    "    coeffs_i = model.fit(X.iloc[:,:i+1],y)\n",
    "    print(f'Coeff F1 for 0:{i+1:2} is {coeffs_i.coef_[0]}')"
   ]
  },
  {
   "cell_type": "markdown",
   "id": "6241910c",
   "metadata": {
    "pycharm": {
     "name": "#%% md\n"
    }
   },
   "source": [
    "### Question 2 (3 pts)"
   ]
  },
  {
   "cell_type": "markdown",
   "id": "9524d597",
   "metadata": {
    "pycharm": {
     "name": "#%% md\n"
    }
   },
   "source": [
    "a) Perform a manual implementation to compute a full set of principal components of **X** using the following steps:\n",
    "- Compute the sample covariance matrix \n",
    "- Perform the eigen decomposition of the covariance matrix\n",
    "- Project the data onto the principal components (eigenvectors of the covariance matrix)\n",
    "\n",
    "\n",
    "b) Perform linear regression of **y** on the PCs using `sklearn.linear_model.LinearRegression` when the regressors consist of \n",
    "- PC1 only; \n",
    "- PC1 and PC2 only; \n",
    "- PC1, PC2, and PC3 only;\n",
    "- and PC1, PC2, PC3,  ........, and PC68. \n",
    "\n",
    "c) In each of the above 4 cases, print the estimated coefficient for **PC1**."
   ]
  },
  {
   "cell_type": "code",
   "execution_count": 3,
   "id": "f10c99bb",
   "metadata": {
    "pycharm": {
     "name": "#%%\n"
    }
   },
   "outputs": [],
   "source": [
    "X = X.to_numpy().T\n",
    "X_mean =  X.mean(axis=1)[np.newaxis]\n",
    "X_norm = (X - X_mean.T)\n",
    "C = (X_norm @ X_norm.T) / (X.shape[0]-1)\n",
    "\n",
    "L,E = np.linalg.eigh(C)\n",
    "L,E = L[::-1],E[:,::-1]"
   ]
  },
  {
   "cell_type": "code",
   "execution_count": 4,
   "id": "b3db5bff",
   "metadata": {
    "pycharm": {
     "name": "#%%\n"
    }
   },
   "outputs": [],
   "source": [
    "A = E.T @ X # Project data"
   ]
  },
  {
   "cell_type": "code",
   "execution_count": 5,
   "id": "3df69fa0",
   "metadata": {
    "pycharm": {
     "name": "#%%\n"
    }
   },
   "outputs": [
    {
     "data": {
      "text/plain": [
       "array([0.08259023])"
      ]
     },
     "execution_count": 5,
     "metadata": {},
     "output_type": "execute_result"
    }
   ],
   "source": [
    "model = LinearRegression()\n",
    "model.fit(A[:1,:].T,y)\n",
    "model.coef_"
   ]
  },
  {
   "cell_type": "code",
   "execution_count": null,
   "id": "a69e7724",
   "metadata": {
    "pycharm": {
     "name": "#%%\n"
    }
   },
   "outputs": [],
   "source": []
  },
  {
   "cell_type": "code",
   "execution_count": 6,
   "id": "ccaa64b4",
   "metadata": {
    "pycharm": {
     "name": "#%%\n"
    }
   },
   "outputs": [
    {
     "name": "stdout",
     "output_type": "stream",
     "text": [
      "Coeff F1 for 0: 1 is 0.08259022735453127\n",
      "Coeff F1 for 0: 2 is 0.08259022735453127\n",
      "Coeff F1 for 0: 3 is 0.08259022735453127\n",
      "Coeff F1 for 0: 4 is 0.08259022735453127\n",
      "Coeff F1 for 0: 5 is 0.08259022735453127\n",
      "Coeff F1 for 0: 6 is 0.08259022735453127\n",
      "Coeff F1 for 0: 7 is 0.08259022735453127\n",
      "Coeff F1 for 0: 8 is 0.08259022735453127\n",
      "Coeff F1 for 0: 9 is 0.08259022735453127\n",
      "Coeff F1 for 0:10 is 0.08259022735453127\n",
      "Coeff F1 for 0:11 is 0.08259022735453127\n",
      "Coeff F1 for 0:12 is 0.08259022735453127\n",
      "Coeff F1 for 0:13 is 0.08259022735453127\n",
      "Coeff F1 for 0:14 is 0.08259022735453127\n",
      "Coeff F1 for 0:15 is 0.08259022735453127\n",
      "Coeff F1 for 0:16 is 0.08259022735453127\n",
      "Coeff F1 for 0:17 is 0.08259022735453127\n",
      "Coeff F1 for 0:18 is 0.08259022735453127\n",
      "Coeff F1 for 0:19 is 0.08259022735453127\n",
      "Coeff F1 for 0:20 is 0.08259022735453127\n",
      "Coeff F1 for 0:21 is 0.08259022735453127\n",
      "Coeff F1 for 0:22 is 0.08259022735453127\n",
      "Coeff F1 for 0:23 is 0.08259022735453127\n",
      "Coeff F1 for 0:24 is 0.08259022735453127\n",
      "Coeff F1 for 0:25 is 0.08259022735453127\n",
      "Coeff F1 for 0:26 is 0.08259022735453134\n",
      "Coeff F1 for 0:27 is 0.08259022735453132\n",
      "Coeff F1 for 0:28 is 0.08259022735453128\n",
      "Coeff F1 for 0:29 is 0.08259022735453132\n",
      "Coeff F1 for 0:30 is 0.0825902273545314\n",
      "Coeff F1 for 0:31 is 0.0825902273545314\n",
      "Coeff F1 for 0:32 is 0.08259022735453139\n",
      "Coeff F1 for 0:33 is 0.08259022735453139\n",
      "Coeff F1 for 0:34 is 0.0825902273545314\n",
      "Coeff F1 for 0:35 is 0.08259022735453145\n",
      "Coeff F1 for 0:36 is 0.08259022735453142\n",
      "Coeff F1 for 0:37 is 0.08259022735453139\n",
      "Coeff F1 for 0:38 is 0.08259022735453138\n",
      "Coeff F1 for 0:39 is 0.08259022735453128\n",
      "Coeff F1 for 0:40 is 0.0825902273545313\n",
      "Coeff F1 for 0:41 is 0.08259022735453132\n",
      "Coeff F1 for 0:42 is 0.08259022735453136\n",
      "Coeff F1 for 0:43 is 0.08259022735453134\n",
      "Coeff F1 for 0:44 is 0.08259022735453136\n",
      "Coeff F1 for 0:45 is 0.08259022735453121\n",
      "Coeff F1 for 0:46 is 0.08259022735453121\n",
      "Coeff F1 for 0:47 is 0.08259022735453123\n",
      "Coeff F1 for 0:48 is 0.08259022735453123\n",
      "Coeff F1 for 0:49 is 0.08259022735453121\n",
      "Coeff F1 for 0:50 is 0.0825902273545308\n",
      "Coeff F1 for 0:51 is 0.08259022735453092\n",
      "Coeff F1 for 0:52 is 0.08259022735453092\n",
      "Coeff F1 for 0:53 is 0.08259022735453103\n",
      "Coeff F1 for 0:54 is 0.08259022735453099\n",
      "Coeff F1 for 0:55 is 0.08259022735453092\n",
      "Coeff F1 for 0:56 is 0.08259022735453092\n",
      "Coeff F1 for 0:57 is 0.08259022735453087\n",
      "Coeff F1 for 0:58 is 0.08259022735453099\n",
      "Coeff F1 for 0:59 is 0.08259022735453096\n",
      "Coeff F1 for 0:60 is 0.08259022735453109\n",
      "Coeff F1 for 0:61 is 0.08259022735453124\n",
      "Coeff F1 for 0:62 is 0.08259022735453078\n",
      "Coeff F1 for 0:63 is 0.08259022735453081\n",
      "Coeff F1 for 0:64 is 0.08259022735453082\n",
      "Coeff F1 for 0:65 is 0.08259022735453095\n",
      "Coeff F1 for 0:66 is 0.08259022735453092\n",
      "Coeff F1 for 0:67 is 0.08259022735453092\n",
      "Coeff F1 for 0:68 is 0.08259022735452892\n"
     ]
    }
   ],
   "source": [
    "model = LinearRegression()\n",
    "A = A.T\n",
    "for i in range(X.shape[0]):\n",
    "    coeffs_i = model.fit(A[:,:i+1],y)\n",
    "    print(f'Coeff F1 for 0:{i+1:2} is {coeffs_i.coef_[0]}')"
   ]
  },
  {
   "cell_type": "markdown",
   "id": "bf8977cd",
   "metadata": {
    "pycharm": {
     "name": "#%% md\n"
    }
   },
   "source": [
    "### Question 3 (3 pts)"
   ]
  },
  {
   "cell_type": "markdown",
   "id": "6ac22727",
   "metadata": {
    "pycharm": {
     "name": "#%% md\n"
    }
   },
   "source": [
    "a) What do you observe in terms of estimated coefficients of **F1** when the number of regressors are increased compared to the estimated coefficients of **PC1** when the number of regressors are increased?\n",
    "\n",
    "b) Explain the reason behind this observation.\n",
    "\n",
    "Answer: We see that the predicted F1 coefficients alter and vary as the number of regressors rises. This demonstrates that as the number of regressors varies, so does the slope in the first dimension. When we projected the data points into the PC space, we saw essentially little change in the predicted coefficients of PC1, however. This is also what I had anticipated at first. The basis vectors are linearly independent when we project data into the PC space, therefore the coefficients should be the same no matter how many PCi axes we include. This is the explanation for this.\n"
   ]
  },
  {
   "cell_type": "markdown",
   "id": "0c19650f",
   "metadata": {
    "pycharm": {
     "name": "#%% md\n"
    }
   },
   "source": [
    "### Question 4 (2 pts)"
   ]
  },
  {
   "cell_type": "markdown",
   "id": "f9548cda",
   "metadata": {
    "pycharm": {
     "name": "#%% md\n"
    }
   },
   "source": [
    "a) Print the correlation matrix of all the PC's.\n",
    "\n",
    "b) Which matrix does it closely resemble to? \n",
    "\n",
    "c) Which feature of the principal components is depicted through this matrix?"
   ]
  },
  {
   "cell_type": "code",
   "execution_count": 7,
   "id": "810b9752",
   "metadata": {
    "pycharm": {
     "name": "#%%\n"
    }
   },
   "outputs": [
    {
     "name": "stdout",
     "output_type": "stream",
     "text": [
      "[[ 1.00000000e+00 -4.99600361e-16 -1.94289029e-16 ...  4.33680869e-18\n",
      "  -1.64798730e-17 -8.50014503e-17]\n",
      " [-4.99600361e-16  1.00000000e+00  9.54097912e-17 ... -8.67361738e-19\n",
      "  -2.77555756e-17 -9.54097912e-17]\n",
      " [-1.94289029e-16  9.54097912e-17  1.00000000e+00 ... -2.65412692e-16\n",
      "   9.70903045e-17  1.77863366e-16]\n",
      " ...\n",
      " [ 4.33680869e-18 -8.67361738e-19 -2.65412692e-16 ...  1.00000000e+00\n",
      "  -3.00134266e-16  1.39780765e-16]\n",
      " [-1.64798730e-17 -2.77555756e-17  9.70903045e-17 ... -3.00134266e-16\n",
      "   1.00000000e+00 -9.15337684e-17]\n",
      " [-8.50014503e-17 -9.54097912e-17  1.77863366e-16 ...  1.39780765e-16\n",
      "  -9.15337684e-17  1.00000000e+00]]\n"
     ]
    }
   ],
   "source": [
    "print(E @ E.T)"
   ]
  },
  {
   "cell_type": "markdown",
   "id": "3b3d7310",
   "metadata": {
    "pycharm": {
     "name": "#%% md\n"
    }
   },
   "source": [
    "It closely resembles the Identity matrix. Thus, we can say PCs are orthogonal."
   ]
  },
  {
   "cell_type": "markdown",
   "id": "292dcc2e",
   "metadata": {
    "pycharm": {
     "name": "#%% md\n"
    }
   },
   "source": []
  }
 ],
 "metadata": {
  "kernelspec": {
   "display_name": "Python 3 (ipykernel)",
   "language": "python",
   "name": "python3"
  },
  "language_info": {
   "codemirror_mode": {
    "name": "ipython",
    "version": 3
   },
   "file_extension": ".py",
   "mimetype": "text/x-python",
   "name": "python",
   "nbconvert_exporter": "python",
   "pygments_lexer": "ipython3",
   "version": "3.8.12"
  },
  "vscode": {
   "interpreter": {
    "hash": "6ddd890daad9ccb684bff25183d61c9f8150c8b957a775d488269053124e5aa3"
   }
  }
 },
 "nbformat": 4,
 "nbformat_minor": 5
}