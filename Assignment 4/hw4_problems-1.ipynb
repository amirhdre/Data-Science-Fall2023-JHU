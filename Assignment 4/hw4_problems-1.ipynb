{
 "cells": [
  {
   "cell_type": "markdown",
   "id": "a1aa7201",
   "metadata": {
    "pycharm": {
     "name": "#%% md\n"
    }
   },
   "source": [
    "# Homework 4\n",
    "\n",
    "## Assignment Info\n",
    "Homework #: HW4 \\\n",
    "Description: Naive Bayes Classifier \\\n",
    "Course: EN.553.636 Introduction to Data Science \\\n",
    "Semester: Spring 2023, Homewood Campus\t\\\n",
    "Instructor: Tamas Budavari \\\n",
    "TA: Matthew Tivnan \\\n",
    "Date: March 15, 2023\n",
    "\n",
    "## Student Info\n",
    "Name: Amir Hossein Daraie \\\n",
    "JHED-ID: adaraie1 \\\n",
    "Email: adaraie1@jhu.edu\n",
    "\n",
    "We load `heart_processed.csv` which has log-predictors from the [Heart Failure Clinical Records Dataset](https://archive.ics.uci.edu/ml/datasets/Heart%2Bfailure%2Bclinical%2Brecords) for predicting `DEATH_EVENT`."
   ]
  },
  {
   "cell_type": "markdown",
   "source": [
    "![IMG_E83EB9148201-1.jpeg](attachment:IMG_E83EB9148201-1.jpeg)"
   ],
   "metadata": {
    "collapsed": false,
    "pycharm": {
     "name": "#%% md\n"
    }
   }
  },
  {
   "cell_type": "code",
   "execution_count": null,
   "outputs": [],
   "source": [
    "import matplotlib.pyplot as plt\n",
    "import pandas as pd\n",
    "import numpy as np\n",
    "\n",
    "dataset = pd.read_csv(\"heart_processed.csv\")\n",
    "X = dataset.drop(\"DEATH_EVENT\", axis=1)\n",
    "y = dataset[\"DEATH_EVENT\"]\n",
    "\n",
    "# convert to numpy arrays\n",
    "X = X.values\n",
    "y = y.values\n",
    "\n",
    "# drop the first column which are the patient IDs\n",
    "X = X[:, 1:]\n",
    "\n",
    "# split the data into training and testing sets\n",
    "from sklearn.model_selection import train_test_split\n",
    "X_train, X_test, y_train, y_test = train_test_split(X, y, test_size=0.2, random_state=42)\n",
    "\n",
    "# print the shapes of the training and testing sets\n",
    "print(X_train.shape)\n",
    "print(y_train.shape)\n",
    "print(X_test.shape)\n",
    "print(y_test.shape)"
   ],
   "metadata": {
    "collapsed": false,
    "pycharm": {
     "name": "#%%\n"
    }
   }
  },
  {
   "cell_type": "code",
   "execution_count": 1,
   "id": "9f648bc7",
   "metadata": {
    "pycharm": {
     "name": "#%%\n"
    }
   },
   "outputs": [
    {
     "name": "stdout",
     "output_type": "stream",
     "text": [
      "(239, 6)\n",
      "(239,)\n",
      "(60, 6)\n",
      "(60,)\n"
     ]
    }
   ],
   "source": [
    "import matplotlib.pyplot as plt\n",
    "import pandas as pd\n",
    "import numpy as np\n",
    "\n",
    "dataset = pd.read_csv(\"heart_processed.csv\")\n",
    "X = dataset.drop(\"DEATH_EVENT\", axis=1)\n",
    "y = dataset[\"DEATH_EVENT\"]\n",
    "\n",
    "# convert to numpy arrays\n",
    "X = X.values\n",
    "y = y.values\n",
    "\n",
    "# drop the first column which are the patient IDs\n",
    "X = X[:, 1:]\n",
    "\n",
    "# split the data into training and testing sets\n",
    "from sklearn.model_selection import train_test_split\n",
    "X_train, X_test, y_train, y_test = train_test_split(X, y, test_size=0.2, random_state=42)\n",
    "\n",
    "# print the shapes of the training and testing sets\n",
    "print(X_train.shape)\n",
    "print(y_train.shape)\n",
    "print(X_test.shape)\n",
    "print(y_test.shape)"
   ]
  },
  {
   "cell_type": "markdown",
   "id": "ca4be0c2",
   "metadata": {
    "pycharm": {
     "name": "#%% md\n"
    }
   },
   "source": [
    "[10pts] Write a naive Bayes classifier with priors inferred from the dataset and class-conditional densities inferred using `scipy.stats.gaussian_kde` with default bandwidth. Use only the training data to fit the classification model. Print the training accuracy and testing accuracy. \n",
    "\n",
    "Hint: Recall that naive Bayes classification involves the (naive) assumption that the features of X are independent"
   ]
  },
  {
   "cell_type": "code",
   "execution_count": 2,
   "id": "fe20cfeb",
   "metadata": {
    "pycharm": {
     "name": "#%%\n"
    }
   },
   "outputs": [],
   "source": [
    "from scipy.stats import gaussian_kde\n",
    "\n",
    "# Compute class probabilities P(y=0) and P(y=1)\n",
    "n = y_train.shape[0]\n",
    "p_0 = sum(y_train==0) / n\n",
    "p_1 = sum(y_train==1) / n"
   ]
  },
  {
   "cell_type": "code",
   "execution_count": 3,
   "id": "6fd0c1aa",
   "metadata": {
    "pycharm": {
     "name": "#%%\n"
    }
   },
   "outputs": [
    {
     "name": "stdout",
     "output_type": "stream",
     "text": [
      "Training accuracy is 0.8996\n"
     ]
    }
   ],
   "source": [
    "# Compute Gaussian Kernel Density function using variance and mean of our prior data\n",
    "kde_0 = gaussian_kde(X_train[y_train==0].T)\n",
    "kde_1 = gaussian_kde(X_train[y_train==1].T)\n",
    "\n",
    "# Compute the likelihoods for both classes y=0,1\n",
    "p = np.zeros((239,2))\n",
    "for i in range(239):\n",
    "    pi_0 = kde_0.evaluate(X_train[i]) * p_0\n",
    "    pi_1 = kde_1.evaluate(X_train[i]) * p_1\n",
    "    p[i,:] = [pi_0[0], pi_1[0]]\n",
    "\n",
    "# Compute the argmax of likelihood to convert probabilities to classes\n",
    "y_hat_train = np.argmax(p, axis=1)\n",
    "\n",
    "# Compute training accuracy\n",
    "acc_train = np.average(y_train == y_hat_train)\n",
    "print(f\"Training accuracy is {acc_train:.4f}\")"
   ]
  },
  {
   "cell_type": "code",
   "execution_count": 4,
   "id": "376f1411",
   "metadata": {
    "pycharm": {
     "name": "#%%\n"
    }
   },
   "outputs": [
    {
     "name": "stdout",
     "output_type": "stream",
     "text": [
      "Testing accuracy is 0.6167\n"
     ]
    }
   ],
   "source": [
    "# Note: Do not change kde_0 & kde_1 for testing\n",
    "\n",
    "# Compute the likelihoods for both classes y=0,1\n",
    "p = np.zeros((60,2))\n",
    "for i in range(60):\n",
    "    pi_0 = kde_0.evaluate(X_test[i]) * p_0\n",
    "    pi_1 = kde_1.evaluate(X_test[i]) * p_1\n",
    "    p[i,:] = [pi_0[0], pi_1[0]]\n",
    "\n",
    "# Compute the argmax of likelihood to convert probabilities to classes\n",
    "y_hat_test = np.argmax(p, axis=1)\n",
    "\n",
    "# Compute testing accuracy\n",
    "acc_test = np.average(y_test == y_hat_test)\n",
    "print(f\"Testing accuracy is {acc_test:.4f}\")"
   ]
  }
 ],
 "metadata": {
  "kernelspec": {
   "display_name": "Python 3 (ipykernel)",
   "language": "python",
   "name": "python3"
  },
  "language_info": {
   "codemirror_mode": {
    "name": "ipython",
    "version": 3
   },
   "file_extension": ".py",
   "mimetype": "text/x-python",
   "name": "python",
   "nbconvert_exporter": "python",
   "pygments_lexer": "ipython3",
   "version": "3.8.12"
  }
 },
 "nbformat": 4,
 "nbformat_minor": 5
}