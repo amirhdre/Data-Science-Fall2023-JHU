{
 "cells": [
  {
   "cell_type": "markdown",
   "id": "944ab4d2",
   "metadata": {
    "pycharm": {
     "name": "#%% md\n"
    }
   },
   "source": [
    "# Homework 5\n",
    "## Introduction to Data Science\n",
    "### Spring 2023\n",
    "\n",
    "`pulsar.csv` ([source](https://archive.ics.uci.edu/ml/datasets/HTRU2)) contains statistics from two types of signal from pulsar candidates: integrated profile and dispersion-measure signal-to-noise curve."
   ]
  },
  {
   "cell_type": "code",
   "execution_count": 1,
   "id": "382bf811",
   "metadata": {
    "pycharm": {
     "name": "#%%\n"
    },
    "scrolled": true
   },
   "outputs": [
    {
     "data": {
      "text/html": [
       "<div>\n",
       "<style scoped>\n",
       "    .dataframe tbody tr th:only-of-type {\n",
       "        vertical-align: middle;\n",
       "    }\n",
       "\n",
       "    .dataframe tbody tr th {\n",
       "        vertical-align: top;\n",
       "    }\n",
       "\n",
       "    .dataframe thead th {\n",
       "        text-align: right;\n",
       "    }\n",
       "</style>\n",
       "<table border=\"1\" class=\"dataframe\">\n",
       "  <thead>\n",
       "    <tr style=\"text-align: right;\">\n",
       "      <th></th>\n",
       "      <th>IP_Mean</th>\n",
       "      <th>IP_SD</th>\n",
       "      <th>IP_Kurt</th>\n",
       "      <th>IP_Skew</th>\n",
       "      <th>DMSNR_Mean</th>\n",
       "      <th>DMSNR_SD</th>\n",
       "      <th>DMSNR_Kurt</th>\n",
       "      <th>DMSNR_Skew</th>\n",
       "      <th>Pulsar</th>\n",
       "    </tr>\n",
       "  </thead>\n",
       "  <tbody>\n",
       "    <tr>\n",
       "      <th>0</th>\n",
       "      <td>140.562500</td>\n",
       "      <td>55.683782</td>\n",
       "      <td>-0.234571</td>\n",
       "      <td>-0.699648</td>\n",
       "      <td>3.199833</td>\n",
       "      <td>19.110426</td>\n",
       "      <td>7.975532</td>\n",
       "      <td>74.242225</td>\n",
       "      <td>0</td>\n",
       "    </tr>\n",
       "    <tr>\n",
       "      <th>1</th>\n",
       "      <td>102.507812</td>\n",
       "      <td>58.882430</td>\n",
       "      <td>0.465318</td>\n",
       "      <td>-0.515088</td>\n",
       "      <td>1.677258</td>\n",
       "      <td>14.860146</td>\n",
       "      <td>10.576487</td>\n",
       "      <td>127.393580</td>\n",
       "      <td>0</td>\n",
       "    </tr>\n",
       "    <tr>\n",
       "      <th>2</th>\n",
       "      <td>103.015625</td>\n",
       "      <td>39.341649</td>\n",
       "      <td>0.323328</td>\n",
       "      <td>1.051164</td>\n",
       "      <td>3.121237</td>\n",
       "      <td>21.744669</td>\n",
       "      <td>7.735822</td>\n",
       "      <td>63.171909</td>\n",
       "      <td>0</td>\n",
       "    </tr>\n",
       "    <tr>\n",
       "      <th>3</th>\n",
       "      <td>136.750000</td>\n",
       "      <td>57.178449</td>\n",
       "      <td>-0.068415</td>\n",
       "      <td>-0.636238</td>\n",
       "      <td>3.642977</td>\n",
       "      <td>20.959280</td>\n",
       "      <td>6.896499</td>\n",
       "      <td>53.593661</td>\n",
       "      <td>0</td>\n",
       "    </tr>\n",
       "    <tr>\n",
       "      <th>4</th>\n",
       "      <td>88.726562</td>\n",
       "      <td>40.672225</td>\n",
       "      <td>0.600866</td>\n",
       "      <td>1.123492</td>\n",
       "      <td>1.178930</td>\n",
       "      <td>11.468720</td>\n",
       "      <td>14.269573</td>\n",
       "      <td>252.567306</td>\n",
       "      <td>0</td>\n",
       "    </tr>\n",
       "    <tr>\n",
       "      <th>...</th>\n",
       "      <td>...</td>\n",
       "      <td>...</td>\n",
       "      <td>...</td>\n",
       "      <td>...</td>\n",
       "      <td>...</td>\n",
       "      <td>...</td>\n",
       "      <td>...</td>\n",
       "      <td>...</td>\n",
       "      <td>...</td>\n",
       "    </tr>\n",
       "    <tr>\n",
       "      <th>17893</th>\n",
       "      <td>136.429688</td>\n",
       "      <td>59.847421</td>\n",
       "      <td>-0.187846</td>\n",
       "      <td>-0.738123</td>\n",
       "      <td>1.296823</td>\n",
       "      <td>12.166062</td>\n",
       "      <td>15.450260</td>\n",
       "      <td>285.931022</td>\n",
       "      <td>0</td>\n",
       "    </tr>\n",
       "    <tr>\n",
       "      <th>17894</th>\n",
       "      <td>122.554688</td>\n",
       "      <td>49.485605</td>\n",
       "      <td>0.127978</td>\n",
       "      <td>0.323061</td>\n",
       "      <td>16.409699</td>\n",
       "      <td>44.626893</td>\n",
       "      <td>2.945244</td>\n",
       "      <td>8.297092</td>\n",
       "      <td>0</td>\n",
       "    </tr>\n",
       "    <tr>\n",
       "      <th>17895</th>\n",
       "      <td>119.335938</td>\n",
       "      <td>59.935939</td>\n",
       "      <td>0.159363</td>\n",
       "      <td>-0.743025</td>\n",
       "      <td>21.430602</td>\n",
       "      <td>58.872000</td>\n",
       "      <td>2.499517</td>\n",
       "      <td>4.595173</td>\n",
       "      <td>0</td>\n",
       "    </tr>\n",
       "    <tr>\n",
       "      <th>17896</th>\n",
       "      <td>114.507812</td>\n",
       "      <td>53.902400</td>\n",
       "      <td>0.201161</td>\n",
       "      <td>-0.024789</td>\n",
       "      <td>1.946488</td>\n",
       "      <td>13.381731</td>\n",
       "      <td>10.007967</td>\n",
       "      <td>134.238910</td>\n",
       "      <td>0</td>\n",
       "    </tr>\n",
       "    <tr>\n",
       "      <th>17897</th>\n",
       "      <td>57.062500</td>\n",
       "      <td>85.797340</td>\n",
       "      <td>1.406391</td>\n",
       "      <td>0.089520</td>\n",
       "      <td>188.306020</td>\n",
       "      <td>64.712562</td>\n",
       "      <td>-1.597527</td>\n",
       "      <td>1.429475</td>\n",
       "      <td>0</td>\n",
       "    </tr>\n",
       "  </tbody>\n",
       "</table>\n",
       "<p>17898 rows × 9 columns</p>\n",
       "</div>"
      ],
      "text/plain": [
       "          IP_Mean      IP_SD   IP_Kurt   IP_Skew  DMSNR_Mean   DMSNR_SD  \\\n",
       "0      140.562500  55.683782 -0.234571 -0.699648    3.199833  19.110426   \n",
       "1      102.507812  58.882430  0.465318 -0.515088    1.677258  14.860146   \n",
       "2      103.015625  39.341649  0.323328  1.051164    3.121237  21.744669   \n",
       "3      136.750000  57.178449 -0.068415 -0.636238    3.642977  20.959280   \n",
       "4       88.726562  40.672225  0.600866  1.123492    1.178930  11.468720   \n",
       "...           ...        ...       ...       ...         ...        ...   \n",
       "17893  136.429688  59.847421 -0.187846 -0.738123    1.296823  12.166062   \n",
       "17894  122.554688  49.485605  0.127978  0.323061   16.409699  44.626893   \n",
       "17895  119.335938  59.935939  0.159363 -0.743025   21.430602  58.872000   \n",
       "17896  114.507812  53.902400  0.201161 -0.024789    1.946488  13.381731   \n",
       "17897   57.062500  85.797340  1.406391  0.089520  188.306020  64.712562   \n",
       "\n",
       "       DMSNR_Kurt  DMSNR_Skew  Pulsar  \n",
       "0        7.975532   74.242225       0  \n",
       "1       10.576487  127.393580       0  \n",
       "2        7.735822   63.171909       0  \n",
       "3        6.896499   53.593661       0  \n",
       "4       14.269573  252.567306       0  \n",
       "...           ...         ...     ...  \n",
       "17893   15.450260  285.931022       0  \n",
       "17894    2.945244    8.297092       0  \n",
       "17895    2.499517    4.595173       0  \n",
       "17896   10.007967  134.238910       0  \n",
       "17897   -1.597527    1.429475       0  \n",
       "\n",
       "[17898 rows x 9 columns]"
      ]
     },
     "metadata": {},
     "output_type": "display_data"
    }
   ],
   "source": [
    "import pandas as pd\n",
    "\n",
    "data = pd.read_csv(\"pulsar.csv\")\n",
    "display(data)\n",
    "X = data.iloc[:,:8]\n",
    "y = data.iloc[:,8]\n",
    "\n",
    "from sklearn.model_selection import StratifiedShuffleSplit\n",
    "\n",
    "# Split\n",
    "split = StratifiedShuffleSplit(n_splits=1, test_size=1/3, random_state=0)\n",
    "for train_idx, test_idx in split.split(X, y):\n",
    "    X_train, y_train = X.iloc[train_idx], y.iloc[train_idx]\n",
    "    X_test, y_test = X.iloc[test_idx], y.iloc[test_idx]"
   ]
  },
  {
   "cell_type": "markdown",
   "id": "42574fff",
   "metadata": {
    "pycharm": {
     "name": "#%% md\n"
    }
   },
   "source": [
    "Part 1A\n",
    "[3pts] For `max_depth` ranging from 1 to 20, fit decision tree classifiers using to the training data. Use `random_state=0`. Plot training vs. test accuracy."
   ]
  },
  {
   "cell_type": "code",
   "execution_count": 2,
   "id": "78c6857a",
   "metadata": {
    "pycharm": {
     "name": "#%%\n"
    }
   },
   "outputs": [],
   "source": [
    "import numpy as np\n",
    "from sklearn.tree import DecisionTreeClassifier\n",
    "from sklearn.metrics import accuracy_score\n",
    "import matplotlib.pyplot as plt"
   ]
  },
  {
   "cell_type": "code",
   "execution_count": 3,
   "id": "f8738592",
   "metadata": {
    "pycharm": {
     "name": "#%%\n"
    }
   },
   "outputs": [
    {
     "data": {
      "image/png": "[encoded data removed]",
      "text/plain": [
       "<Figure size 720x432 with 1 Axes>"
      ]
     },
     "metadata": {
      "needs_background": "light"
     },
     "output_type": "display_data"
    }
   ],
   "source": [
    "acc = np.zeros((20,2))\n",
    "\n",
    "# decision-surfaces as fn of max depth\n",
    "for depth in range(0,20):\n",
    "    clf = DecisionTreeClassifier(max_depth=depth+1, random_state=0)\n",
    "    clf.fit(X_train,y_train)\n",
    "    preds_test = clf.predict(X_test)\n",
    "    preds_train = clf.predict(X_train)\n",
    "    acc_test = accuracy_score(y_test,preds_test)\n",
    "    acc_train = accuracy_score(y_train,preds_train)\n",
    "    acc[depth,0] = acc_test\n",
    "    acc[depth,1] = acc_train\n",
    "\n",
    "# Plot train accuracy vs test accuracy\n",
    "plt.figure(figsize=(10,6))\n",
    "plt.plot(acc[:,0])\n",
    "plt.plot(acc[:,1])\n",
    "plt.xlabel(\"Depth\")\n",
    "plt.ylabel(\"Accuracy\")\n",
    "plt.title(\"Training & Testing Accuracy w.r.t Depth of the Tree\")\n",
    "plt.legend([\"Testing Accuracy\",\"Training Accuracy\"])\n",
    "plt.show()"
   ]
  },
  {
   "cell_type": "markdown",
   "id": "46192243",
   "metadata": {
    "pycharm": {
     "name": "#%% md\n"
    }
   },
   "source": [
    "Part 1B\n",
    "[2pts] What trends do you observe in the training and test accuracies as depth increases? Explain these trends."
   ]
  },
  {
   "cell_type": "markdown",
   "id": "86e70b79",
   "metadata": {
    "pycharm": {
     "name": "#%% md\n"
    }
   },
   "source": [
    "### Part 1B Answer:\n",
    "I am seeing that as the depth of the tree increases, the testing accuracy decreases and the\n",
    "training accuracy increases. This means that there is an overfitting of our model on this dataset."
   ]
  },
  {
   "cell_type": "markdown",
   "id": "3befd3b4",
   "metadata": {
    "pycharm": {
     "name": "#%% md\n"
    }
   },
   "source": [
    "Part 2A\n",
    "[3pts] For `n_estimators` ranging from 1 to 101 with step size 10, fit random forest classifiers to the training data. Use `random_state=0` and `max_depth=3`. Plot training vs. test accuracy."
   ]
  },
  {
   "cell_type": "code",
   "execution_count": 4,
   "id": "c3045ede",
   "metadata": {
    "pycharm": {
     "name": "#%%\n"
    }
   },
   "outputs": [
    {
     "data": {
      "image/png": "[encoded data removed]",
      "text/plain": [
       "<Figure size 720x432 with 1 Axes>"
      ]
     },
     "metadata": {
      "needs_background": "light"
     },
     "output_type": "display_data"
    }
   ],
   "source": [
    "import numpy as np\n",
    "import matplotlib.pyplot as plt\n",
    "from sklearn.ensemble import RandomForestClassifier\n",
    "\n",
    "acc = np.zeros((11,2))\n",
    "\n",
    "# decision-surfaces as fn of max depth\n",
    "for n_est in range(0,101,10):\n",
    "    clf = RandomForestClassifier(n_estimators=n_est+1, max_depth=3, random_state=0)\n",
    "    clf.fit(X_train,y_train)\n",
    "    preds_test = clf.predict(X_test)\n",
    "    preds_train = clf.predict(X_train)\n",
    "    acc_test = accuracy_score(y_test,preds_test)\n",
    "    acc_train = accuracy_score(y_train,preds_train)\n",
    "    acc[int(n_est/10),0] = acc_test\n",
    "    acc[int(n_est/10),1] = acc_train\n",
    "\n",
    "# Plot train accuracy vs test accuracy\n",
    "plt.figure(figsize=(10,6))\n",
    "plt.plot(range(1,102,10), acc[:,0])\n",
    "plt.plot(range(1,102,10), acc[:,1])\n",
    "plt.xlabel(\"Number of Estimators\")\n",
    "plt.xticks(range(1,102,10))\n",
    "plt.ylabel(\"Accuracy\")\n",
    "plt.title(\"Training & Testing Accuracy w.r.t Number of Estimators of Random Forest\")\n",
    "plt.legend([\"Testing Accuracy\",\"Training Accuracy\"])\n",
    "plt.show()"
   ]
  },
  {
   "cell_type": "markdown",
   "id": "9fa17a62",
   "metadata": {
    "pycharm": {
     "name": "#%% md\n"
    }
   },
   "source": [
    "Part 2B\n",
    "What trends do you observe in the training and test accuracies as `n_estimators` increases? Explain these trends."
   ]
  },
  {
   "cell_type": "markdown",
   "id": "465c3570",
   "metadata": {
    "pycharm": {
     "name": "#%% md\n"
    }
   },
   "source": [
    "### Part 2B Answer:\n",
    "\n",
    "I am seeing that as the number of estimators increase, the train and test accuracy increase\n",
    "together. This means that the model is not overfitting, but performing better with the increased\n",
    "number of estimators.\n"
   ]
  },
  {
   "cell_type": "code",
   "execution_count": null,
   "id": "c2588579",
   "metadata": {
    "pycharm": {
     "name": "#%%\n"
    }
   },
   "outputs": [],
   "source": []
  }
 ],
 "metadata": {
  "kernelspec": {
   "display_name": "Python 3 (ipykernel)",
   "language": "python",
   "name": "python3"
  },
  "language_info": {
   "codemirror_mode": {
    "name": "ipython",
    "version": 3
   },
   "file_extension": ".py",
   "mimetype": "text/x-python",
   "name": "python",
   "nbconvert_exporter": "python",
   "pygments_lexer": "ipython3",
   "version": "3.8.12"
  }
 },
 "nbformat": 4,
 "nbformat_minor": 5
}