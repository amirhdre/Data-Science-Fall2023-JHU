{
 "cells": [
  {
   "cell_type": "markdown",
   "id": "40d2acdc",
   "metadata": {},
   "source": [
    "# EN.553.436/646 Exam 1 (20 pts.)\n",
    "## Guidelines\n",
    "syntax is insufficient.- The test is open note and open internet, but do not communicate with anyone.\n",
    "- When you are ready to start, record your start time.\n",
    "- Finish the exam within a 75-minute time interval.\n",
    "- When you are finished, complete the honor statement and upload your IPYNB and PDF to Canvas.\n",
    "- The latest you may submit the test is 1:30pm, so plan your start time accordingly.\n",
    "- Some questions ask for text responses. The graders will be looking for brief, incisive remarks that indicate depth of understanding. For commenting code, a literal description of the "
   ]
  },
  {
   "cell_type": "markdown",
   "id": "411c84f4",
   "metadata": {},
   "source": [
    "# <span style=\"color:red\"> Honor Statement: </span>\n",
    "This work was done entirely by me within the 75-minute time limit. I have not discussed test content with any other student and I will not do so during the test period.\n",
    "## Signature: Amir Hossein Daraie\n",
    "## Start Time: 10:45\n",
    "## End Time: 12:00"
   ]
  },
  {
   "cell_type": "markdown",
   "id": "cc518721",
   "metadata": {},
   "source": [
    "# Dataset\n",
    "Simon is employed by a bureau of civil engineering. He is analyzing the [Concrete Compressive Strength Dataset](https://archive.ics.uci.edu/ml/datasets/Concrete+Compressive+Strength) stored in `concrete.csv`. His goal is to assess the relation of eight attributes of concrete to the compressive strength of the concrete. \n",
    "\n",
    "Read and run the following code cell."
   ]
  },
  {
   "cell_type": "code",
   "execution_count": 1,
   "id": "da923554",
   "metadata": {},
   "outputs": [
    {
     "data": {
      "text/html": [
       "<div>\n",
       "<style scoped>\n",
       "    .dataframe tbody tr th:only-of-type {\n",
       "        vertical-align: middle;\n",
       "    }\n",
       "\n",
       "    .dataframe tbody tr th {\n",
       "        vertical-align: top;\n",
       "    }\n",
       "\n",
       "    .dataframe thead th {\n",
       "        text-align: right;\n",
       "    }\n",
       "</style>\n",
       "<table border=\"1\" class=\"dataframe\">\n",
       "  <thead>\n",
       "    <tr style=\"text-align: right;\">\n",
       "      <th></th>\n",
       "      <th>Cement[kg/m^3]</th>\n",
       "      <th>Slag[kg/m^3]</th>\n",
       "      <th>SlyAsh[kg/m^3]</th>\n",
       "      <th>Water[kg/m^3]</th>\n",
       "      <th>Superplasticizer[kg/m^3]</th>\n",
       "      <th>CoarseAggregate[kg/m^3]</th>\n",
       "      <th>FineAggregate[kg/m^3]</th>\n",
       "      <th>Age[Day]</th>\n",
       "      <th>Strength[MPa]</th>\n",
       "    </tr>\n",
       "  </thead>\n",
       "  <tbody>\n",
       "    <tr>\n",
       "      <th>0</th>\n",
       "      <td>540.0</td>\n",
       "      <td>0.0</td>\n",
       "      <td>0.0</td>\n",
       "      <td>162.0</td>\n",
       "      <td>2.5</td>\n",
       "      <td>1040.0</td>\n",
       "      <td>676.0</td>\n",
       "      <td>28</td>\n",
       "      <td>79.99</td>\n",
       "    </tr>\n",
       "    <tr>\n",
       "      <th>1</th>\n",
       "      <td>540.0</td>\n",
       "      <td>0.0</td>\n",
       "      <td>0.0</td>\n",
       "      <td>162.0</td>\n",
       "      <td>2.5</td>\n",
       "      <td>1055.0</td>\n",
       "      <td>676.0</td>\n",
       "      <td>28</td>\n",
       "      <td>61.89</td>\n",
       "    </tr>\n",
       "    <tr>\n",
       "      <th>2</th>\n",
       "      <td>332.5</td>\n",
       "      <td>142.5</td>\n",
       "      <td>0.0</td>\n",
       "      <td>228.0</td>\n",
       "      <td>0.0</td>\n",
       "      <td>932.0</td>\n",
       "      <td>594.0</td>\n",
       "      <td>270</td>\n",
       "      <td>40.27</td>\n",
       "    </tr>\n",
       "    <tr>\n",
       "      <th>3</th>\n",
       "      <td>332.5</td>\n",
       "      <td>142.5</td>\n",
       "      <td>0.0</td>\n",
       "      <td>228.0</td>\n",
       "      <td>0.0</td>\n",
       "      <td>932.0</td>\n",
       "      <td>594.0</td>\n",
       "      <td>365</td>\n",
       "      <td>41.05</td>\n",
       "    </tr>\n",
       "    <tr>\n",
       "      <th>4</th>\n",
       "      <td>198.6</td>\n",
       "      <td>132.4</td>\n",
       "      <td>0.0</td>\n",
       "      <td>192.0</td>\n",
       "      <td>0.0</td>\n",
       "      <td>978.4</td>\n",
       "      <td>825.5</td>\n",
       "      <td>360</td>\n",
       "      <td>44.30</td>\n",
       "    </tr>\n",
       "    <tr>\n",
       "      <th>...</th>\n",
       "      <td>...</td>\n",
       "      <td>...</td>\n",
       "      <td>...</td>\n",
       "      <td>...</td>\n",
       "      <td>...</td>\n",
       "      <td>...</td>\n",
       "      <td>...</td>\n",
       "      <td>...</td>\n",
       "      <td>...</td>\n",
       "    </tr>\n",
       "    <tr>\n",
       "      <th>1025</th>\n",
       "      <td>276.4</td>\n",
       "      <td>116.0</td>\n",
       "      <td>90.3</td>\n",
       "      <td>179.6</td>\n",
       "      <td>8.9</td>\n",
       "      <td>870.1</td>\n",
       "      <td>768.3</td>\n",
       "      <td>28</td>\n",
       "      <td>44.28</td>\n",
       "    </tr>\n",
       "    <tr>\n",
       "      <th>1026</th>\n",
       "      <td>322.2</td>\n",
       "      <td>0.0</td>\n",
       "      <td>115.6</td>\n",
       "      <td>196.0</td>\n",
       "      <td>10.4</td>\n",
       "      <td>817.9</td>\n",
       "      <td>813.4</td>\n",
       "      <td>28</td>\n",
       "      <td>31.18</td>\n",
       "    </tr>\n",
       "    <tr>\n",
       "      <th>1027</th>\n",
       "      <td>148.5</td>\n",
       "      <td>139.4</td>\n",
       "      <td>108.6</td>\n",
       "      <td>192.7</td>\n",
       "      <td>6.1</td>\n",
       "      <td>892.4</td>\n",
       "      <td>780.0</td>\n",
       "      <td>28</td>\n",
       "      <td>23.70</td>\n",
       "    </tr>\n",
       "    <tr>\n",
       "      <th>1028</th>\n",
       "      <td>159.1</td>\n",
       "      <td>186.7</td>\n",
       "      <td>0.0</td>\n",
       "      <td>175.6</td>\n",
       "      <td>11.3</td>\n",
       "      <td>989.6</td>\n",
       "      <td>788.9</td>\n",
       "      <td>28</td>\n",
       "      <td>32.77</td>\n",
       "    </tr>\n",
       "    <tr>\n",
       "      <th>1029</th>\n",
       "      <td>260.9</td>\n",
       "      <td>100.5</td>\n",
       "      <td>78.3</td>\n",
       "      <td>200.6</td>\n",
       "      <td>8.6</td>\n",
       "      <td>864.5</td>\n",
       "      <td>761.5</td>\n",
       "      <td>28</td>\n",
       "      <td>32.40</td>\n",
       "    </tr>\n",
       "  </tbody>\n",
       "</table>\n",
       "<p>1030 rows × 9 columns</p>\n",
       "</div>"
      ],
      "text/plain": [
       "      Cement[kg/m^3]  Slag[kg/m^3]  SlyAsh[kg/m^3]  Water[kg/m^3]  \\\n",
       "0              540.0           0.0             0.0          162.0   \n",
       "1              540.0           0.0             0.0          162.0   \n",
       "2              332.5         142.5             0.0          228.0   \n",
       "3              332.5         142.5             0.0          228.0   \n",
       "4              198.6         132.4             0.0          192.0   \n",
       "...              ...           ...             ...            ...   \n",
       "1025           276.4         116.0            90.3          179.6   \n",
       "1026           322.2           0.0           115.6          196.0   \n",
       "1027           148.5         139.4           108.6          192.7   \n",
       "1028           159.1         186.7             0.0          175.6   \n",
       "1029           260.9         100.5            78.3          200.6   \n",
       "\n",
       "      Superplasticizer[kg/m^3]  CoarseAggregate[kg/m^3]  \\\n",
       "0                          2.5                   1040.0   \n",
       "1                          2.5                   1055.0   \n",
       "2                          0.0                    932.0   \n",
       "3                          0.0                    932.0   \n",
       "4                          0.0                    978.4   \n",
       "...                        ...                      ...   \n",
       "1025                       8.9                    870.1   \n",
       "1026                      10.4                    817.9   \n",
       "1027                       6.1                    892.4   \n",
       "1028                      11.3                    989.6   \n",
       "1029                       8.6                    864.5   \n",
       "\n",
       "      FineAggregate[kg/m^3]  Age[Day]  Strength[MPa]  \n",
       "0                     676.0        28          79.99  \n",
       "1                     676.0        28          61.89  \n",
       "2                     594.0       270          40.27  \n",
       "3                     594.0       365          41.05  \n",
       "4                     825.5       360          44.30  \n",
       "...                     ...       ...            ...  \n",
       "1025                  768.3        28          44.28  \n",
       "1026                  813.4        28          31.18  \n",
       "1027                  780.0        28          23.70  \n",
       "1028                  788.9        28          32.77  \n",
       "1029                  761.5        28          32.40  \n",
       "\n",
       "[1030 rows x 9 columns]"
      ]
     },
     "metadata": {},
     "output_type": "display_data"
    }
   ],
   "source": [
    "import pandas as pd\n",
    "\n",
    "data = pd.read_csv(\"concrete.csv\")\n",
    "display(data)\n",
    "\n",
    "# Predictors: attribtues of concrete.\n",
    "X = data.iloc[:,:-1]\n",
    "# Target: compressive strength.\n",
    "y = data.iloc[:,-1]"
   ]
  },
  {
   "cell_type": "markdown",
   "id": "e546aa73",
   "metadata": {},
   "source": [
    "# 1 (4 pts.)\n",
    "0. Run the following code cell. \n",
    "1. Where indicated, name the method Simon is attempting to implement. (1 pt.) \n",
    "2. Where indicated, write a brief comment explaining the intent of the following code. (2 pts.)\n",
    "3. In the Markdown cell below, give a brief, qualitative description of the distribution of `y` based on the plot. (1 pt.)"
   ]
  },
  {
   "cell_type": "code",
   "execution_count": 2,
   "id": "65b3d7d8",
   "metadata": {},
   "outputs": [
    {
     "data": {
      "image/png": "[encoded data removed]",
      "text/plain": [
       "<Figure size 432x288 with 1 Axes>"
      ]
     },
     "metadata": {
      "needs_background": "light"
     },
     "output_type": "display_data"
    }
   ],
   "source": [
    "# METHOD: Kernel Density Estimation \n",
    "\n",
    "import matplotlib.pyplot as plt\n",
    "import numpy as np\n",
    "from scipy import stats\n",
    "\n",
    "# COMMENT: Implementation of Kernel Function\n",
    "def K(u):\n",
    "    return (3/4)*(1-u**2)*(np.abs(u)<=1)\n",
    "\n",
    "# COMMENT: Implementation of Kernel Function when we specify the width of the bins to be equal to `h`\n",
    "def Kh(u, h):\n",
    "    return (1/h)*K(u/h)\n",
    "\n",
    "# COMMENT: Compute KDE Function on the variable y over the indices u, which are 100 indices from \n",
    "# -3 standard deviation of `y` up to 3 standard deviation of `y`.\n",
    "def f(u, h):\n",
    "    tmp = 0\n",
    "    for y_i in y:\n",
    "        tmp += Kh(u-y_i, h)\n",
    "    return tmp/len(y)\n",
    "\n",
    "# COMMENT: Compare three functions by plotting them on a same figure: \n",
    "# Functions are: 1. KDE of y using Kernel function Kh, where h is the width of each bin\n",
    "#                2. PDF of Normal Distribution with mean of `y` and standard deviation of `std(y)`. \n",
    "#                3. Histogram function of `y` with 10 bins and area under the curve of 1, thus it is normalized.\n",
    "u = np.linspace(np.mean(y)-3*np.std(y), np.mean(y)+3*np.std(y), 100)\n",
    "plt.plot(u, f(u,10),linewidth=2)\n",
    "plt.plot(u, stats.norm(loc=np.mean(y), scale=np.std(y)).pdf(u), linewidth=2)\n",
    "plt.hist(y, density=True, bins=10)\n",
    "plt.show()"
   ]
  },
  {
   "cell_type": "markdown",
   "id": "53903e99",
   "metadata": {},
   "source": [
    "## <span style=\"color:red\">1.3 Description:</span> \n",
    "\n",
    "In this question, after implementing Kernel Function with a specific bin width, we compute the kernel density estimation of y given our defined kernel `Kh`. Also we Compute the PDF of Normal Distribution with mean of `y` and standard deviation of `std(y)`. And finally we compute the normalized (kernel) histogram function of `y` with 10 bins.\n",
    "\n",
    "After comparing these three functions by plotting them on a same figure, we can infer some knowledge about the distribution of our data `y`. We can see that the distribution of y is skewed to the left left (lower) values that the mean. Despite being equal to some values of normal distribution, there are many deviations from normal values, the lower half of the data is mostly higher than the normal values, and the higher half of the data data is mostly lower that the values of normal distribution."
   ]
  },
  {
   "cell_type": "markdown",
   "id": "f5e5aafe",
   "metadata": {},
   "source": [
    "# 2 (8 pts.)\n",
    "0. Run the following code cell. \n",
    "1. Where indicated, name the method Simon is attempting to implement. (1 pt.) \n",
    "2. Where indicated, write a brief comment explaining the intent of the following code. (2 pts.)\n",
    "3. Simon made a comment at the bottom of the code cell. Explain that comment in the Markdown cell that follows. (3 pts.)\n",
    "4. There is a mistake in the code. Fix the mistake by modifying exactly one line. Comment your correction. Run the cell to get the correct output. (2 pts.)"
   ]
  },
  {
   "cell_type": "code",
   "execution_count": 3,
   "id": "abb2aaf0",
   "metadata": {},
   "outputs": [
    {
     "name": "stdout",
     "output_type": "stream",
     "text": [
      "0.32576816350544285\n"
     ]
    },
    {
     "data": {
      "image/png": "[encoded data removed]",
      "text/plain": [
       "<Figure size 432x288 with 1 Axes>"
      ]
     },
     "metadata": {
      "needs_background": "light"
     },
     "output_type": "display_data"
    }
   ],
   "source": [
    "# METHOD: Principle Component Analysis (PCA)\n",
    "\n",
    "# COMMENT: Compute the sample covariance matrix of the data matrix `X`. \n",
    "S = (X-X.mean()).T @ (X-X.mean()) / (X.shape[0]-1)\n",
    "# COMMENT: Compute the eigen value decomposition of covatiance matrix.\n",
    "w, v = np.linalg.eigh(S) \n",
    "# SIMON: Sorts array in descending order. It was in ascending order by default.\n",
    "w = np.flip(w)\n",
    "# COMMENT: Compute the proportion of highest (first) eigenvalue to the summation of all eigenvalues.\n",
    "print(w[0]/np.sum(w))\n",
    "# COMMENT: Plot the eigenvalues, for plotting, the correction I made is to subtract mean of each feature of X (column)\n",
    "# from all the values in each column. I did this in the first line using broadcasting.\n",
    "plt.plot(w/np.sum(w))\n",
    "plt.show()\n",
    "\n",
    "# SIMON: From the output, X is virtually one-dimensional!"
   ]
  },
  {
   "cell_type": "markdown",
   "id": "c440f346",
   "metadata": {},
   "source": [
    "## <span style=\"color:red\">2.3 Explanation:</span> \n",
    "\n",
    "After plotting the scree plot, we see that X is not one dimensional. The total variance explained by each principle component is showed on the scree plot figure. This is clear, because we took out the mean of each feature, thus there would not be any domination of component because of high mean value. "
   ]
  },
  {
   "cell_type": "markdown",
   "id": "4dce9cbb",
   "metadata": {},
   "source": [
    "# 3 (8 pts.)\n",
    "0. Read and run the following code cell. \n",
    "1. Where indicated, write a brief comment explaining the intent of the following code. (4 pts.)\n",
    "2. In the indicated space in `assess`, write code that will perform a linear regression to fit the coefficients of a linear model to predict `y` given `M`. Apply the model to generate predictions `y_pred` as a function of `M`. Comment your code.  (4 pts.)"
   ]
  },
  {
   "cell_type": "code",
   "execution_count": 4,
   "id": "0a2d143a",
   "metadata": {
    "scrolled": false
   },
   "outputs": [
    {
     "name": "stdout",
     "output_type": "stream",
     "text": [
      "107.19723607486016\n"
     ]
    },
    {
     "data": {
      "image/png": "[encoded data removed]",
      "text/plain": [
       "<Figure size 432x288 with 1 Axes>"
      ]
     },
     "metadata": {
      "needs_background": "light"
     },
     "output_type": "display_data"
    },
    {
     "name": "stdout",
     "output_type": "stream",
     "text": [
      "Running pca...\n",
      "207.580441100365\n"
     ]
    },
    {
     "data": {
      "image/png": "[encoded data removed]",
      "text/plain": [
       "<Figure size 432x288 with 1 Axes>"
      ]
     },
     "metadata": {
      "needs_background": "light"
     },
     "output_type": "display_data"
    },
    {
     "name": "stdout",
     "output_type": "stream",
     "text": [
      "Running method augment_with_quadratic...\n",
      "67.82392891282647\n"
     ]
    },
    {
     "data": {
      "image/png": "[encoded data removed]",
      "text/plain": [
       "<Figure size 432x288 with 1 Axes>"
      ]
     },
     "metadata": {
      "needs_background": "light"
     },
     "output_type": "display_data"
    },
    {
     "name": "stdout",
     "output_type": "stream",
     "text": [
      "Running method augment_with_quadratic...\n",
      "Running pca...\n",
      "210.12488583372536\n"
     ]
    },
    {
     "data": {
      "image/png": "[encoded data removed]",
      "text/plain": [
       "<Figure size 432x288 with 1 Axes>"
      ]
     },
     "metadata": {
      "needs_background": "light"
     },
     "output_type": "display_data"
    }
   ],
   "source": [
    "# METHOD: Linear Regression \n",
    "\n",
    "from sklearn.decomposition import PCA\n",
    "\n",
    "# COMMENT: \n",
    "def setup(df, augment_with_quadratic=False, pca=False):\n",
    "    M = df.values\n",
    "    \n",
    "    # COMMENT: Augment the data matrix M with multiplication of columns of data, two by two. \n",
    "    # Over a few iterations, we take all different permutations of columns (features), and append/augment them\n",
    "    # to the main data matrix. The final M will have 36 columns after this augmentation.\n",
    "    if augment_with_quadratic:\n",
    "        print(\"Running method augment_with_quadratic...\")\n",
    "        for i in range(df.shape[1]-1):\n",
    "            for j in range(i+1, df.shape[1]):\n",
    "                M = np.hstack((M, M[:,i:(i+1)]*M[:,j:(j+1)]))\n",
    "                                \n",
    "    # COMMENT: Compute PCA of data matrix and only keep the first two principle components of data matrix. \n",
    "    if pca:\n",
    "        print(\"Running pca...\")\n",
    "        pca = PCA(n_components=2)\n",
    "        M = pca.fit_transform(M)\n",
    "        \n",
    "    # COMMENT: Add a column of ones that will correspond to the intercept of our linear regression model. \n",
    "    M = np.hstack((np.ones([M.shape[0], 1]), M))\n",
    "    return M\n",
    "\n",
    "# COMMENT: Compute and Plot the linear regression error of the calculated line and the ground truth data.\n",
    "def assess(M):\n",
    "    # this is placeholder to prevent error messages. you should overwrite y_pred with your linear regression code.\n",
    "    # y_pred = np.zeros(y.shape)\n",
    "    # COMPLETE CODE: Compute the linear regression using normal equation of Linear Regression. In linear regression \n",
    "    # analysis, the normal equations are a system of equations whose solution is the Ordinary Least Squares (OLS) \n",
    "    # estimator of the regression coefficients. The normal equations are derived from the first-order condition \n",
    "    # of the Least Squares minimization problem. It can also be considered psudo-inverse problem. \n",
    "    y_pred = M @ (np.linalg.inv(M.T@M)@M.T@y)[:,np.newaxis]\n",
    "    # COMMENT: Compute the error, which is simply the difference of predicted value and real values. \n",
    "    e = y - np.squeeze(y_pred)\n",
    "    print(np.mean(e**2))\n",
    "    # COMMENT: Plot the histogram of error distribution using 30 bins.\n",
    "    plt.hist(e, bins=30)\n",
    "    plt.show() \n",
    "    return\n",
    "\n",
    "# COMMENT: Compute the MSE error of Linear regression model and plot the error distribution for four different cases. \n",
    "# 1. The default data\n",
    "# 2. The two first axes of PCA\n",
    "# 3. The augmented matrix of the main data matrix\n",
    "assess(setup(X))\n",
    "assess(setup(X, pca=True))\n",
    "assess(setup(X, augment_with_quadratic=True)) # \n",
    "assess(setup(X, augment_with_quadratic=True, pca=True) )\n"
   ]
  }
 ],
 "metadata": {
  "kernelspec": {
   "display_name": "Python 3 (ipykernel)",
   "language": "python",
   "name": "python3"
  },
  "language_info": {
   "codemirror_mode": {
    "name": "ipython",
    "version": 3
   },
   "file_extension": ".py",
   "mimetype": "text/x-python",
   "name": "python",
   "nbconvert_exporter": "python",
   "pygments_lexer": "ipython3",
   "version": "3.8.16"
  },
  "vscode": {
   "interpreter": {
    "hash": "62109fc09da155e18f9334da27b79d1b917410399c14cb77b3090e86c2eb5d67"
   }
  }
 },
 "nbformat": 4,
 "nbformat_minor": 5
}
