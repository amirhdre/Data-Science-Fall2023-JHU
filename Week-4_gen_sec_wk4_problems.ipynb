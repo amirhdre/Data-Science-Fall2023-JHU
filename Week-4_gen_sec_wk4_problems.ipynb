{
 "cells": [
  {
   "cell_type": "markdown",
   "id": "a146b8d9-4e3d-4896-b477-a6c4112ac6ab",
   "metadata": {
    "tags": []
   },
   "source": [
    "# 1 Preprocessing\n",
    "Read the description of the [diabetes](https://www4.stat.ncsu.edu/~boos/var.select/diabetes) dataset. Using [pandas.read_csv](https://pandas.pydata.org/pandas-docs/stable/reference/api/pandas.read_csv.html), load the dataset into a `DataFrame` from the URL https://www4.stat.ncsu.edu/~boos/var.select/diabetes.tab.txt."
   ]
  },
  {
   "cell_type": "code",
   "execution_count": null,
   "id": "85b4236e-4868-499e-b5c2-90c90339d42e",
   "metadata": {},
   "outputs": [],
   "source": []
  },
  {
   "cell_type": "markdown",
   "id": "6a94e457",
   "metadata": {},
   "source": [
    "We will analyze the data for individuals in their twenties with `SEX == 1`. Store this subset of data, dropping `AGE` and `SEX.` Store the response variable. Store the other variables besides `SEX` and `AGE` as predictors."
   ]
  },
  {
   "cell_type": "code",
   "execution_count": null,
   "id": "80922bca",
   "metadata": {},
   "outputs": [],
   "source": []
  },
  {
   "cell_type": "markdown",
   "id": "8b34707f-e2ad-4252-ad47-758ca2fd90a4",
   "metadata": {},
   "source": [
    "# 2 Exploratory Data Analysis\n",
    "Calculate the correlation matrix of the `DataFrame` containing both predictors and response using the formula. Verify your results against the `pandas` correlation matrix."
   ]
  },
  {
   "cell_type": "code",
   "execution_count": null,
   "id": "8b8e9520-8bc4-4cb0-b9f1-114a4f6f336e",
   "metadata": {},
   "outputs": [],
   "source": []
  },
  {
   "cell_type": "markdown",
   "id": "a214b0e4",
   "metadata": {},
   "source": [
    "Explore scatterplots of individual predictors versus the response variable. Consider the relation between the scatterplots and the correlation coefficients. Consider whether the correlation coefficients accurately represent a linear relation between the response and predictors."
   ]
  },
  {
   "cell_type": "code",
   "execution_count": null,
   "id": "39855ca0",
   "metadata": {},
   "outputs": [],
   "source": []
  },
  {
   "cell_type": "markdown",
   "id": "294af9b5-d458-40ad-99aa-34811a73a4cb",
   "metadata": {},
   "source": [
    "# 3 Model Fitting\n",
    "Manually regress the response on the predictors using the least squares formula. Compare your coefficients to those from `sklearn.linear_model.LinearRegression`."
   ]
  },
  {
   "cell_type": "code",
   "execution_count": null,
   "id": "be364d3a",
   "metadata": {
    "scrolled": true
   },
   "outputs": [],
   "source": []
  },
  {
   "cell_type": "markdown",
   "id": "dc8d32b5",
   "metadata": {},
   "source": [
    "# 4 Model Diagnostics"
   ]
  },
  {
   "cell_type": "markdown",
   "id": "f6c1b5ae",
   "metadata": {},
   "source": [
    "Calculate the mean-squared error of the model using the formula."
   ]
  },
  {
   "cell_type": "code",
   "execution_count": null,
   "id": "8161078a",
   "metadata": {
    "scrolled": true
   },
   "outputs": [],
   "source": []
  },
  {
   "cell_type": "markdown",
   "id": "2c4f6eef",
   "metadata": {},
   "source": [
    "Draw a histogram of the _residuals_ $y_{i} - \\hat{y}_{i}$. Draw a _fitted ($\\hat{y}$) vs. residual_ plot. Consider what these indicate about the model fit."
   ]
  },
  {
   "cell_type": "code",
   "execution_count": null,
   "id": "4a0ebee2",
   "metadata": {},
   "outputs": [],
   "source": []
  }
 ],
 "metadata": {
  "kernelspec": {
   "display_name": "base",
   "language": "python",
   "name": "python3"
  },
  "language_info": {
   "codemirror_mode": {
    "name": "ipython",
    "version": 3
   },
   "file_extension": ".py",
   "mimetype": "text/x-python",
   "name": "python",
   "nbconvert_exporter": "python",
   "pygments_lexer": "ipython3",
   "version": "3.9.7"
  },
  "vscode": {
   "interpreter": {
    "hash": "43129c23d79667d987760d8fda822d6cf9b94e4f6ff31aa29025e95d3c53fe91"
   }
  }
 },
 "nbformat": 4,
 "nbformat_minor": 5
}
