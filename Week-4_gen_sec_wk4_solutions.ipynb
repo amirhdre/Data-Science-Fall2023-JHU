{
 "cells": [
  {
   "cell_type": "markdown",
   "id": "a146b8d9-4e3d-4896-b477-a6c4112ac6ab",
   "metadata": {
    "tags": []
   },
   "source": [
    "# 1 Preprocessing\n",
    "Read the description of the [diabetes](https://www4.stat.ncsu.edu/~boos/var.select/diabetes) dataset. Using [pandas.read_csv](https://pandas.pydata.org/pandas-docs/stable/reference/api/pandas.read_csv.html), load the dataset into a `DataFrame` from the URL https://www4.stat.ncsu.edu/~boos/var.select/diabetes.tab.txt."
   ]
  },
  {
   "cell_type": "code",
   "execution_count": 12,
   "id": "85b4236e-4868-499e-b5c2-90c90339d42e",
   "metadata": {},
   "outputs": [],
   "source": [
    "import pandas as pd\n",
    "\n",
    "# sep='\\t' indicates that tab is the character separating values.\n",
    "df = pd.read_csv(\"https://www4.stat.ncsu.edu/~boos/var.select/diabetes.tab.txt\", sep='\\t')"
   ]
  },
  {
   "cell_type": "markdown",
   "id": "6a94e457",
   "metadata": {},
   "source": [
    "We will analyze the data for individuals in their twenties with `SEX == 1`. Store this subset of data, dropping `AGE` and `SEX.` Store the response variable. Store the other variables besides `SEX` and `AGE` as predictors."
   ]
  },
  {
   "cell_type": "code",
   "execution_count": 14,
   "id": "80922bca",
   "metadata": {},
   "outputs": [],
   "source": [
    "sub = df[(df[\"AGE\"] >= 20) & (df[\"AGE\"] < 30) & (df[\"SEX\"] == 1)].drop(columns=[\"AGE\", \"SEX\"])\n",
    "y = sub[\"Y\"]\n",
    "X = sub.drop(columns=\"Y\")\n"
   ]
  },
  {
   "cell_type": "code",
   "execution_count": 15,
   "id": "b3600a37",
   "metadata": {},
   "outputs": [
    {
     "name": "stdout",
     "output_type": "stream",
     "text": [
      "      BMI     BP   S1     S2    S3    S4      S5  S6    Y\n",
      "3    25.3  84.00  198  131.4  40.0  5.00  4.8903  89  206\n",
      "5    22.6  89.00  139   64.8  61.0  2.00  4.1897  68   97\n",
      "9    30.0  85.00  180   93.4  43.0  4.00  5.3845  88  310\n",
      "10   18.6  97.00  114   57.6  46.0  2.00  3.9512  83  101\n",
      "22   26.0  92.00  187  120.4  56.0  3.00  3.9703  88   68\n",
      "41   20.1  63.00  135   69.0  54.0  3.00  4.0943  89   55\n",
      "47   19.6  78.00  128   68.0  43.0  3.00  4.4427  71  142\n",
      "60   26.0  83.00  141   65.2  64.0  2.00  4.0775  83   61\n",
      "77   23.0  73.00  161   97.8  54.0  3.00  3.8286  91  200\n",
      "79   22.9  87.00  191  128.2  53.0  4.00  3.8918  85  113\n",
      "94   24.8  91.00  189  106.8  69.0  3.00  4.1897  69   90\n",
      "95   21.0  71.00  156   97.0  38.0  4.00  4.6540  90  162\n",
      "102  29.0  90.00  216  131.4  65.0  3.00  4.5850  91  302\n",
      "106  19.3  82.00  156   93.2  52.0  3.00  3.9890  71  134\n",
      "112  28.3  87.00  193  128.0  49.0  4.00  4.3820  92  246\n",
      "126  20.7  87.00  149   80.6  61.0  2.00  3.6109  78   99\n",
      "131  19.9  75.00  175  108.6  54.0  3.00  4.1271  72  158\n",
      "134  30.4  85.00  198  115.6  67.0  3.00  4.3438  80  103\n",
      "136  18.8  78.00  145   72.0  63.0  2.00  3.9120  86   85\n",
      "219  22.5  89.00  141   68.0  52.0  3.00  4.6540  84  185\n",
      "223  24.2  76.00  147   77.0  53.0  3.00  4.4427  79  150\n",
      "247  18.8  83.00  191  103.6  69.0  3.00  4.5218  69   51\n",
      "293  35.0  98.33  204  142.6  50.0  4.08  4.0431  91  200\n",
      "312  24.2  93.00  174  106.4  54.0  3.00  4.2195  84  144\n",
      "373  25.4  93.00  141   79.0  49.0  3.00  4.1744  91  168\n",
      "393  22.1  82.00  168  100.6  54.0  3.00  4.2047  86   69\n",
      "425  22.6  71.00  116   43.4  56.0  2.00  4.4188  79  152\n"
     ]
    }
   ],
   "source": [
    "print(sub)"
   ]
  },
  {
   "cell_type": "code",
   "execution_count": 3,
   "id": "f58ebd2b",
   "metadata": {},
   "outputs": [
    {
     "name": "stdout",
     "output_type": "stream",
     "text": [
      "3      206\n",
      "5       97\n",
      "9      310\n",
      "10     101\n",
      "22      68\n",
      "41      55\n",
      "47     142\n",
      "60      61\n",
      "77     200\n",
      "79     113\n",
      "94      90\n",
      "95     162\n",
      "102    302\n",
      "106    134\n",
      "112    246\n",
      "126     99\n",
      "131    158\n",
      "134    103\n",
      "136     85\n",
      "219    185\n",
      "223    150\n",
      "247     51\n",
      "293    200\n",
      "312    144\n",
      "373    168\n",
      "393     69\n",
      "425    152\n",
      "Name: Y, dtype: int64\n"
     ]
    }
   ],
   "source": [
    "print(y)"
   ]
  },
  {
   "cell_type": "code",
   "execution_count": 4,
   "id": "307ac947",
   "metadata": {},
   "outputs": [
    {
     "name": "stdout",
     "output_type": "stream",
     "text": [
      "      BMI     BP   S1     S2    S3    S4      S5  S6\n",
      "3    25.3  84.00  198  131.4  40.0  5.00  4.8903  89\n",
      "5    22.6  89.00  139   64.8  61.0  2.00  4.1897  68\n",
      "9    30.0  85.00  180   93.4  43.0  4.00  5.3845  88\n",
      "10   18.6  97.00  114   57.6  46.0  2.00  3.9512  83\n",
      "22   26.0  92.00  187  120.4  56.0  3.00  3.9703  88\n",
      "41   20.1  63.00  135   69.0  54.0  3.00  4.0943  89\n",
      "47   19.6  78.00  128   68.0  43.0  3.00  4.4427  71\n",
      "60   26.0  83.00  141   65.2  64.0  2.00  4.0775  83\n",
      "77   23.0  73.00  161   97.8  54.0  3.00  3.8286  91\n",
      "79   22.9  87.00  191  128.2  53.0  4.00  3.8918  85\n",
      "94   24.8  91.00  189  106.8  69.0  3.00  4.1897  69\n",
      "95   21.0  71.00  156   97.0  38.0  4.00  4.6540  90\n",
      "102  29.0  90.00  216  131.4  65.0  3.00  4.5850  91\n",
      "106  19.3  82.00  156   93.2  52.0  3.00  3.9890  71\n",
      "112  28.3  87.00  193  128.0  49.0  4.00  4.3820  92\n",
      "126  20.7  87.00  149   80.6  61.0  2.00  3.6109  78\n",
      "131  19.9  75.00  175  108.6  54.0  3.00  4.1271  72\n",
      "134  30.4  85.00  198  115.6  67.0  3.00  4.3438  80\n",
      "136  18.8  78.00  145   72.0  63.0  2.00  3.9120  86\n",
      "219  22.5  89.00  141   68.0  52.0  3.00  4.6540  84\n",
      "223  24.2  76.00  147   77.0  53.0  3.00  4.4427  79\n",
      "247  18.8  83.00  191  103.6  69.0  3.00  4.5218  69\n",
      "293  35.0  98.33  204  142.6  50.0  4.08  4.0431  91\n",
      "312  24.2  93.00  174  106.4  54.0  3.00  4.2195  84\n",
      "373  25.4  93.00  141   79.0  49.0  3.00  4.1744  91\n",
      "393  22.1  82.00  168  100.6  54.0  3.00  4.2047  86\n",
      "425  22.6  71.00  116   43.4  56.0  2.00  4.4188  79\n"
     ]
    }
   ],
   "source": [
    "print(X)"
   ]
  },
  {
   "cell_type": "markdown",
   "id": "8b34707f-e2ad-4252-ad47-758ca2fd90a4",
   "metadata": {},
   "source": [
    "# 2 Exploratory Data Analysis\n",
    "Calculate the correlation matrix of the `DataFrame` containing both predictors and response using the formula. Verify your results against the `pandas` correlation matrix."
   ]
  },
  {
   "cell_type": "code",
   "execution_count": 5,
   "id": "8b8e9520-8bc4-4cb0-b9f1-114a4f6f336e",
   "metadata": {},
   "outputs": [
    {
     "data": {
      "text/html": [
       "<div>\n",
       "<style scoped>\n",
       "    .dataframe tbody tr th:only-of-type {\n",
       "        vertical-align: middle;\n",
       "    }\n",
       "\n",
       "    .dataframe tbody tr th {\n",
       "        vertical-align: top;\n",
       "    }\n",
       "\n",
       "    .dataframe thead th {\n",
       "        text-align: right;\n",
       "    }\n",
       "</style>\n",
       "<table border=\"1\" class=\"dataframe\">\n",
       "  <thead>\n",
       "    <tr style=\"text-align: right;\">\n",
       "      <th></th>\n",
       "      <th>BMI</th>\n",
       "      <th>BP</th>\n",
       "      <th>S1</th>\n",
       "      <th>S2</th>\n",
       "      <th>S3</th>\n",
       "      <th>S4</th>\n",
       "      <th>S5</th>\n",
       "      <th>S6</th>\n",
       "      <th>Y</th>\n",
       "    </tr>\n",
       "  </thead>\n",
       "  <tbody>\n",
       "    <tr>\n",
       "      <th>BMI</th>\n",
       "      <td>1.000000</td>\n",
       "      <td>0.448135</td>\n",
       "      <td>0.608352</td>\n",
       "      <td>0.562394</td>\n",
       "      <td>0.014054</td>\n",
       "      <td>0.436783</td>\n",
       "      <td>0.299015</td>\n",
       "      <td>0.454860</td>\n",
       "      <td>0.523398</td>\n",
       "    </tr>\n",
       "    <tr>\n",
       "      <th>BP</th>\n",
       "      <td>0.448135</td>\n",
       "      <td>1.000000</td>\n",
       "      <td>0.343863</td>\n",
       "      <td>0.349033</td>\n",
       "      <td>0.103557</td>\n",
       "      <td>0.051476</td>\n",
       "      <td>-0.080894</td>\n",
       "      <td>0.055317</td>\n",
       "      <td>0.132195</td>\n",
       "    </tr>\n",
       "    <tr>\n",
       "      <th>S1</th>\n",
       "      <td>0.608352</td>\n",
       "      <td>0.343863</td>\n",
       "      <td>1.000000</td>\n",
       "      <td>0.951861</td>\n",
       "      <td>0.192640</td>\n",
       "      <td>0.634086</td>\n",
       "      <td>0.218626</td>\n",
       "      <td>0.214832</td>\n",
       "      <td>0.345817</td>\n",
       "    </tr>\n",
       "    <tr>\n",
       "      <th>S2</th>\n",
       "      <td>0.562394</td>\n",
       "      <td>0.349033</td>\n",
       "      <td>0.951861</td>\n",
       "      <td>1.000000</td>\n",
       "      <td>-0.008623</td>\n",
       "      <td>0.723020</td>\n",
       "      <td>0.090848</td>\n",
       "      <td>0.314900</td>\n",
       "      <td>0.342952</td>\n",
       "    </tr>\n",
       "    <tr>\n",
       "      <th>S3</th>\n",
       "      <td>0.014054</td>\n",
       "      <td>0.103557</td>\n",
       "      <td>0.192640</td>\n",
       "      <td>-0.008623</td>\n",
       "      <td>1.000000</td>\n",
       "      <td>-0.553591</td>\n",
       "      <td>-0.361040</td>\n",
       "      <td>-0.397288</td>\n",
       "      <td>-0.433763</td>\n",
       "    </tr>\n",
       "    <tr>\n",
       "      <th>S4</th>\n",
       "      <td>0.436783</td>\n",
       "      <td>0.051476</td>\n",
       "      <td>0.634086</td>\n",
       "      <td>0.723020</td>\n",
       "      <td>-0.553591</td>\n",
       "      <td>1.000000</td>\n",
       "      <td>0.505724</td>\n",
       "      <td>0.416971</td>\n",
       "      <td>0.514410</td>\n",
       "    </tr>\n",
       "    <tr>\n",
       "      <th>S5</th>\n",
       "      <td>0.299015</td>\n",
       "      <td>-0.080894</td>\n",
       "      <td>0.218626</td>\n",
       "      <td>0.090848</td>\n",
       "      <td>-0.361040</td>\n",
       "      <td>0.505724</td>\n",
       "      <td>1.000000</td>\n",
       "      <td>0.113503</td>\n",
       "      <td>0.581422</td>\n",
       "    </tr>\n",
       "    <tr>\n",
       "      <th>S6</th>\n",
       "      <td>0.454860</td>\n",
       "      <td>0.055317</td>\n",
       "      <td>0.214832</td>\n",
       "      <td>0.314900</td>\n",
       "      <td>-0.397288</td>\n",
       "      <td>0.416971</td>\n",
       "      <td>0.113503</td>\n",
       "      <td>1.000000</td>\n",
       "      <td>0.440562</td>\n",
       "    </tr>\n",
       "    <tr>\n",
       "      <th>Y</th>\n",
       "      <td>0.523398</td>\n",
       "      <td>0.132195</td>\n",
       "      <td>0.345817</td>\n",
       "      <td>0.342952</td>\n",
       "      <td>-0.433763</td>\n",
       "      <td>0.514410</td>\n",
       "      <td>0.581422</td>\n",
       "      <td>0.440562</td>\n",
       "      <td>1.000000</td>\n",
       "    </tr>\n",
       "  </tbody>\n",
       "</table>\n",
       "</div>"
      ],
      "text/plain": [
       "          BMI        BP        S1        S2        S3        S4        S5  \\\n",
       "BMI  1.000000  0.448135  0.608352  0.562394  0.014054  0.436783  0.299015   \n",
       "BP   0.448135  1.000000  0.343863  0.349033  0.103557  0.051476 -0.080894   \n",
       "S1   0.608352  0.343863  1.000000  0.951861  0.192640  0.634086  0.218626   \n",
       "S2   0.562394  0.349033  0.951861  1.000000 -0.008623  0.723020  0.090848   \n",
       "S3   0.014054  0.103557  0.192640 -0.008623  1.000000 -0.553591 -0.361040   \n",
       "S4   0.436783  0.051476  0.634086  0.723020 -0.553591  1.000000  0.505724   \n",
       "S5   0.299015 -0.080894  0.218626  0.090848 -0.361040  0.505724  1.000000   \n",
       "S6   0.454860  0.055317  0.214832  0.314900 -0.397288  0.416971  0.113503   \n",
       "Y    0.523398  0.132195  0.345817  0.342952 -0.433763  0.514410  0.581422   \n",
       "\n",
       "           S6         Y  \n",
       "BMI  0.454860  0.523398  \n",
       "BP   0.055317  0.132195  \n",
       "S1   0.214832  0.345817  \n",
       "S2   0.314900  0.342952  \n",
       "S3  -0.397288 -0.433763  \n",
       "S4   0.416971  0.514410  \n",
       "S5   0.113503  0.581422  \n",
       "S6   1.000000  0.440562  \n",
       "Y    0.440562  1.000000  "
      ]
     },
     "metadata": {},
     "output_type": "display_data"
    },
    {
     "data": {
      "text/html": [
       "<div>\n",
       "<style scoped>\n",
       "    .dataframe tbody tr th:only-of-type {\n",
       "        vertical-align: middle;\n",
       "    }\n",
       "\n",
       "    .dataframe tbody tr th {\n",
       "        vertical-align: top;\n",
       "    }\n",
       "\n",
       "    .dataframe thead th {\n",
       "        text-align: right;\n",
       "    }\n",
       "</style>\n",
       "<table border=\"1\" class=\"dataframe\">\n",
       "  <thead>\n",
       "    <tr style=\"text-align: right;\">\n",
       "      <th></th>\n",
       "      <th>BMI</th>\n",
       "      <th>BP</th>\n",
       "      <th>S1</th>\n",
       "      <th>S2</th>\n",
       "      <th>S3</th>\n",
       "      <th>S4</th>\n",
       "      <th>S5</th>\n",
       "      <th>S6</th>\n",
       "      <th>Y</th>\n",
       "    </tr>\n",
       "  </thead>\n",
       "  <tbody>\n",
       "    <tr>\n",
       "      <th>BMI</th>\n",
       "      <td>1.000000</td>\n",
       "      <td>0.448135</td>\n",
       "      <td>0.608352</td>\n",
       "      <td>0.562394</td>\n",
       "      <td>0.014054</td>\n",
       "      <td>0.436783</td>\n",
       "      <td>0.299015</td>\n",
       "      <td>0.454860</td>\n",
       "      <td>0.523398</td>\n",
       "    </tr>\n",
       "    <tr>\n",
       "      <th>BP</th>\n",
       "      <td>0.448135</td>\n",
       "      <td>1.000000</td>\n",
       "      <td>0.343863</td>\n",
       "      <td>0.349033</td>\n",
       "      <td>0.103557</td>\n",
       "      <td>0.051476</td>\n",
       "      <td>-0.080894</td>\n",
       "      <td>0.055317</td>\n",
       "      <td>0.132195</td>\n",
       "    </tr>\n",
       "    <tr>\n",
       "      <th>S1</th>\n",
       "      <td>0.608352</td>\n",
       "      <td>0.343863</td>\n",
       "      <td>1.000000</td>\n",
       "      <td>0.951861</td>\n",
       "      <td>0.192640</td>\n",
       "      <td>0.634086</td>\n",
       "      <td>0.218626</td>\n",
       "      <td>0.214832</td>\n",
       "      <td>0.345817</td>\n",
       "    </tr>\n",
       "    <tr>\n",
       "      <th>S2</th>\n",
       "      <td>0.562394</td>\n",
       "      <td>0.349033</td>\n",
       "      <td>0.951861</td>\n",
       "      <td>1.000000</td>\n",
       "      <td>-0.008623</td>\n",
       "      <td>0.723020</td>\n",
       "      <td>0.090848</td>\n",
       "      <td>0.314900</td>\n",
       "      <td>0.342952</td>\n",
       "    </tr>\n",
       "    <tr>\n",
       "      <th>S3</th>\n",
       "      <td>0.014054</td>\n",
       "      <td>0.103557</td>\n",
       "      <td>0.192640</td>\n",
       "      <td>-0.008623</td>\n",
       "      <td>1.000000</td>\n",
       "      <td>-0.553591</td>\n",
       "      <td>-0.361040</td>\n",
       "      <td>-0.397288</td>\n",
       "      <td>-0.433763</td>\n",
       "    </tr>\n",
       "    <tr>\n",
       "      <th>S4</th>\n",
       "      <td>0.436783</td>\n",
       "      <td>0.051476</td>\n",
       "      <td>0.634086</td>\n",
       "      <td>0.723020</td>\n",
       "      <td>-0.553591</td>\n",
       "      <td>1.000000</td>\n",
       "      <td>0.505724</td>\n",
       "      <td>0.416971</td>\n",
       "      <td>0.514410</td>\n",
       "    </tr>\n",
       "    <tr>\n",
       "      <th>S5</th>\n",
       "      <td>0.299015</td>\n",
       "      <td>-0.080894</td>\n",
       "      <td>0.218626</td>\n",
       "      <td>0.090848</td>\n",
       "      <td>-0.361040</td>\n",
       "      <td>0.505724</td>\n",
       "      <td>1.000000</td>\n",
       "      <td>0.113503</td>\n",
       "      <td>0.581422</td>\n",
       "    </tr>\n",
       "    <tr>\n",
       "      <th>S6</th>\n",
       "      <td>0.454860</td>\n",
       "      <td>0.055317</td>\n",
       "      <td>0.214832</td>\n",
       "      <td>0.314900</td>\n",
       "      <td>-0.397288</td>\n",
       "      <td>0.416971</td>\n",
       "      <td>0.113503</td>\n",
       "      <td>1.000000</td>\n",
       "      <td>0.440562</td>\n",
       "    </tr>\n",
       "    <tr>\n",
       "      <th>Y</th>\n",
       "      <td>0.523398</td>\n",
       "      <td>0.132195</td>\n",
       "      <td>0.345817</td>\n",
       "      <td>0.342952</td>\n",
       "      <td>-0.433763</td>\n",
       "      <td>0.514410</td>\n",
       "      <td>0.581422</td>\n",
       "      <td>0.440562</td>\n",
       "      <td>1.000000</td>\n",
       "    </tr>\n",
       "  </tbody>\n",
       "</table>\n",
       "</div>"
      ],
      "text/plain": [
       "          BMI        BP        S1        S2        S3        S4        S5  \\\n",
       "BMI  1.000000  0.448135  0.608352  0.562394  0.014054  0.436783  0.299015   \n",
       "BP   0.448135  1.000000  0.343863  0.349033  0.103557  0.051476 -0.080894   \n",
       "S1   0.608352  0.343863  1.000000  0.951861  0.192640  0.634086  0.218626   \n",
       "S2   0.562394  0.349033  0.951861  1.000000 -0.008623  0.723020  0.090848   \n",
       "S3   0.014054  0.103557  0.192640 -0.008623  1.000000 -0.553591 -0.361040   \n",
       "S4   0.436783  0.051476  0.634086  0.723020 -0.553591  1.000000  0.505724   \n",
       "S5   0.299015 -0.080894  0.218626  0.090848 -0.361040  0.505724  1.000000   \n",
       "S6   0.454860  0.055317  0.214832  0.314900 -0.397288  0.416971  0.113503   \n",
       "Y    0.523398  0.132195  0.345817  0.342952 -0.433763  0.514410  0.581422   \n",
       "\n",
       "           S6         Y  \n",
       "BMI  0.454860  0.523398  \n",
       "BP   0.055317  0.132195  \n",
       "S1   0.214832  0.345817  \n",
       "S2   0.314900  0.342952  \n",
       "S3  -0.397288 -0.433763  \n",
       "S4   0.416971  0.514410  \n",
       "S5   0.113503  0.581422  \n",
       "S6   1.000000  0.440562  \n",
       "Y    0.440562  1.000000  "
      ]
     },
     "metadata": {},
     "output_type": "display_data"
    }
   ],
   "source": [
    "import numpy as np\n",
    "\n",
    "# Manual.\n",
    "# Note that this code involves manipulating pandas objects like ndarrays.\n",
    "# Covariance matrix.\n",
    "cov_mat = (sub - sub.mean()).T @ (sub - sub.mean()) / (sub.shape[0] - 1)\n",
    "# Normalize for correlation matrix.\n",
    "cor_mat = cov_mat / np.outer(sub.std(), sub.std()) \n",
    "display(cor_mat)\n",
    "\n",
    "# pandas\n",
    "display(sub.corr())"
   ]
  },
  {
   "cell_type": "markdown",
   "id": "a214b0e4",
   "metadata": {},
   "source": [
    "Explore scatterplots of individual predictors versus the response variable. Consider the relation between the scatterplots and the correlation coefficients. Consider whether the correlation coefficients accurately represent a linear relation between the response and predictors."
   ]
  },
  {
   "cell_type": "code",
   "execution_count": 16,
   "id": "39855ca0",
   "metadata": {},
   "outputs": [
    {
     "data": {
      "image/png": "[encoded data removed]",
      "text/plain": [
       "<Figure size 432x288 with 1 Axes>"
      ]
     },
     "metadata": {
      "needs_background": "light"
     },
     "output_type": "display_data"
    },
    {
     "name": "stdout",
     "output_type": "stream",
     "text": [
      "0.3458173364649732\n"
     ]
    },
    {
     "data": {
      "image/png": "[encoded data removed]",
      "text/plain": [
       "<Figure size 432x288 with 1 Axes>"
      ]
     },
     "metadata": {
      "needs_background": "light"
     },
     "output_type": "display_data"
    },
    {
     "name": "stdout",
     "output_type": "stream",
     "text": [
      "0.3429516037123322\n"
     ]
    },
    {
     "data": {
      "image/png": "[encoded data removed]",
      "text/plain": [
       "<Figure size 432x288 with 1 Axes>"
      ]
     },
     "metadata": {
      "needs_background": "light"
     },
     "output_type": "display_data"
    },
    {
     "name": "stdout",
     "output_type": "stream",
     "text": [
      "-0.43376295574234347\n"
     ]
    },
    {
     "data": {
      "image/png": "[encoded data removed]",
      "text/plain": [
       "<Figure size 432x288 with 1 Axes>"
      ]
     },
     "metadata": {
      "needs_background": "light"
     },
     "output_type": "display_data"
    },
    {
     "name": "stdout",
     "output_type": "stream",
     "text": [
      "0.5144095090198727\n"
     ]
    }
   ],
   "source": [
    "import matplotlib.pyplot as plt\n",
    "\n",
    "# Alter variable to see different relations.\n",
    "# Note that a linear relation for S4 and Y is unclear.\n",
    "var = \"S1\"\n",
    "plt.figure()\n",
    "plt.scatter(sub[var], sub[\"Y\"])\n",
    "plt.xlabel(var)\n",
    "plt.ylabel(\"Y\")\n",
    "plt.show()\n",
    "print(cor_mat[\"Y\"][var])\n",
    "\n",
    "var = \"S2\"\n",
    "plt.figure()\n",
    "plt.scatter(sub[var], sub[\"Y\"])\n",
    "plt.xlabel(var)\n",
    "plt.ylabel(\"Y\")\n",
    "plt.show()\n",
    "print(cor_mat[\"Y\"][var])\n",
    "\n",
    "var = \"S3\"\n",
    "plt.figure()\n",
    "plt.scatter(sub[var], sub[\"Y\"])\n",
    "plt.xlabel(var)\n",
    "plt.ylabel(\"Y\")\n",
    "plt.show()\n",
    "print(cor_mat[\"Y\"][var])\n",
    "\n",
    "var = \"S4\"\n",
    "plt.figure()\n",
    "plt.scatter(sub[var], sub[\"Y\"])\n",
    "plt.xlabel(var)\n",
    "plt.ylabel(\"Y\")\n",
    "plt.show()\n",
    "print(cor_mat[\"Y\"][var])\n",
    "\n"
   ]
  },
  {
   "cell_type": "markdown",
   "id": "294af9b5-d458-40ad-99aa-34811a73a4cb",
   "metadata": {},
   "source": [
    "# 3 Regression\n",
    "Manually regress the response on the predictors using the least squares formula. Compare your coefficients to those from `sklearn.linear_model.LinearRegression`."
   ]
  },
  {
   "cell_type": "code",
   "execution_count": 7,
   "id": "be364d3a",
   "metadata": {
    "scrolled": true
   },
   "outputs": [
    {
     "data": {
      "text/plain": [
       "array([ 93.55411879,   5.055731  ,  -0.84103224,   3.97816112,\n",
       "        -2.25884765,  -8.57118782, -66.73791512,  36.11900347,\n",
       "         0.90647686])"
      ]
     },
     "metadata": {},
     "output_type": "display_data"
    },
    {
     "data": {
      "text/plain": [
       "array([ 93.55411879,   5.055731  ,  -0.84103224,   3.97816112,\n",
       "        -2.25884765,  -8.57118782, -66.73791512,  36.11900347,\n",
       "         0.90647686])"
      ]
     },
     "metadata": {},
     "output_type": "display_data"
    }
   ],
   "source": [
    "# Alter to select different predictors.\n",
    "mask = [\"BMI\", \"BP\", \"S1\", \"S2\", \"S3\", \"S4\", \"S5\", \"S6\"]\n",
    "\n",
    "# Augment X for intercept term.\n",
    "aug_X = np.hstack((np.ones([X.shape[0], 1]), X[mask].values))\n",
    "\n",
    "# Calculating with formula.\n",
    "Xpinv = np.linalg.inv(aug_X.T @ aug_X) @ aug_X.T \n",
    "bHat = Xpinv @ y\n",
    "yHat = aug_X @ bHat\n",
    "display(bHat)\n",
    "\n",
    "# Calculating with sklearn.\n",
    "from sklearn.linear_model import LinearRegression\n",
    "reg = LinearRegression().fit(X[mask], y)\n",
    "display(np.append(reg.intercept_, reg.coef_))"
   ]
  },
  {
   "cell_type": "markdown",
   "id": "dc8d32b5",
   "metadata": {},
   "source": [
    "# 4 Model Diagnostics"
   ]
  },
  {
   "cell_type": "markdown",
   "id": "f6c1b5ae",
   "metadata": {},
   "source": [
    "Calculate the mean-squared error of the model using the formula."
   ]
  },
  {
   "cell_type": "code",
   "execution_count": 8,
   "id": "8161078a",
   "metadata": {
    "scrolled": true
   },
   "outputs": [
    {
     "name": "stdout",
     "output_type": "stream",
     "text": [
      "MSE: 1683.2925149521814\n"
     ]
    }
   ],
   "source": [
    "print(\"MSE:\", np.mean((y - yHat)**2))"
   ]
  },
  {
   "cell_type": "markdown",
   "id": "2c4f6eef",
   "metadata": {},
   "source": [
    "Draw a histogram of the _residuals_ $y_{i} - \\hat{y}_{i}$. Draw a _fitted ($\\hat{y}$) vs. residual_ plot. Consider what these indicate about the model fit."
   ]
  },
  {
   "cell_type": "code",
   "execution_count": 9,
   "id": "4a0ebee2",
   "metadata": {},
   "outputs": [
    {
     "data": {
      "image/png": "[encoded data removed]",
      "text/plain": [
       "<Figure size 432x288 with 1 Axes>"
      ]
     },
     "metadata": {
      "needs_background": "light"
     },
     "output_type": "display_data"
    },
    {
     "data": {
      "image/png": "[encoded data removed]",
      "text/plain": [
       "<Figure size 432x288 with 1 Axes>"
      ]
     },
     "metadata": {
      "needs_background": "light"
     },
     "output_type": "display_data"
    }
   ],
   "source": [
    "plt.hist(y - yHat)\n",
    "plt.show()\n",
    "\n",
    "plt.scatter(yHat, y - yHat)\n",
    "plt.xlabel(\"Fitted\")\n",
    "plt.ylabel(\"Residual\")\n",
    "plt.show()\n",
    "\n",
    "# Skew in the histogram indicates the model tends to underpredict.\n",
    "# This tendency can be seen in the fitted versus residual plot as well."
   ]
  },
  {
   "cell_type": "code",
   "execution_count": null,
   "id": "304d591e",
   "metadata": {},
   "outputs": [],
   "source": []
  }
 ],
 "metadata": {
  "kernelspec": {
   "display_name": "base",
   "language": "python",
   "name": "python3"
  },
  "language_info": {
   "codemirror_mode": {
    "name": "ipython",
    "version": 3
   },
   "file_extension": ".py",
   "mimetype": "text/x-python",
   "name": "python",
   "nbconvert_exporter": "python",
   "pygments_lexer": "ipython3",
   "version": "3.9.7"
  },
  "vscode": {
   "interpreter": {
    "hash": "43129c23d79667d987760d8fda822d6cf9b94e4f6ff31aa29025e95d3c53fe91"
   }
  }
 },
 "nbformat": 4,
 "nbformat_minor": 5
}
