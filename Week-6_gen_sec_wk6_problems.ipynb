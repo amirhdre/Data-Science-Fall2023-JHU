{
 "cells": [
  {
   "cell_type": "markdown",
   "id": "456b4db9",
   "metadata": {},
   "source": [
    "# Bayesian Inference"
   ]
  },
  {
   "cell_type": "markdown",
   "id": "c7350497",
   "metadata": {
    "tags": []
   },
   "source": [
    "## 1. Introduction\n",
    "\n",
    "In this activity, you will explore the problem of estimating probabilities from data using Bayesian faremework. The goal is to start with prior information on some paramater of interest (Ex. $\\theta$) and update it according to some observed data. Based on the Bayes' theorom, **_posterior_** distribution incorporates observations $x$ into the distribution of the parameter of interest. In this setup posterior distribution serves as a summary of data and can be expressed as the following:\n",
    "\n",
    "$$\n",
    "p(\\theta | x) = \\frac{p(x|\\theta)p(\\theta)}{\\int_{\\theta}p(x|\\theta)p(\\theta)d\\theta}\n",
    "$$\n",
    "\n",
    "Here $p(x|\\theta)$ is the likelihood (model) distribution that summarizes the information about experimental data and $p(\\theta)$ is the prior distribution that quantifies available knowledge about the parameter of interest, and also describes the uncertainty about this parameter before data are observed. In other words prior distribution describes our best guess about parameters before obeserving the data."
   ]
  },
  {
   "cell_type": "markdown",
   "id": "6eabb41c-d3ff-41d9-835d-3e303919ed23",
   "metadata": {},
   "source": [
    "## 2. Estimating Chemotherapy Response Rates\n",
    "\n",
    "### 2.1 Prior distribution: $p(\\theta)$\n",
    "\n",
    "Efficacy of a new chemotherapy medication is under investigation. Based on a preliminary results using sample aize of 10 it is belived that on average 90% of patients will respond to this medication. Also investigators belive that it will be unlikely that this proportion will go bellow 80%. Define and plot a prior distribution based on this preliminary result. **Hint:** You can consider using the Beta function."
   ]
  },
  {
   "cell_type": "code",
   "execution_count": null,
   "id": "fc1b40a7-270a-4668-bd8a-ea2d076d6d15",
   "metadata": {},
   "outputs": [],
   "source": []
  },
  {
   "cell_type": "markdown",
   "id": "93456980-e9e3-4a08-82b3-a44bc7e9d2cf",
   "metadata": {},
   "source": [
    "### 2.2 Likelihood distribution: $p(x|\\theta)$\n",
    "\n",
    "During a new trial, following data was collected:\n",
    "\n",
    "$[1, 0, 1, 1, 1, 0, 0, 1, 1, 1, 0, 1, 1, 0, 1, 1, 1, 1, 0, 1, 1, 1, 0, 1, 1, 1, 0, 1, 1, 1]$\n",
    "\n",
    "Select and plot a lileklihood function for all possible $\\theta$ ranges. **Hint:** A propoer likelihood function would be a binomial distribution."
   ]
  },
  {
   "cell_type": "code",
   "execution_count": null,
   "id": "7e1d7fe1-fa32-4772-a1f4-9b13ccf504e6",
   "metadata": {},
   "outputs": [],
   "source": []
  },
  {
   "cell_type": "markdown",
   "id": "9630d6f7-c988-4d23-b1d1-90b4f58fcacf",
   "metadata": {},
   "source": [
    "### 2.3 Posterior Distribution: $p(\\theta|x)$\n",
    "\n",
    "Compute and plot the posterior distribution along with the prior and likelihood distributions. Explain the results. What is the most likely value for the parameter of interest."
   ]
  },
  {
   "cell_type": "code",
   "execution_count": null,
   "id": "4970ce58-44e1-4f7a-9bc7-e35165c21e80",
   "metadata": {},
   "outputs": [],
   "source": []
  },
  {
   "cell_type": "markdown",
   "id": "5f30be36-cc17-4e42-915e-2d0d50740560",
   "metadata": {},
   "source": [
    "### 2.4 Importance Sampling\n",
    "\n",
    "In practice, due to the difficulty in calculating the normalization factor for the posterior distribution, we may not be able to fully estimate this density. However, numerical methods such as **importance sampling** method can be used to estimate an important proprty such as **expectation** of the posteror distribution, when we only know this distribution up to a scale.\n",
    "\n",
    "We defined the posterior distribution in the context of the Bayesian inference as follows:\n",
    "\n",
    "$$\n",
    "p(\\theta | x) = \\frac{p(x|\\theta)p(\\theta)}{\\int_{\\theta}p(x|\\theta)p(\\theta)d\\theta}\n",
    "$$\n",
    "\n",
    "If we are not able to calculate the normalization factor, then we could define the unnormalized postrior distribution as:\n",
    "\n",
    "$$\n",
    "\\begin{align}\n",
    "\\tilde p(\\theta | x) & \\propto p(x|\\theta)p(\\theta) \\\\\n",
    "p(\\theta | x) &= C \\cdot \\tilde p(\\theta | x)\n",
    "\\end{align}\n",
    "$$\n",
    "\n",
    "Where $C$ is a constant. In this context, the expectation of posterior density is defined as:\n",
    "\n",
    "$$\n",
    "E[\\theta | x] = \\int_{\\theta} p(\\theta|x)\\theta d\\theta\n",
    "$$\n",
    "\n",
    "Let's introduce another proposed distribution, denoted as $q(\\theta)$ and rewrite the expectation a:\n",
    "\n",
    "\n",
    "$$\n",
    "\\begin{aligned}\n",
    "E[\\theta | x] &= \\int_{\\theta} \\frac{p(\\theta|x)}{q(\\theta)}q(\\theta) \\theta d\\theta \\\\\n",
    "&= \\int_{\\theta}\\omega(\\theta)q(\\theta) \\theta d\\theta \\\\\n",
    "&= \\int_{\\theta}\\omega(\\theta)\\theta q(\\theta) d\\theta\n",
    "\\end{aligned}\n",
    "$$\n",
    "\n",
    "We can use Monte Carlo simulation to estimate this expection, and based on the law of large numbers we will have:\n",
    "\n",
    "$$\n",
    "\\tilde E[\\theta | x] = \\frac{1}{n} \\sum_{i}^{n} \\omega(\\theta_{i}) \\theta_{i} \\xrightarrow{n \\rightarrow \\infty} E_{q(\\theta)}[\\omega(\\theta)\\theta | x]\n",
    "$$\n",
    "\n",
    "Note that $\\omega(\\theta_{i}) = \\frac{p(\\theta_{i})}{q(\\theta_{i})}$, but we only know $p(.)$ up to a constant. To address this issue we could use a normalization factor based on the weigths:\n",
    "\n",
    "\n",
    "$$\n",
    "\\begin{aligned}\n",
    "\\tilde E[1 | x] &= 1 \\\\\n",
    "&= \\frac{1}{n}\\sum_{i}^{n} \\omega(\\theta_{i}) 1 = 1 \\\\\n",
    "&= \\frac{1}{n}\\sum_{i}^{n} \\frac{p(\\theta_{i}| x)}{q(\\theta_{i})} = 1 \\\\\n",
    "&= \\frac{1}{n}\\sum_{i}^{n} \\frac{C \\cdot \\tilde p(\\theta_{i}| x)}{q(\\theta_{i})} = 1 \\\\\n",
    "&= \\frac{C}{n} \\cdot \\sum_{i}^{n} \\frac{\\tilde p(\\theta_{i}| x)}{q(\\theta_{i})} = 1 \\\\\n",
    "&= \\frac{C}{n} \\cdot \\sum_{i}^{n} \\tilde\\omega(\\theta_{i}) = 1 \\\\\n",
    "&\\implies C = \\frac{n}{\\sum_{i}^{n} \\tilde\\omega(\\theta_{i})}\n",
    "\\end{aligned}\n",
    "$$\n",
    "\n",
    "Accordingly:\n",
    "\n",
    "$$\n",
    "\\tilde E[\\theta | x] = \\frac{\\sum_{i}^{n} \\tilde\\omega(\\theta_{i}) \\theta_{i}}{\\sum_{i}^{n} \\tilde\\omega(\\theta_{i})}\n",
    "$$\n",
    "\n",
    "\n",
    "Implement important sampling on the non-normalized posterior (Beta distribution) and a proposed normal distribution $q \\sim \\mathcal{N}(0,1)$ to estimate the expectation of posterior distribution.\n",
    "\n"
   ]
  },
  {
   "cell_type": "code",
   "execution_count": null,
   "id": "8b69d923",
   "metadata": {},
   "outputs": [],
   "source": []
  }
 ],
 "metadata": {
  "kernelspec": {
   "display_name": "Python 3.9.7 ('base')",
   "language": "python",
   "name": "python3"
  },
  "language_info": {
   "codemirror_mode": {
    "name": "ipython",
    "version": 3
   },
   "file_extension": ".py",
   "mimetype": "text/x-python",
   "name": "python",
   "nbconvert_exporter": "python",
   "pygments_lexer": "ipython3",
   "version": "3.9.7"
  },
  "vscode": {
   "interpreter": {
    "hash": "43129c23d79667d987760d8fda822d6cf9b94e4f6ff31aa29025e95d3c53fe91"
   }
  }
 },
 "nbformat": 4,
 "nbformat_minor": 5
}
