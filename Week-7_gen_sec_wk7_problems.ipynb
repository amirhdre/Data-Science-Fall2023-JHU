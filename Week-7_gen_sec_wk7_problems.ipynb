{
 "cells": [
  {
   "cell_type": "markdown",
   "id": "f81276f2",
   "metadata": {},
   "source": [
    "# 1: Preprocessing\n",
    "Load the [Heart Failure Clinical Records Dataset](https://archive.ics.uci.edu/ml/datasets/Heart%2Bfailure%2Bclinical%2Brecords) from `heart.csv`. Store `DEATH_EVENT` as the target. Store the other quantitative variables except `time` as predictors. Perform a log transformation on the predictors to make them compatible with Gaussian modeling. Divide the predictors into two sets for `DEATH_EVENT=0` and `DEATH_EVENT=1` respectively."
   ]
  },
  {
   "cell_type": "code",
   "execution_count": null,
   "id": "abf95feb",
   "metadata": {},
   "outputs": [],
   "source": []
  },
  {
   "cell_type": "markdown",
   "id": "769abb20",
   "metadata": {},
   "source": [
    "# 2: Model Fitting\n",
    "Create Gaussian Naive Bayes, LDA, and QDA prediction functions for models fit on all predictors to predict `DEATH_EVENT`. Infer prior probabilities from class proportions."
   ]
  },
  {
   "cell_type": "code",
   "execution_count": null,
   "id": "f2c6b692",
   "metadata": {},
   "outputs": [],
   "source": []
  },
  {
   "cell_type": "markdown",
   "id": "61367487",
   "metadata": {},
   "source": [
    "# 3: Model Asessment\n",
    "For each model, print the accuracy on the datset."
   ]
  },
  {
   "cell_type": "code",
   "execution_count": null,
   "id": "a56243c5",
   "metadata": {},
   "outputs": [],
   "source": []
  },
  {
   "cell_type": "markdown",
   "id": "ebf05097",
   "metadata": {},
   "source": [
    "Assess whether the GNB, LDA, and QDA assumptions hold."
   ]
  },
  {
   "cell_type": "code",
   "execution_count": null,
   "id": "bebdcce1",
   "metadata": {},
   "outputs": [],
   "source": []
  }
 ],
 "metadata": {
  "kernelspec": {
   "display_name": "Python 3 (ipykernel)",
   "language": "python",
   "name": "python3"
  },
  "language_info": {
   "codemirror_mode": {
    "name": "ipython",
    "version": 3
   },
   "file_extension": ".py",
   "mimetype": "text/x-python",
   "name": "python",
   "nbconvert_exporter": "python",
   "pygments_lexer": "ipython3",
   "version": "3.9.7"
  }
 },
 "nbformat": 4,
 "nbformat_minor": 5
}
