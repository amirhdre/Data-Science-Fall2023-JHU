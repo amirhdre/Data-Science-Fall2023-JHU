{
 "cells": [
  {
   "cell_type": "markdown",
   "id": "f81276f2",
   "metadata": {},
   "source": [
    "# 1: Preprocessing\n",
    "Load the [Heart Failure Clinical Records Dataset](https://archive.ics.uci.edu/ml/datasets/Heart%2Bfailure%2Bclinical%2Brecords) from `heart.csv`. Store `DEATH_EVENT` as the target. Store the other quantitative variables except `time` as predictors. Perform a log transformation on the predictors to make them compatible with Gaussian modeling. Divide the predictors into two sets for `DEATH_EVENT=0` and `DEATH_EVENT=1` respectively."
   ]
  },
  {
   "cell_type": "code",
   "execution_count": 1,
   "id": "abf95feb",
   "metadata": {},
   "outputs": [],
   "source": [
    "import pandas as pd\n",
    "import numpy as np\n",
    "\n",
    "dataset = pd.read_csv('heart.csv')\n",
    "\n",
    "X = dataset.drop([\"anaemia\", \"diabetes\", \"high_blood_pressure\", \"sex\", \"smoking\", \"time\", \"DEATH_EVENT\"], axis=1)\n",
    "X = np.log(X)\n",
    "\n",
    "y = dataset[\"DEATH_EVENT\"]\n",
    "\n",
    "indices_0 = y.index[y==0]\n",
    "indices_1 = y.index[y==1]\n",
    "\n",
    "X_0 = X.iloc[indices_0, :]\n",
    "X_1 = X.iloc[indices_1, :]"
   ]
  },
  {
   "cell_type": "code",
   "execution_count": 2,
   "id": "1c1c486d",
   "metadata": {},
   "outputs": [
    {
     "data": {
      "text/html": [
       "<div>\n",
       "<style scoped>\n",
       "    .dataframe tbody tr th:only-of-type {\n",
       "        vertical-align: middle;\n",
       "    }\n",
       "\n",
       "    .dataframe tbody tr th {\n",
       "        vertical-align: top;\n",
       "    }\n",
       "\n",
       "    .dataframe thead th {\n",
       "        text-align: right;\n",
       "    }\n",
       "</style>\n",
       "<table border=\"1\" class=\"dataframe\">\n",
       "  <thead>\n",
       "    <tr style=\"text-align: right;\">\n",
       "      <th></th>\n",
       "      <th>age</th>\n",
       "      <th>creatinine_phosphokinase</th>\n",
       "      <th>ejection_fraction</th>\n",
       "      <th>platelets</th>\n",
       "      <th>serum_creatinine</th>\n",
       "      <th>serum_sodium</th>\n",
       "    </tr>\n",
       "  </thead>\n",
       "  <tbody>\n",
       "    <tr>\n",
       "      <th>0</th>\n",
       "      <td>4.317488</td>\n",
       "      <td>6.366470</td>\n",
       "      <td>2.995732</td>\n",
       "      <td>12.487485</td>\n",
       "      <td>0.641854</td>\n",
       "      <td>4.867534</td>\n",
       "    </tr>\n",
       "    <tr>\n",
       "      <th>1</th>\n",
       "      <td>4.007333</td>\n",
       "      <td>8.969669</td>\n",
       "      <td>3.637586</td>\n",
       "      <td>12.481270</td>\n",
       "      <td>0.095310</td>\n",
       "      <td>4.912655</td>\n",
       "    </tr>\n",
       "    <tr>\n",
       "      <th>2</th>\n",
       "      <td>4.174387</td>\n",
       "      <td>4.983607</td>\n",
       "      <td>2.995732</td>\n",
       "      <td>11.995352</td>\n",
       "      <td>0.262364</td>\n",
       "      <td>4.859812</td>\n",
       "    </tr>\n",
       "    <tr>\n",
       "      <th>3</th>\n",
       "      <td>3.912023</td>\n",
       "      <td>4.709530</td>\n",
       "      <td>2.995732</td>\n",
       "      <td>12.254863</td>\n",
       "      <td>0.641854</td>\n",
       "      <td>4.919981</td>\n",
       "    </tr>\n",
       "    <tr>\n",
       "      <th>4</th>\n",
       "      <td>4.174387</td>\n",
       "      <td>5.075174</td>\n",
       "      <td>2.995732</td>\n",
       "      <td>12.697715</td>\n",
       "      <td>0.993252</td>\n",
       "      <td>4.753590</td>\n",
       "    </tr>\n",
       "    <tr>\n",
       "      <th>...</th>\n",
       "      <td>...</td>\n",
       "      <td>...</td>\n",
       "      <td>...</td>\n",
       "      <td>...</td>\n",
       "      <td>...</td>\n",
       "      <td>...</td>\n",
       "    </tr>\n",
       "    <tr>\n",
       "      <th>294</th>\n",
       "      <td>4.127134</td>\n",
       "      <td>4.110874</td>\n",
       "      <td>3.637586</td>\n",
       "      <td>11.951180</td>\n",
       "      <td>0.095310</td>\n",
       "      <td>4.962845</td>\n",
       "    </tr>\n",
       "    <tr>\n",
       "      <th>295</th>\n",
       "      <td>4.007333</td>\n",
       "      <td>7.506592</td>\n",
       "      <td>3.637586</td>\n",
       "      <td>12.506177</td>\n",
       "      <td>0.182322</td>\n",
       "      <td>4.934474</td>\n",
       "    </tr>\n",
       "    <tr>\n",
       "      <th>296</th>\n",
       "      <td>3.806662</td>\n",
       "      <td>7.630461</td>\n",
       "      <td>4.094345</td>\n",
       "      <td>13.517105</td>\n",
       "      <td>-0.223144</td>\n",
       "      <td>4.927254</td>\n",
       "    </tr>\n",
       "    <tr>\n",
       "      <th>297</th>\n",
       "      <td>3.806662</td>\n",
       "      <td>7.788626</td>\n",
       "      <td>3.637586</td>\n",
       "      <td>11.849398</td>\n",
       "      <td>0.336472</td>\n",
       "      <td>4.941642</td>\n",
       "    </tr>\n",
       "    <tr>\n",
       "      <th>298</th>\n",
       "      <td>3.912023</td>\n",
       "      <td>5.278115</td>\n",
       "      <td>3.806662</td>\n",
       "      <td>12.886641</td>\n",
       "      <td>0.470004</td>\n",
       "      <td>4.912655</td>\n",
       "    </tr>\n",
       "  </tbody>\n",
       "</table>\n",
       "<p>299 rows × 6 columns</p>\n",
       "</div>"
      ],
      "text/plain": [
       "          age  creatinine_phosphokinase  ejection_fraction  platelets  \\\n",
       "0    4.317488                  6.366470           2.995732  12.487485   \n",
       "1    4.007333                  8.969669           3.637586  12.481270   \n",
       "2    4.174387                  4.983607           2.995732  11.995352   \n",
       "3    3.912023                  4.709530           2.995732  12.254863   \n",
       "4    4.174387                  5.075174           2.995732  12.697715   \n",
       "..        ...                       ...                ...        ...   \n",
       "294  4.127134                  4.110874           3.637586  11.951180   \n",
       "295  4.007333                  7.506592           3.637586  12.506177   \n",
       "296  3.806662                  7.630461           4.094345  13.517105   \n",
       "297  3.806662                  7.788626           3.637586  11.849398   \n",
       "298  3.912023                  5.278115           3.806662  12.886641   \n",
       "\n",
       "     serum_creatinine  serum_sodium  \n",
       "0            0.641854      4.867534  \n",
       "1            0.095310      4.912655  \n",
       "2            0.262364      4.859812  \n",
       "3            0.641854      4.919981  \n",
       "4            0.993252      4.753590  \n",
       "..                ...           ...  \n",
       "294          0.095310      4.962845  \n",
       "295          0.182322      4.934474  \n",
       "296         -0.223144      4.927254  \n",
       "297          0.336472      4.941642  \n",
       "298          0.470004      4.912655  \n",
       "\n",
       "[299 rows x 6 columns]"
      ]
     },
     "metadata": {},
     "output_type": "display_data"
    }
   ],
   "source": [
    "display(X)"
   ]
  },
  {
   "cell_type": "code",
   "execution_count": 3,
   "id": "fd10085e",
   "metadata": {},
   "outputs": [
    {
     "data": {
      "text/plain": [
       "0      1\n",
       "1      1\n",
       "2      1\n",
       "3      1\n",
       "4      1\n",
       "      ..\n",
       "294    0\n",
       "295    0\n",
       "296    0\n",
       "297    0\n",
       "298    0\n",
       "Name: DEATH_EVENT, Length: 299, dtype: int64"
      ]
     },
     "metadata": {},
     "output_type": "display_data"
    }
   ],
   "source": [
    "display(y)"
   ]
  },
  {
   "cell_type": "markdown",
   "id": "769abb20",
   "metadata": {},
   "source": [
    "# 2: Model Fitting\n",
    "Create Gaussian Naive Bayes, LDA, and QDA prediction functions for models fit on all predictors to predict `DEATH_EVENT`. Infer prior probabilities from class proportions."
   ]
  },
  {
   "cell_type": "code",
   "execution_count": 4,
   "id": "f2c6b692",
   "metadata": {},
   "outputs": [],
   "source": [
    "from scipy.stats import multivariate_normal\n",
    "\n",
    "# prior_0 = X_0.shape[0] / X.shape[0]\n",
    "# prior_1 = X_1.shape[0] / X.shape[0]\n",
    "\n",
    "prior_0 = np.sum(y==0) / y.shape[0]\n",
    "prior_1 = np.sum(y==1) / y.shape[0]\n",
    "\n",
    "Sigma = X.cov()\n",
    "Sigma_0 = X_0.cov()\n",
    "Sigma_1 = X_1.cov()\n",
    "var_0 = X_0.var()\n",
    "var_1 = X_1.var()\n",
    "\n",
    "mu_0 = X_0.mean()\n",
    "mu_1 = X_1.mean()"
   ]
  },
  {
   "cell_type": "code",
   "execution_count": 10,
   "id": "4efd2be0",
   "metadata": {},
   "outputs": [
    {
     "name": "stdout",
     "output_type": "stream",
     "text": [
      "0.6789297658862876\n",
      "0.3210702341137124\n"
     ]
    }
   ],
   "source": [
    "print(prior_0)\n",
    "print(prior_1)"
   ]
  },
  {
   "cell_type": "code",
   "execution_count": 5,
   "id": "15b8649d",
   "metadata": {},
   "outputs": [],
   "source": [
    "def gnb_predict(X):\n",
    "    likelihood_0 = multivariate_normal.pdf(X, mean=mu_0, cov=var_0)\n",
    "    likelihood_1 = multivariate_normal.pdf(X, mean=mu_1, cov=var_1)\n",
    "    # NB: These are posteriors without the normalization terms.\n",
    "    posterior_0 = prior_0 * likelihood_0\n",
    "    posterior_1 = prior_1 * likelihood_1 \n",
    "    # Syntactic trick.\n",
    "    return (posterior_1 > posterior_0).astype(int)\n",
    "\n",
    "def lda_predict_1(X):\n",
    "    likelihood_0 = multivariate_normal.pdf(X, mean=mu_0, cov=Sigma)\n",
    "    likelihood_1 = multivariate_normal.pdf(X, mean=mu_1, cov=Sigma)\n",
    "    posterior_0 = prior_0 * likelihood_0\n",
    "    posterior_1 = prior_1 * likelihood_1\n",
    "    return (posterior_1 > posterior_0).astype(int)\n",
    "    \n",
    "def qda_predict_1(X):\n",
    "    likelihood_0 = multivariate_normal.pdf(X, mean=mu_0, cov=Sigma_0)\n",
    "    likelihood_1 = multivariate_normal.pdf(X, mean=mu_1, cov=Sigma_1)\n",
    "    posterior_0 = prior_0 * likelihood_0\n",
    "    posterior_1 = prior_1 * likelihood_1\n",
    "    return (posterior_1 > posterior_0).astype(int)\n",
    "\n",
    "# Alternative implementations using explicit log posterior formulas.\n",
    "\n",
    "def lda_predict_2(X):\n",
    "    # NB: These are log posteriors without the terms that cancel.\n",
    "    log_posterior_0 = np.log(prior_0) - (1/2)*np.sum((X - mu_0).values @ np.linalg.inv(Sigma) * (X - mu_0).values, axis=1)\n",
    "    log_posterior_1 = np.log(prior_1) - (1/2)*np.sum((X - mu_1).values @ np.linalg.inv(Sigma) * (X - mu_1).values, axis=1)\n",
    "    return (log_posterior_0 - log_posterior_1 < 0).astype(int)\n",
    "\n",
    "def qda_predict_2(X):\n",
    "    log_posterior_0 = np.log(prior_0) - (1/2)*np.log(np.linalg.det(Sigma_0)) - (1/2)*np.sum((X - mu_0).values @ np.linalg.inv(Sigma_0) * (X - mu_0).values, axis=1)\n",
    "    log_posterior_1 = np.log(prior_1) - (1/2)*np.log(np.linalg.det(Sigma_1)) - (1/2)*np.sum((X - mu_1).values @ np.linalg.inv(Sigma_1) * (X - mu_1).values, axis=1)\n",
    "    return (log_posterior_0 - log_posterior_1 < 0).astype(int)"
   ]
  },
  {
   "cell_type": "code",
   "execution_count": 6,
   "id": "72424367",
   "metadata": {},
   "outputs": [
    {
     "name": "stdout",
     "output_type": "stream",
     "text": [
      "True\n",
      "True\n"
     ]
    }
   ],
   "source": [
    "print(np.alltrue(lda_predict_1(X)==lda_predict_2(X)))\n",
    "print(np.alltrue(qda_predict_1(X)==qda_predict_2(X)))\n",
    "\n",
    "# NB: The sklearn implementations differ."
   ]
  },
  {
   "cell_type": "markdown",
   "id": "61367487",
   "metadata": {},
   "source": [
    "# 3: Model Asessment\n",
    "For each model, print the accuracy."
   ]
  },
  {
   "cell_type": "code",
   "execution_count": 7,
   "id": "a56243c5",
   "metadata": {},
   "outputs": [
    {
     "name": "stdout",
     "output_type": "stream",
     "text": [
      "GNB: 0.7792642140468228\n",
      "LDA: 0.7625418060200669\n",
      "QDA: 0.7692307692307693\n"
     ]
    }
   ],
   "source": [
    "print(\"GNB:\", np.sum(gnb_predict(X) == y) / len(y))\n",
    "print(\"LDA:\", np.sum(lda_predict_1(X) == y) / len(y))\n",
    "print(\"QDA:\", np.sum(qda_predict_1(X) == y) / len(y))"
   ]
  },
  {
   "cell_type": "markdown",
   "id": "ebf05097",
   "metadata": {},
   "source": [
    "Assess whether the GNB, LDA, and QDA assumptions hold."
   ]
  },
  {
   "cell_type": "code",
   "execution_count": 8,
   "id": "bebdcce1",
   "metadata": {},
   "outputs": [
    {
     "data": {
      "text/html": [
       "<div>\n",
       "<style scoped>\n",
       "    .dataframe tbody tr th:only-of-type {\n",
       "        vertical-align: middle;\n",
       "    }\n",
       "\n",
       "    .dataframe tbody tr th {\n",
       "        vertical-align: top;\n",
       "    }\n",
       "\n",
       "    .dataframe thead th {\n",
       "        text-align: right;\n",
       "    }\n",
       "</style>\n",
       "<table border=\"1\" class=\"dataframe\">\n",
       "  <thead>\n",
       "    <tr style=\"text-align: right;\">\n",
       "      <th></th>\n",
       "      <th>age</th>\n",
       "      <th>creatinine_phosphokinase</th>\n",
       "      <th>ejection_fraction</th>\n",
       "      <th>platelets</th>\n",
       "      <th>serum_creatinine</th>\n",
       "      <th>serum_sodium</th>\n",
       "    </tr>\n",
       "  </thead>\n",
       "  <tbody>\n",
       "    <tr>\n",
       "      <th>age</th>\n",
       "      <td>1.000000</td>\n",
       "      <td>-0.050282</td>\n",
       "      <td>0.078937</td>\n",
       "      <td>-0.133014</td>\n",
       "      <td>0.186379</td>\n",
       "      <td>-0.023404</td>\n",
       "    </tr>\n",
       "    <tr>\n",
       "      <th>creatinine_phosphokinase</th>\n",
       "      <td>-0.050282</td>\n",
       "      <td>1.000000</td>\n",
       "      <td>-0.078121</td>\n",
       "      <td>-0.029516</td>\n",
       "      <td>-0.063039</td>\n",
       "      <td>-0.073853</td>\n",
       "    </tr>\n",
       "    <tr>\n",
       "      <th>ejection_fraction</th>\n",
       "      <td>0.078937</td>\n",
       "      <td>-0.078121</td>\n",
       "      <td>1.000000</td>\n",
       "      <td>0.064572</td>\n",
       "      <td>-0.123291</td>\n",
       "      <td>0.103866</td>\n",
       "    </tr>\n",
       "    <tr>\n",
       "      <th>platelets</th>\n",
       "      <td>-0.133014</td>\n",
       "      <td>-0.029516</td>\n",
       "      <td>0.064572</td>\n",
       "      <td>1.000000</td>\n",
       "      <td>-0.046979</td>\n",
       "      <td>-0.047690</td>\n",
       "    </tr>\n",
       "    <tr>\n",
       "      <th>serum_creatinine</th>\n",
       "      <td>0.186379</td>\n",
       "      <td>-0.063039</td>\n",
       "      <td>-0.123291</td>\n",
       "      <td>-0.046979</td>\n",
       "      <td>1.000000</td>\n",
       "      <td>-0.209316</td>\n",
       "    </tr>\n",
       "    <tr>\n",
       "      <th>serum_sodium</th>\n",
       "      <td>-0.023404</td>\n",
       "      <td>-0.073853</td>\n",
       "      <td>0.103866</td>\n",
       "      <td>-0.047690</td>\n",
       "      <td>-0.209316</td>\n",
       "      <td>1.000000</td>\n",
       "    </tr>\n",
       "  </tbody>\n",
       "</table>\n",
       "</div>"
      ],
      "text/plain": [
       "                               age  creatinine_phosphokinase  \\\n",
       "age                       1.000000                 -0.050282   \n",
       "creatinine_phosphokinase -0.050282                  1.000000   \n",
       "ejection_fraction         0.078937                 -0.078121   \n",
       "platelets                -0.133014                 -0.029516   \n",
       "serum_creatinine          0.186379                 -0.063039   \n",
       "serum_sodium             -0.023404                 -0.073853   \n",
       "\n",
       "                          ejection_fraction  platelets  serum_creatinine  \\\n",
       "age                                0.078937  -0.133014          0.186379   \n",
       "creatinine_phosphokinase          -0.078121  -0.029516         -0.063039   \n",
       "ejection_fraction                  1.000000   0.064572         -0.123291   \n",
       "platelets                          0.064572   1.000000         -0.046979   \n",
       "serum_creatinine                  -0.123291  -0.046979          1.000000   \n",
       "serum_sodium                       0.103866  -0.047690         -0.209316   \n",
       "\n",
       "                          serum_sodium  \n",
       "age                          -0.023404  \n",
       "creatinine_phosphokinase     -0.073853  \n",
       "ejection_fraction             0.103866  \n",
       "platelets                    -0.047690  \n",
       "serum_creatinine             -0.209316  \n",
       "serum_sodium                  1.000000  "
      ]
     },
     "metadata": {},
     "output_type": "display_data"
    },
    {
     "data": {
      "text/html": [
       "<div>\n",
       "<style scoped>\n",
       "    .dataframe tbody tr th:only-of-type {\n",
       "        vertical-align: middle;\n",
       "    }\n",
       "\n",
       "    .dataframe tbody tr th {\n",
       "        vertical-align: top;\n",
       "    }\n",
       "\n",
       "    .dataframe thead th {\n",
       "        text-align: right;\n",
       "    }\n",
       "</style>\n",
       "<table border=\"1\" class=\"dataframe\">\n",
       "  <thead>\n",
       "    <tr style=\"text-align: right;\">\n",
       "      <th></th>\n",
       "      <th>age</th>\n",
       "      <th>creatinine_phosphokinase</th>\n",
       "      <th>ejection_fraction</th>\n",
       "      <th>platelets</th>\n",
       "      <th>serum_creatinine</th>\n",
       "      <th>serum_sodium</th>\n",
       "    </tr>\n",
       "  </thead>\n",
       "  <tbody>\n",
       "    <tr>\n",
       "      <th>age</th>\n",
       "      <td>1.000000</td>\n",
       "      <td>-0.231518</td>\n",
       "      <td>0.257411</td>\n",
       "      <td>0.090547</td>\n",
       "      <td>0.126178</td>\n",
       "      <td>0.051528</td>\n",
       "    </tr>\n",
       "    <tr>\n",
       "      <th>creatinine_phosphokinase</th>\n",
       "      <td>-0.231518</td>\n",
       "      <td>1.000000</td>\n",
       "      <td>-0.002264</td>\n",
       "      <td>0.038797</td>\n",
       "      <td>-0.123042</td>\n",
       "      <td>0.185069</td>\n",
       "    </tr>\n",
       "    <tr>\n",
       "      <th>ejection_fraction</th>\n",
       "      <td>0.257411</td>\n",
       "      <td>-0.002264</td>\n",
       "      <td>1.000000</td>\n",
       "      <td>0.034633</td>\n",
       "      <td>0.118348</td>\n",
       "      <td>0.196832</td>\n",
       "    </tr>\n",
       "    <tr>\n",
       "      <th>platelets</th>\n",
       "      <td>0.090547</td>\n",
       "      <td>0.038797</td>\n",
       "      <td>0.034633</td>\n",
       "      <td>1.000000</td>\n",
       "      <td>-0.046436</td>\n",
       "      <td>0.157854</td>\n",
       "    </tr>\n",
       "    <tr>\n",
       "      <th>serum_creatinine</th>\n",
       "      <td>0.126178</td>\n",
       "      <td>-0.123042</td>\n",
       "      <td>0.118348</td>\n",
       "      <td>-0.046436</td>\n",
       "      <td>1.000000</td>\n",
       "      <td>-0.204203</td>\n",
       "    </tr>\n",
       "    <tr>\n",
       "      <th>serum_sodium</th>\n",
       "      <td>0.051528</td>\n",
       "      <td>0.185069</td>\n",
       "      <td>0.196832</td>\n",
       "      <td>0.157854</td>\n",
       "      <td>-0.204203</td>\n",
       "      <td>1.000000</td>\n",
       "    </tr>\n",
       "  </tbody>\n",
       "</table>\n",
       "</div>"
      ],
      "text/plain": [
       "                               age  creatinine_phosphokinase  \\\n",
       "age                       1.000000                 -0.231518   \n",
       "creatinine_phosphokinase -0.231518                  1.000000   \n",
       "ejection_fraction         0.257411                 -0.002264   \n",
       "platelets                 0.090547                  0.038797   \n",
       "serum_creatinine          0.126178                 -0.123042   \n",
       "serum_sodium              0.051528                  0.185069   \n",
       "\n",
       "                          ejection_fraction  platelets  serum_creatinine  \\\n",
       "age                                0.257411   0.090547          0.126178   \n",
       "creatinine_phosphokinase          -0.002264   0.038797         -0.123042   \n",
       "ejection_fraction                  1.000000   0.034633          0.118348   \n",
       "platelets                          0.034633   1.000000         -0.046436   \n",
       "serum_creatinine                   0.118348  -0.046436          1.000000   \n",
       "serum_sodium                       0.196832   0.157854         -0.204203   \n",
       "\n",
       "                          serum_sodium  \n",
       "age                           0.051528  \n",
       "creatinine_phosphokinase      0.185069  \n",
       "ejection_fraction             0.196832  \n",
       "platelets                     0.157854  \n",
       "serum_creatinine             -0.204203  \n",
       "serum_sodium                  1.000000  "
      ]
     },
     "metadata": {},
     "output_type": "display_data"
    },
    {
     "name": "stdout",
     "output_type": "stream",
     "text": [
      "False\n"
     ]
    },
    {
     "data": {
      "image/png": "[encoded data removed]",
      "text/plain": [
       "<Figure size 432x288 with 1 Axes>"
      ]
     },
     "metadata": {
      "needs_background": "light"
     },
     "output_type": "display_data"
    },
    {
     "data": {
      "image/png": "[encoded data removed]",
      "text/plain": [
       "<Figure size 432x288 with 1 Axes>"
      ]
     },
     "metadata": {
      "needs_background": "light"
     },
     "output_type": "display_data"
    },
    {
     "data": {
      "image/png": "[encoded data removed]",
      "text/plain": [
       "<Figure size 432x288 with 1 Axes>"
      ]
     },
     "metadata": {
      "needs_background": "light"
     },
     "output_type": "display_data"
    },
    {
     "data": {
      "image/png": "[encoded data removed]",
      "text/plain": [
       "<Figure size 432x288 with 1 Axes>"
      ]
     },
     "metadata": {
      "needs_background": "light"
     },
     "output_type": "display_data"
    },
    {
     "data": {
      "image/png": "[encoded data removed]",
      "text/plain": [
       "<Figure size 432x288 with 1 Axes>"
      ]
     },
     "metadata": {
      "needs_background": "light"
     },
     "output_type": "display_data"
    },
    {
     "data": {
      "image/png": "[encoded data removed]",
      "text/plain": [
       "<Figure size 432x288 with 1 Axes>"
      ]
     },
     "metadata": {
      "needs_background": "light"
     },
     "output_type": "display_data"
    },
    {
     "data": {
      "image/png": "[encoded data removed]",
      "text/plain": [
       "<Figure size 432x288 with 1 Axes>"
      ]
     },
     "metadata": {
      "needs_background": "light"
     },
     "output_type": "display_data"
    },
    {
     "data": {
      "image/png": "[encoded data removed]",
      "text/plain": [
       "<Figure size 432x288 with 1 Axes>"
      ]
     },
     "metadata": {
      "needs_background": "light"
     },
     "output_type": "display_data"
    },
    {
     "data": {
      "image/png": "[encoded data removed]",
      "text/plain": [
       "<Figure size 432x288 with 1 Axes>"
      ]
     },
     "metadata": {
      "needs_background": "light"
     },
     "output_type": "display_data"
    },
    {
     "data": {
      "image/png": "[encoded data removed]",
      "text/plain": [
       "<Figure size 432x288 with 1 Axes>"
      ]
     },
     "metadata": {
      "needs_background": "light"
     },
     "output_type": "display_data"
    },
    {
     "data": {
      "image/png": "[encoded data removed]",
      "text/plain": [
       "<Figure size 432x288 with 1 Axes>"
      ]
     },
     "metadata": {
      "needs_background": "light"
     },
     "output_type": "display_data"
    },
    {
     "data": {
      "image/png": "[encoded data removed]",
      "text/plain": [
       "<Figure size 432x288 with 1 Axes>"
      ]
     },
     "metadata": {
      "needs_background": "light"
     },
     "output_type": "display_data"
    }
   ],
   "source": [
    "import matplotlib.pyplot as plt\n",
    "\n",
    "# The predictors have some correlation within the classes (against GNB).\n",
    "display(X_0.corr())\n",
    "display(X_1.corr())\n",
    "\n",
    "# The covariances within the classes differ (against LDA).\n",
    "print(np.allclose(Sigma_0, Sigma_1))\n",
    "\n",
    "# The predictors are not all Gaussian within the classes (against all).\n",
    "for k in range(X_0.shape[1]):\n",
    "    plt.hist(X_0.iloc[:,k])\n",
    "    plt.show()\n",
    "for k in range(X_1.shape[1]):\n",
    "    plt.hist(X_1.iloc[:,k])\n",
    "    plt.show()\n",
    "    \n",
    "# Despite the assumptions being violated, the models still perform better than random classification."
   ]
  }
 ],
 "metadata": {
  "kernelspec": {
   "display_name": "base",
   "language": "python",
   "name": "python3"
  },
  "language_info": {
   "codemirror_mode": {
    "name": "ipython",
    "version": 3
   },
   "file_extension": ".py",
   "mimetype": "text/x-python",
   "name": "python",
   "nbconvert_exporter": "python",
   "pygments_lexer": "ipython3",
   "version": "3.9.7"
  },
  "vscode": {
   "interpreter": {
    "hash": "43129c23d79667d987760d8fda822d6cf9b94e4f6ff31aa29025e95d3c53fe91"
   }
  }
 },
 "nbformat": 4,
 "nbformat_minor": 5
}
