{
 "cells": [
  {
   "cell_type": "markdown",
   "id": "f74a0162",
   "metadata": {},
   "source": [
    "# 0\n",
    "`pulsar.csv` ([source](https://archive.ics.uci.edu/ml/datasets/HTRU2)) contains statistics from two types of signal from pulsar candidates: integrated profile and dispersion-measure signal-to-noise curve. Our goal is to select the best pulsar classifier on this data by cross-validation."
   ]
  },
  {
   "cell_type": "markdown",
   "id": "169e4be0",
   "metadata": {},
   "source": [
    "# 1\n",
    "Load and examine the dataset, noting how many instances of pulsar there are."
   ]
  },
  {
   "cell_type": "code",
   "execution_count": null,
   "id": "213756b1",
   "metadata": {},
   "outputs": [],
   "source": []
  },
  {
   "cell_type": "markdown",
   "id": "48c43c6b",
   "metadata": {},
   "source": [
    "# 2\n",
    "Split the data into training and test sets using [`sklearn.model_selection.StratifiedShuffleSplit`](https://scikit-learn.org/stable/modules/generated/sklearn.model_selection.StratifiedShuffleSplit.html). Verify that the stratified split was performed correctly."
   ]
  },
  {
   "cell_type": "code",
   "execution_count": null,
   "id": "12ac9b42",
   "metadata": {},
   "outputs": [],
   "source": []
  },
  {
   "cell_type": "markdown",
   "id": "9abd90d7",
   "metadata": {},
   "source": [
    "# 3\n",
    "We have covered the following classifiers:\n",
    "- kNN\n",
    "- LDA, QDA, GNB\n",
    "- decision trees, random forests\n",
    "- logistic regression\n",
    "- SVM\n",
    "\n",
    "Fit these models to the training data. Where necessary, seek optimal hyperparameters using [`sklearn.model_selection.GridSearchCV`](https://scikit-learn.org/stable/modules/generated/sklearn.model_selection.GridSearchCV.html). If performing standardization of the data, use [`sklearn.pipeline.Pipeline`](https://scikit-learn.org/stable/modules/generated/sklearn.pipeline.Pipeline.html) to ensure validation sets are "
   ]
  },
  {
   "cell_type": "code",
   "execution_count": null,
   "id": "0cfb7466",
   "metadata": {},
   "outputs": [],
   "source": []
  },
  {
   "cell_type": "markdown",
   "id": "2799d5f7",
   "metadata": {},
   "source": [
    "# 4 \n",
    "Which model has the best test performance and what were the hyperparameters used in its training?"
   ]
  },
  {
   "cell_type": "code",
   "execution_count": null,
   "id": "98b69f4d",
   "metadata": {
    "scrolled": true
   },
   "outputs": [],
   "source": []
  }
 ],
 "metadata": {
  "kernelspec": {
   "display_name": "Python 3 (ipykernel)",
   "language": "python",
   "name": "python3"
  },
  "language_info": {
   "codemirror_mode": {
    "name": "ipython",
    "version": 3
   },
   "file_extension": ".py",
   "mimetype": "text/x-python",
   "name": "python",
   "nbconvert_exporter": "python",
   "pygments_lexer": "ipython3",
   "version": "3.8.10"
  }
 },
 "nbformat": 4,
 "nbformat_minor": 5
}
